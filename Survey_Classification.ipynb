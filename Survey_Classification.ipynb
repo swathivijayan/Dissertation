{
 "cells": [
  {
   "cell_type": "code",
   "execution_count": 88,
   "metadata": {
    "id": "uvyMxyXEyoAp"
   },
   "outputs": [],
   "source": [
    "import nltk\n",
    "import pandas as pd\n",
    "import numpy as np\n",
    "import re\n",
    "import matplotlib.pyplot as plt\n",
    "import seaborn as sns\n",
    "import tensorflow as tf"
   ]
  },
  {
   "cell_type": "code",
   "execution_count": 89,
   "metadata": {
    "id": "iw74edFQyuCX"
   },
   "outputs": [],
   "source": [
    "import warnings\n",
    "warnings.filterwarnings('ignore')\n",
    "warnings.simplefilter('ignore')"
   ]
  },
  {
   "cell_type": "code",
   "execution_count": 90,
   "metadata": {
    "id": "dYaathM_y3y8"
   },
   "outputs": [],
   "source": [
    "import io\n",
    "dataset = pd.read_excel('RCNIC_covid_lable.xlsx')"
   ]
  },
  {
   "cell_type": "code",
   "execution_count": 87,
   "metadata": {
    "colab": {
     "base_uri": "https://localhost:8080/"
    },
    "id": "CrueZhLOzV_i",
    "outputId": "1d9389bd-8094-4973-ab99-b48bfda94557"
   },
   "outputs": [
    {
     "data": {
      "text/plain": [
       "False"
      ]
     },
     "execution_count": 87,
     "metadata": {},
     "output_type": "execute_result"
    }
   ],
   "source": [
    "dataset['QuestionGroupName'].isnull().values.any()"
   ]
  },
  {
   "cell_type": "code",
   "execution_count": 91,
   "metadata": {
    "id": "wF1n5ZJ9zdW6"
   },
   "outputs": [],
   "source": [
    "dataset = dataset.dropna(axis=0, subset=['QuestionGroupName'])"
   ]
  },
  {
   "cell_type": "code",
   "execution_count": 92,
   "metadata": {
    "id": "hCKC0XrWzj7T"
   },
   "outputs": [],
   "source": [
    "dataset = dataset.dropna(axis=0, subset=['QuestionLiteral'])\n"
   ]
  },
  {
   "cell_type": "code",
   "execution_count": 93,
   "metadata": {
    "colab": {
     "base_uri": "https://localhost:8080/"
    },
    "id": "NJ3qgwAiznGb",
    "outputId": "14466472-a13d-41d3-c749-720ae53165ce"
   },
   "outputs": [
    {
     "data": {
      "text/plain": [
       "False"
      ]
     },
     "execution_count": 93,
     "metadata": {},
     "output_type": "execute_result"
    }
   ],
   "source": [
    "dataset['QuestionLiteral'].isnull().values.any()\n"
   ]
  },
  {
   "cell_type": "code",
   "execution_count": 94,
   "metadata": {
    "id": "nKyinICUzpqV"
   },
   "outputs": [],
   "source": [
    "dataset[\"QuestionGroupName\"] = dataset[\"QuestionGroupName\"].apply(np.int64)\n"
   ]
  },
  {
   "cell_type": "code",
   "execution_count": 95,
   "metadata": {
    "colab": {
     "base_uri": "https://localhost:8080/",
     "height": 747
    },
    "id": "Y864MVXqzsW0",
    "outputId": "05b5c938-8c64-4d81-d26b-37f796eb213c"
   },
   "outputs": [
    {
     "data": {
      "text/html": [
       "<div>\n",
       "<style scoped>\n",
       "    .dataframe tbody tr th:only-of-type {\n",
       "        vertical-align: middle;\n",
       "    }\n",
       "\n",
       "    .dataframe tbody tr th {\n",
       "        vertical-align: top;\n",
       "    }\n",
       "\n",
       "    .dataframe thead th {\n",
       "        text-align: right;\n",
       "    }\n",
       "</style>\n",
       "<table border=\"1\" class=\"dataframe\">\n",
       "  <thead>\n",
       "    <tr style=\"text-align: right;\">\n",
       "      <th></th>\n",
       "      <th>InstrumentURN</th>\n",
       "      <th>Instrument</th>\n",
       "      <th>QuestionGroupURN</th>\n",
       "      <th>QuestionGroupName</th>\n",
       "      <th>QuestionGroupLabel</th>\n",
       "      <th>QuestionURN</th>\n",
       "      <th>QuestionLiteral</th>\n",
       "      <th>ResponseType</th>\n",
       "      <th>Response</th>\n",
       "    </tr>\n",
       "  </thead>\n",
       "  <tbody>\n",
       "    <tr>\n",
       "      <th>0</th>\n",
       "      <td>urn:ddi:uk.lha:7b964926-77df-4fc7-8a7f-3c64fbd...</td>\n",
       "      <td>1962 Personal Questionnaire</td>\n",
       "      <td>urn:ddi:uk.closer:1c132240-77f5-44cb-9c3c-4e37...</td>\n",
       "      <td>10903</td>\n",
       "      <td>Income</td>\n",
       "      <td>urn:ddi:uk.lha:d888e0ca-ebcf-47ad-ae37-1c951b3...</td>\n",
       "      <td>What pay or salary do you expect to be getting...</td>\n",
       "      <td>Numeric</td>\n",
       "      <td>NaN</td>\n",
       "    </tr>\n",
       "    <tr>\n",
       "      <th>1</th>\n",
       "      <td>urn:ddi:uk.lha:7b964926-77df-4fc7-8a7f-3c64fbd...</td>\n",
       "      <td>1962 Personal Questionnaire</td>\n",
       "      <td>urn:ddi:uk.closer:e6c765b8-5963-4e27-95df-9661...</td>\n",
       "      <td>115</td>\n",
       "      <td>Administration</td>\n",
       "      <td>urn:ddi:uk.lha:8b655a25-58d6-4af9-bb53-1dc815b...</td>\n",
       "      <td>Ref. No.</td>\n",
       "      <td>Text</td>\n",
       "      <td>NaN</td>\n",
       "    </tr>\n",
       "    <tr>\n",
       "      <th>2</th>\n",
       "      <td>urn:ddi:uk.lha:7b964926-77df-4fc7-8a7f-3c64fbd...</td>\n",
       "      <td>1962 Personal Questionnaire</td>\n",
       "      <td>urn:ddi:uk.closer:1e7db3f1-46cf-4244-95e8-a700...</td>\n",
       "      <td>10709</td>\n",
       "      <td>Leisure activities</td>\n",
       "      <td>urn:ddi:uk.lha:7faf3fd4-a8f7-4766-87e4-2a39a60...</td>\n",
       "      <td>What clubs do you belong to? How often do you ...</td>\n",
       "      <td>Numeric</td>\n",
       "      <td>NaN</td>\n",
       "    </tr>\n",
       "    <tr>\n",
       "      <th>3</th>\n",
       "      <td>urn:ddi:uk.lha:7b964926-77df-4fc7-8a7f-3c64fbd...</td>\n",
       "      <td>1962 Personal Questionnaire</td>\n",
       "      <td>urn:ddi:uk.closer:1e7db3f1-46cf-4244-95e8-a700...</td>\n",
       "      <td>10709</td>\n",
       "      <td>Leisure activities</td>\n",
       "      <td>urn:ddi:uk.lha:c7a87094-dc16-4596-a367-318a429...</td>\n",
       "      <td>What are the main things you do in your spare ...</td>\n",
       "      <td>Text</td>\n",
       "      <td>NaN</td>\n",
       "    </tr>\n",
       "    <tr>\n",
       "      <th>4</th>\n",
       "      <td>urn:ddi:uk.lha:7b964926-77df-4fc7-8a7f-3c64fbd...</td>\n",
       "      <td>1962 Personal Questionnaire</td>\n",
       "      <td>urn:ddi:uk.closer:6dcf7f58-5225-4f93-a16f-a18d...</td>\n",
       "      <td>10901</td>\n",
       "      <td>Occupation | Employment</td>\n",
       "      <td>urn:ddi:uk.lha:cba9bbbd-c1ac-4e54-93ed-3c74fa9...</td>\n",
       "      <td>What will you have to do to get that job? What...</td>\n",
       "      <td>Text</td>\n",
       "      <td>NaN</td>\n",
       "    </tr>\n",
       "    <tr>\n",
       "      <th>5</th>\n",
       "      <td>urn:ddi:uk.lha:7b964926-77df-4fc7-8a7f-3c64fbd...</td>\n",
       "      <td>1962 Personal Questionnaire</td>\n",
       "      <td>urn:ddi:uk.closer:183a5213-9b0d-4934-8516-670e...</td>\n",
       "      <td>10402</td>\n",
       "      <td>Personality | Temperament</td>\n",
       "      <td>urn:ddi:uk.lha:cab9cd2b-748a-4cd0-a7c5-5f383eb...</td>\n",
       "      <td>Is there anything about your job, or your life...</td>\n",
       "      <td>Text</td>\n",
       "      <td>NaN</td>\n",
       "    </tr>\n",
       "    <tr>\n",
       "      <th>6</th>\n",
       "      <td>urn:ddi:uk.lha:7b964926-77df-4fc7-8a7f-3c64fbd...</td>\n",
       "      <td>1962 Personal Questionnaire</td>\n",
       "      <td>urn:ddi:uk.closer:6dcf7f58-5225-4f93-a16f-a18d...</td>\n",
       "      <td>10901</td>\n",
       "      <td>Occupation | Employment</td>\n",
       "      <td>urn:ddi:uk.lha:fcad3db0-a68b-49ad-a3f7-61c984a...</td>\n",
       "      <td>What is your present job?</td>\n",
       "      <td>Text</td>\n",
       "      <td>NaN</td>\n",
       "    </tr>\n",
       "    <tr>\n",
       "      <th>7</th>\n",
       "      <td>urn:ddi:uk.lha:7b964926-77df-4fc7-8a7f-3c64fbd...</td>\n",
       "      <td>1962 Personal Questionnaire</td>\n",
       "      <td>urn:ddi:uk.closer:1e7db3f1-46cf-4244-95e8-a700...</td>\n",
       "      <td>10709</td>\n",
       "      <td>Leisure activities</td>\n",
       "      <td>urn:ddi:uk.lha:aeb8fae6-7783-40d4-9d55-6cc6ad9...</td>\n",
       "      <td>What clubs do you belong to? How often do you ...</td>\n",
       "      <td>Numeric</td>\n",
       "      <td>NaN</td>\n",
       "    </tr>\n",
       "    <tr>\n",
       "      <th>8</th>\n",
       "      <td>urn:ddi:uk.lha:7b964926-77df-4fc7-8a7f-3c64fbd...</td>\n",
       "      <td>1962 Personal Questionnaire</td>\n",
       "      <td>urn:ddi:uk.closer:1e7db3f1-46cf-4244-95e8-a700...</td>\n",
       "      <td>10709</td>\n",
       "      <td>Leisure activities</td>\n",
       "      <td>urn:ddi:uk.lha:d1ca9cb7-1e3f-4d84-8f1c-6db653d...</td>\n",
       "      <td>What clubs do you belong to? How often do you ...</td>\n",
       "      <td>Numeric</td>\n",
       "      <td>NaN</td>\n",
       "    </tr>\n",
       "    <tr>\n",
       "      <th>9</th>\n",
       "      <td>urn:ddi:uk.lha:7b964926-77df-4fc7-8a7f-3c64fbd...</td>\n",
       "      <td>1962 Personal Questionnaire</td>\n",
       "      <td>urn:ddi:uk.closer:1e7db3f1-46cf-4244-95e8-a700...</td>\n",
       "      <td>10709</td>\n",
       "      <td>Leisure activities</td>\n",
       "      <td>urn:ddi:uk.lha:f4c45a14-2734-4fd3-acce-6edd0b7...</td>\n",
       "      <td>What clubs do you belong to? How often do you ...</td>\n",
       "      <td>Numeric</td>\n",
       "      <td>NaN</td>\n",
       "    </tr>\n",
       "  </tbody>\n",
       "</table>\n",
       "</div>"
      ],
      "text/plain": [
       "                                       InstrumentURN  \\\n",
       "0  urn:ddi:uk.lha:7b964926-77df-4fc7-8a7f-3c64fbd...   \n",
       "1  urn:ddi:uk.lha:7b964926-77df-4fc7-8a7f-3c64fbd...   \n",
       "2  urn:ddi:uk.lha:7b964926-77df-4fc7-8a7f-3c64fbd...   \n",
       "3  urn:ddi:uk.lha:7b964926-77df-4fc7-8a7f-3c64fbd...   \n",
       "4  urn:ddi:uk.lha:7b964926-77df-4fc7-8a7f-3c64fbd...   \n",
       "5  urn:ddi:uk.lha:7b964926-77df-4fc7-8a7f-3c64fbd...   \n",
       "6  urn:ddi:uk.lha:7b964926-77df-4fc7-8a7f-3c64fbd...   \n",
       "7  urn:ddi:uk.lha:7b964926-77df-4fc7-8a7f-3c64fbd...   \n",
       "8  urn:ddi:uk.lha:7b964926-77df-4fc7-8a7f-3c64fbd...   \n",
       "9  urn:ddi:uk.lha:7b964926-77df-4fc7-8a7f-3c64fbd...   \n",
       "\n",
       "                    Instrument  \\\n",
       "0  1962 Personal Questionnaire   \n",
       "1  1962 Personal Questionnaire   \n",
       "2  1962 Personal Questionnaire   \n",
       "3  1962 Personal Questionnaire   \n",
       "4  1962 Personal Questionnaire   \n",
       "5  1962 Personal Questionnaire   \n",
       "6  1962 Personal Questionnaire   \n",
       "7  1962 Personal Questionnaire   \n",
       "8  1962 Personal Questionnaire   \n",
       "9  1962 Personal Questionnaire   \n",
       "\n",
       "                                    QuestionGroupURN  QuestionGroupName  \\\n",
       "0  urn:ddi:uk.closer:1c132240-77f5-44cb-9c3c-4e37...              10903   \n",
       "1  urn:ddi:uk.closer:e6c765b8-5963-4e27-95df-9661...                115   \n",
       "2  urn:ddi:uk.closer:1e7db3f1-46cf-4244-95e8-a700...              10709   \n",
       "3  urn:ddi:uk.closer:1e7db3f1-46cf-4244-95e8-a700...              10709   \n",
       "4  urn:ddi:uk.closer:6dcf7f58-5225-4f93-a16f-a18d...              10901   \n",
       "5  urn:ddi:uk.closer:183a5213-9b0d-4934-8516-670e...              10402   \n",
       "6  urn:ddi:uk.closer:6dcf7f58-5225-4f93-a16f-a18d...              10901   \n",
       "7  urn:ddi:uk.closer:1e7db3f1-46cf-4244-95e8-a700...              10709   \n",
       "8  urn:ddi:uk.closer:1e7db3f1-46cf-4244-95e8-a700...              10709   \n",
       "9  urn:ddi:uk.closer:1e7db3f1-46cf-4244-95e8-a700...              10709   \n",
       "\n",
       "          QuestionGroupLabel  \\\n",
       "0                     Income   \n",
       "1             Administration   \n",
       "2         Leisure activities   \n",
       "3         Leisure activities   \n",
       "4    Occupation | Employment   \n",
       "5  Personality | Temperament   \n",
       "6    Occupation | Employment   \n",
       "7         Leisure activities   \n",
       "8         Leisure activities   \n",
       "9         Leisure activities   \n",
       "\n",
       "                                         QuestionURN  \\\n",
       "0  urn:ddi:uk.lha:d888e0ca-ebcf-47ad-ae37-1c951b3...   \n",
       "1  urn:ddi:uk.lha:8b655a25-58d6-4af9-bb53-1dc815b...   \n",
       "2  urn:ddi:uk.lha:7faf3fd4-a8f7-4766-87e4-2a39a60...   \n",
       "3  urn:ddi:uk.lha:c7a87094-dc16-4596-a367-318a429...   \n",
       "4  urn:ddi:uk.lha:cba9bbbd-c1ac-4e54-93ed-3c74fa9...   \n",
       "5  urn:ddi:uk.lha:cab9cd2b-748a-4cd0-a7c5-5f383eb...   \n",
       "6  urn:ddi:uk.lha:fcad3db0-a68b-49ad-a3f7-61c984a...   \n",
       "7  urn:ddi:uk.lha:aeb8fae6-7783-40d4-9d55-6cc6ad9...   \n",
       "8  urn:ddi:uk.lha:d1ca9cb7-1e3f-4d84-8f1c-6db653d...   \n",
       "9  urn:ddi:uk.lha:f4c45a14-2734-4fd3-acce-6edd0b7...   \n",
       "\n",
       "                                     QuestionLiteral ResponseType Response  \n",
       "0  What pay or salary do you expect to be getting...      Numeric      NaN  \n",
       "1                                           Ref. No.         Text      NaN  \n",
       "2  What clubs do you belong to? How often do you ...      Numeric      NaN  \n",
       "3  What are the main things you do in your spare ...         Text      NaN  \n",
       "4  What will you have to do to get that job? What...         Text      NaN  \n",
       "5  Is there anything about your job, or your life...         Text      NaN  \n",
       "6                          What is your present job?         Text      NaN  \n",
       "7  What clubs do you belong to? How often do you ...      Numeric      NaN  \n",
       "8  What clubs do you belong to? How often do you ...      Numeric      NaN  \n",
       "9  What clubs do you belong to? How often do you ...      Numeric      NaN  "
      ]
     },
     "execution_count": 95,
     "metadata": {},
     "output_type": "execute_result"
    }
   ],
   "source": [
    "dataset.head(10)"
   ]
  },
  {
   "cell_type": "code",
   "execution_count": 10,
   "metadata": {
    "id": "Ct3Df14azvet"
   },
   "outputs": [],
   "source": [
    "from nltk.corpus import stopwords"
   ]
  },
  {
   "cell_type": "code",
   "execution_count": 96,
   "metadata": {
    "colab": {
     "base_uri": "https://localhost:8080/",
     "height": 35
    },
    "id": "KFvaPWSlz1rP",
    "outputId": "ba63b764-4054-400c-8289-dc541ab71562"
   },
   "outputs": [
    {
     "data": {
      "text/plain": [
       "'What will you have to do to get that job? What jobs will you have to do first, what exams must you pass, and so on?'"
      ]
     },
     "execution_count": 96,
     "metadata": {},
     "output_type": "execute_result"
    }
   ],
   "source": [
    "dataset.QuestionLiteral[4]"
   ]
  },
  {
   "cell_type": "code",
   "execution_count": 97,
   "metadata": {
    "colab": {
     "base_uri": "https://localhost:8080/",
     "height": 35
    },
    "id": "VBdb51ru8i2P",
    "outputId": "d221e0dd-e996-43ed-8322-f4e21f38fa68"
   },
   "outputs": [
    {
     "data": {
      "text/plain": [
       "'what pay or salary do you expect to be getting then â£  per week'"
      ]
     },
     "execution_count": 97,
     "metadata": {},
     "output_type": "execute_result"
    }
   ],
   "source": [
    "import re\n",
    "import string\n",
    "\n",
    "#Removing the punctuations\n",
    "dataset['QuestionLiteral']=dataset['QuestionLiteral'].map(lambda x: re.sub('[,\\.!?]', '', x))\n",
    "#Making it in lowercase\n",
    "\n",
    "dataset['QuestionLiteral']=dataset['QuestionLiteral'].map(lambda x: x.lower())\n",
    "\n",
    "#Print the first few rows\n",
    "\n",
    "#Removing the /n and replacing with white spaces\n",
    "dataset['QuestionLiteral']=dataset['QuestionLiteral'].map(lambda x: re.sub(\"\\n\", \" \", x))\n",
    "\n",
    "dataset['QuestionLiteral'][0]\n"
   ]
  },
  {
   "cell_type": "code",
   "execution_count": null,
   "metadata": {
    "id": "yVl3Y7S0z_GR"
   },
   "outputs": [],
   "source": [
    "from nltk.stem import WordNetLemmatizer, PorterStemmer\n",
    "lemmatizer = WordNetLemmatizer()"
   ]
  },
  {
   "cell_type": "code",
   "execution_count": null,
   "metadata": {
    "id": "m37K7a1y0jb3"
   },
   "outputs": [],
   "source": []
  },
  {
   "cell_type": "code",
   "execution_count": 98,
   "metadata": {
    "colab": {
     "base_uri": "https://localhost:8080/",
     "height": 35
    },
    "id": "9qMyhkt10To2",
    "outputId": "04648b08-8b5e-4fbd-e28b-7a350b6da9ad"
   },
   "outputs": [
    {
     "data": {
      "text/plain": [
       "'what clubs do you belong to how often do you go youth club run by church  times a month'"
      ]
     },
     "execution_count": 98,
     "metadata": {},
     "output_type": "execute_result"
    }
   ],
   "source": [
    "\n",
    "dataset['QuestionLiteral'].iloc[8]"
   ]
  },
  {
   "cell_type": "code",
   "execution_count": 99,
   "metadata": {
    "id": "xdlVdBq400RL"
   },
   "outputs": [],
   "source": [
    "import pandas as pd\n",
    "import io"
   ]
  },
  {
   "cell_type": "code",
   "execution_count": 100,
   "metadata": {
    "id": "cb9B1C3h06WX"
   },
   "outputs": [],
   "source": [
    "data2 = pd.read_excel('Codes_1.xlsx')"
   ]
  },
  {
   "cell_type": "code",
   "execution_count": 101,
   "metadata": {
    "id": "QuZhnlM109n6"
   },
   "outputs": [],
   "source": [
    "df2 = data2. filter(['Level 1', 'Level 2','Colectica Code.1'])"
   ]
  },
  {
   "cell_type": "code",
   "execution_count": 102,
   "metadata": {
    "colab": {
     "base_uri": "https://localhost:8080/",
     "height": 423
    },
    "id": "npB6H8IB1DSu",
    "outputId": "d912550d-6c28-4bbe-b234-10931e8362a8"
   },
   "outputs": [
    {
     "data": {
      "text/html": [
       "<div>\n",
       "<style scoped>\n",
       "    .dataframe tbody tr th:only-of-type {\n",
       "        vertical-align: middle;\n",
       "    }\n",
       "\n",
       "    .dataframe tbody tr th {\n",
       "        vertical-align: top;\n",
       "    }\n",
       "\n",
       "    .dataframe thead th {\n",
       "        text-align: right;\n",
       "    }\n",
       "</style>\n",
       "<table border=\"1\" class=\"dataframe\">\n",
       "  <thead>\n",
       "    <tr style=\"text-align: right;\">\n",
       "      <th></th>\n",
       "      <th>Level 1</th>\n",
       "      <th>Level 2</th>\n",
       "      <th>Colectica Code.1</th>\n",
       "    </tr>\n",
       "  </thead>\n",
       "  <tbody>\n",
       "    <tr>\n",
       "      <th>0</th>\n",
       "      <td>Demographics</td>\n",
       "      <td>NaN</td>\n",
       "      <td>101.0</td>\n",
       "    </tr>\n",
       "    <tr>\n",
       "      <th>1</th>\n",
       "      <td>Demographics</td>\n",
       "      <td>Place of birth</td>\n",
       "      <td>10101.0</td>\n",
       "    </tr>\n",
       "    <tr>\n",
       "      <th>2</th>\n",
       "      <td>Demographics</td>\n",
       "      <td>Gender</td>\n",
       "      <td>10102.0</td>\n",
       "    </tr>\n",
       "    <tr>\n",
       "      <th>3</th>\n",
       "      <td>Demographics</td>\n",
       "      <td>Ethnic group</td>\n",
       "      <td>10103.0</td>\n",
       "    </tr>\n",
       "    <tr>\n",
       "      <th>4</th>\n",
       "      <td>Demographics</td>\n",
       "      <td>Language(s) spoken</td>\n",
       "      <td>10104.0</td>\n",
       "    </tr>\n",
       "    <tr>\n",
       "      <th>...</th>\n",
       "      <td>...</td>\n",
       "      <td>...</td>\n",
       "      <td>...</td>\n",
       "    </tr>\n",
       "    <tr>\n",
       "      <th>222</th>\n",
       "      <td>Covid-19</td>\n",
       "      <td>NaN</td>\n",
       "      <td>NaN</td>\n",
       "    </tr>\n",
       "    <tr>\n",
       "      <th>223</th>\n",
       "      <td>Covid-19</td>\n",
       "      <td>Pregnancy (CV19)</td>\n",
       "      <td>11614.0</td>\n",
       "    </tr>\n",
       "    <tr>\n",
       "      <th>224</th>\n",
       "      <td>Covid-19</td>\n",
       "      <td>NaN</td>\n",
       "      <td>NaN</td>\n",
       "    </tr>\n",
       "    <tr>\n",
       "      <th>225</th>\n",
       "      <td>Covid-19</td>\n",
       "      <td>NaN</td>\n",
       "      <td>NaN</td>\n",
       "    </tr>\n",
       "    <tr>\n",
       "      <th>226</th>\n",
       "      <td>Covid-19</td>\n",
       "      <td>Administration (CV19)</td>\n",
       "      <td>11615.0</td>\n",
       "    </tr>\n",
       "  </tbody>\n",
       "</table>\n",
       "<p>227 rows × 3 columns</p>\n",
       "</div>"
      ],
      "text/plain": [
       "          Level 1                Level 2  Colectica Code.1\n",
       "0    Demographics                    NaN             101.0\n",
       "1    Demographics        Place of birth            10101.0\n",
       "2    Demographics                Gender            10102.0\n",
       "3    Demographics          Ethnic group            10103.0\n",
       "4    Demographics    Language(s) spoken            10104.0\n",
       "..            ...                    ...               ...\n",
       "222      Covid-19                    NaN               NaN\n",
       "223      Covid-19       Pregnancy (CV19)           11614.0\n",
       "224      Covid-19                    NaN               NaN\n",
       "225      Covid-19                    NaN               NaN\n",
       "226      Covid-19  Administration (CV19)           11615.0\n",
       "\n",
       "[227 rows x 3 columns]"
      ]
     },
     "execution_count": 102,
     "metadata": {},
     "output_type": "execute_result"
    }
   ],
   "source": [
    "df2"
   ]
  },
  {
   "cell_type": "code",
   "execution_count": 103,
   "metadata": {
    "id": "xagQIDy51HWu"
   },
   "outputs": [],
   "source": [
    "df = dataset"
   ]
  },
  {
   "cell_type": "code",
   "execution_count": 104,
   "metadata": {
    "colab": {
     "base_uri": "https://localhost:8080/",
     "height": 790
    },
    "id": "lE-Z5-C_1KLI",
    "outputId": "e6883b06-ec6e-49c1-e39e-529a944df1e0"
   },
   "outputs": [
    {
     "data": {
      "text/html": [
       "<div>\n",
       "<style scoped>\n",
       "    .dataframe tbody tr th:only-of-type {\n",
       "        vertical-align: middle;\n",
       "    }\n",
       "\n",
       "    .dataframe tbody tr th {\n",
       "        vertical-align: top;\n",
       "    }\n",
       "\n",
       "    .dataframe thead th {\n",
       "        text-align: right;\n",
       "    }\n",
       "</style>\n",
       "<table border=\"1\" class=\"dataframe\">\n",
       "  <thead>\n",
       "    <tr style=\"text-align: right;\">\n",
       "      <th></th>\n",
       "      <th>InstrumentURN</th>\n",
       "      <th>Instrument</th>\n",
       "      <th>QuestionGroupURN</th>\n",
       "      <th>QuestionGroupName</th>\n",
       "      <th>QuestionGroupLabel</th>\n",
       "      <th>QuestionURN</th>\n",
       "      <th>QuestionLiteral</th>\n",
       "      <th>ResponseType</th>\n",
       "      <th>Response</th>\n",
       "    </tr>\n",
       "  </thead>\n",
       "  <tbody>\n",
       "    <tr>\n",
       "      <th>0</th>\n",
       "      <td>urn:ddi:uk.lha:7b964926-77df-4fc7-8a7f-3c64fbd...</td>\n",
       "      <td>1962 Personal Questionnaire</td>\n",
       "      <td>urn:ddi:uk.closer:1c132240-77f5-44cb-9c3c-4e37...</td>\n",
       "      <td>10903</td>\n",
       "      <td>Income</td>\n",
       "      <td>urn:ddi:uk.lha:d888e0ca-ebcf-47ad-ae37-1c951b3...</td>\n",
       "      <td>what pay or salary do you expect to be getting...</td>\n",
       "      <td>Numeric</td>\n",
       "      <td>NaN</td>\n",
       "    </tr>\n",
       "    <tr>\n",
       "      <th>1</th>\n",
       "      <td>urn:ddi:uk.lha:7b964926-77df-4fc7-8a7f-3c64fbd...</td>\n",
       "      <td>1962 Personal Questionnaire</td>\n",
       "      <td>urn:ddi:uk.closer:e6c765b8-5963-4e27-95df-9661...</td>\n",
       "      <td>115</td>\n",
       "      <td>Administration</td>\n",
       "      <td>urn:ddi:uk.lha:8b655a25-58d6-4af9-bb53-1dc815b...</td>\n",
       "      <td>ref no</td>\n",
       "      <td>Text</td>\n",
       "      <td>NaN</td>\n",
       "    </tr>\n",
       "    <tr>\n",
       "      <th>2</th>\n",
       "      <td>urn:ddi:uk.lha:7b964926-77df-4fc7-8a7f-3c64fbd...</td>\n",
       "      <td>1962 Personal Questionnaire</td>\n",
       "      <td>urn:ddi:uk.closer:1e7db3f1-46cf-4244-95e8-a700...</td>\n",
       "      <td>10709</td>\n",
       "      <td>Leisure activities</td>\n",
       "      <td>urn:ddi:uk.lha:7faf3fd4-a8f7-4766-87e4-2a39a60...</td>\n",
       "      <td>what clubs do you belong to how often do you g...</td>\n",
       "      <td>Numeric</td>\n",
       "      <td>NaN</td>\n",
       "    </tr>\n",
       "    <tr>\n",
       "      <th>3</th>\n",
       "      <td>urn:ddi:uk.lha:7b964926-77df-4fc7-8a7f-3c64fbd...</td>\n",
       "      <td>1962 Personal Questionnaire</td>\n",
       "      <td>urn:ddi:uk.closer:1e7db3f1-46cf-4244-95e8-a700...</td>\n",
       "      <td>10709</td>\n",
       "      <td>Leisure activities</td>\n",
       "      <td>urn:ddi:uk.lha:c7a87094-dc16-4596-a367-318a429...</td>\n",
       "      <td>what are the main things you do in your spare ...</td>\n",
       "      <td>Text</td>\n",
       "      <td>NaN</td>\n",
       "    </tr>\n",
       "    <tr>\n",
       "      <th>4</th>\n",
       "      <td>urn:ddi:uk.lha:7b964926-77df-4fc7-8a7f-3c64fbd...</td>\n",
       "      <td>1962 Personal Questionnaire</td>\n",
       "      <td>urn:ddi:uk.closer:6dcf7f58-5225-4f93-a16f-a18d...</td>\n",
       "      <td>10901</td>\n",
       "      <td>Occupation | Employment</td>\n",
       "      <td>urn:ddi:uk.lha:cba9bbbd-c1ac-4e54-93ed-3c74fa9...</td>\n",
       "      <td>what will you have to do to get that job what ...</td>\n",
       "      <td>Text</td>\n",
       "      <td>NaN</td>\n",
       "    </tr>\n",
       "    <tr>\n",
       "      <th>...</th>\n",
       "      <td>...</td>\n",
       "      <td>...</td>\n",
       "      <td>...</td>\n",
       "      <td>...</td>\n",
       "      <td>...</td>\n",
       "      <td>...</td>\n",
       "      <td>...</td>\n",
       "      <td>...</td>\n",
       "      <td>...</td>\n",
       "    </tr>\n",
       "    <tr>\n",
       "      <th>42003</th>\n",
       "      <td>urn:ddi:uk.lha:ec6e7d6d-a776-4520-9e57-57bc8f2...</td>\n",
       "      <td>1964 University Questionnaire</td>\n",
       "      <td>urn:ddi:uk.closer:b5764a7d-951c-4e66-adfe-b00c...</td>\n",
       "      <td>10901</td>\n",
       "      <td>Occupation | Employment</td>\n",
       "      <td>urn:ddi:uk.lha:c6960108-d630-4f37-be5a-d84bcc0...</td>\n",
       "      <td>why do you want it</td>\n",
       "      <td>Text</td>\n",
       "      <td>NaN</td>\n",
       "    </tr>\n",
       "    <tr>\n",
       "      <th>42004</th>\n",
       "      <td>urn:ddi:uk.lha:ec6e7d6d-a776-4520-9e57-57bc8f2...</td>\n",
       "      <td>1964 University Questionnaire</td>\n",
       "      <td>urn:ddi:uk.closer:323cd70f-3a23-4bf7-9c64-080e...</td>\n",
       "      <td>10323</td>\n",
       "      <td>General health</td>\n",
       "      <td>urn:ddi:uk.lha:98d7c7f5-171f-47d6-bb44-e59a1d7...</td>\n",
       "      <td>have you ever had a squint</td>\n",
       "      <td>CodeList</td>\n",
       "      <td>1, yes | 0, no</td>\n",
       "    </tr>\n",
       "    <tr>\n",
       "      <th>42005</th>\n",
       "      <td>urn:ddi:uk.lha:ec6e7d6d-a776-4520-9e57-57bc8f2...</td>\n",
       "      <td>1964 University Questionnaire</td>\n",
       "      <td>urn:ddi:uk.closer:323cd70f-3a23-4bf7-9c64-080e...</td>\n",
       "      <td>10323</td>\n",
       "      <td>General health</td>\n",
       "      <td>urn:ddi:uk.lha:3506c2ad-073d-4117-8f6e-24fea22...</td>\n",
       "      <td>have you been to see them</td>\n",
       "      <td>CodeList</td>\n",
       "      <td>1, yes | 0, no</td>\n",
       "    </tr>\n",
       "    <tr>\n",
       "      <th>42006</th>\n",
       "      <td>urn:ddi:uk.lha:ec6e7d6d-a776-4520-9e57-57bc8f2...</td>\n",
       "      <td>1964 University Questionnaire</td>\n",
       "      <td>urn:ddi:uk.closer:517cd58d-6786-4421-93e3-e787...</td>\n",
       "      <td>10501</td>\n",
       "      <td>Health services utilisation</td>\n",
       "      <td>urn:ddi:uk.lha:e420ab0e-329e-4ef1-8e1d-2964193...</td>\n",
       "      <td>how many times</td>\n",
       "      <td>Numeric</td>\n",
       "      <td>NaN</td>\n",
       "    </tr>\n",
       "    <tr>\n",
       "      <th>42007</th>\n",
       "      <td>urn:ddi:uk.lha:ec6e7d6d-a776-4520-9e57-57bc8f2...</td>\n",
       "      <td>1964 University Questionnaire</td>\n",
       "      <td>urn:ddi:uk.closer:517cd58d-6786-4421-93e3-e787...</td>\n",
       "      <td>10501</td>\n",
       "      <td>Health services utilisation</td>\n",
       "      <td>urn:ddi:uk.lha:0f7d3d67-6e8b-4673-845a-b3e813f...</td>\n",
       "      <td>what have you been about</td>\n",
       "      <td>Text</td>\n",
       "      <td>NaN</td>\n",
       "    </tr>\n",
       "  </tbody>\n",
       "</table>\n",
       "<p>35132 rows × 9 columns</p>\n",
       "</div>"
      ],
      "text/plain": [
       "                                           InstrumentURN  \\\n",
       "0      urn:ddi:uk.lha:7b964926-77df-4fc7-8a7f-3c64fbd...   \n",
       "1      urn:ddi:uk.lha:7b964926-77df-4fc7-8a7f-3c64fbd...   \n",
       "2      urn:ddi:uk.lha:7b964926-77df-4fc7-8a7f-3c64fbd...   \n",
       "3      urn:ddi:uk.lha:7b964926-77df-4fc7-8a7f-3c64fbd...   \n",
       "4      urn:ddi:uk.lha:7b964926-77df-4fc7-8a7f-3c64fbd...   \n",
       "...                                                  ...   \n",
       "42003  urn:ddi:uk.lha:ec6e7d6d-a776-4520-9e57-57bc8f2...   \n",
       "42004  urn:ddi:uk.lha:ec6e7d6d-a776-4520-9e57-57bc8f2...   \n",
       "42005  urn:ddi:uk.lha:ec6e7d6d-a776-4520-9e57-57bc8f2...   \n",
       "42006  urn:ddi:uk.lha:ec6e7d6d-a776-4520-9e57-57bc8f2...   \n",
       "42007  urn:ddi:uk.lha:ec6e7d6d-a776-4520-9e57-57bc8f2...   \n",
       "\n",
       "                          Instrument  \\\n",
       "0        1962 Personal Questionnaire   \n",
       "1        1962 Personal Questionnaire   \n",
       "2        1962 Personal Questionnaire   \n",
       "3        1962 Personal Questionnaire   \n",
       "4        1962 Personal Questionnaire   \n",
       "...                              ...   \n",
       "42003  1964 University Questionnaire   \n",
       "42004  1964 University Questionnaire   \n",
       "42005  1964 University Questionnaire   \n",
       "42006  1964 University Questionnaire   \n",
       "42007  1964 University Questionnaire   \n",
       "\n",
       "                                        QuestionGroupURN  QuestionGroupName  \\\n",
       "0      urn:ddi:uk.closer:1c132240-77f5-44cb-9c3c-4e37...              10903   \n",
       "1      urn:ddi:uk.closer:e6c765b8-5963-4e27-95df-9661...                115   \n",
       "2      urn:ddi:uk.closer:1e7db3f1-46cf-4244-95e8-a700...              10709   \n",
       "3      urn:ddi:uk.closer:1e7db3f1-46cf-4244-95e8-a700...              10709   \n",
       "4      urn:ddi:uk.closer:6dcf7f58-5225-4f93-a16f-a18d...              10901   \n",
       "...                                                  ...                ...   \n",
       "42003  urn:ddi:uk.closer:b5764a7d-951c-4e66-adfe-b00c...              10901   \n",
       "42004  urn:ddi:uk.closer:323cd70f-3a23-4bf7-9c64-080e...              10323   \n",
       "42005  urn:ddi:uk.closer:323cd70f-3a23-4bf7-9c64-080e...              10323   \n",
       "42006  urn:ddi:uk.closer:517cd58d-6786-4421-93e3-e787...              10501   \n",
       "42007  urn:ddi:uk.closer:517cd58d-6786-4421-93e3-e787...              10501   \n",
       "\n",
       "                QuestionGroupLabel  \\\n",
       "0                           Income   \n",
       "1                   Administration   \n",
       "2               Leisure activities   \n",
       "3               Leisure activities   \n",
       "4          Occupation | Employment   \n",
       "...                            ...   \n",
       "42003      Occupation | Employment   \n",
       "42004               General health   \n",
       "42005               General health   \n",
       "42006  Health services utilisation   \n",
       "42007  Health services utilisation   \n",
       "\n",
       "                                             QuestionURN  \\\n",
       "0      urn:ddi:uk.lha:d888e0ca-ebcf-47ad-ae37-1c951b3...   \n",
       "1      urn:ddi:uk.lha:8b655a25-58d6-4af9-bb53-1dc815b...   \n",
       "2      urn:ddi:uk.lha:7faf3fd4-a8f7-4766-87e4-2a39a60...   \n",
       "3      urn:ddi:uk.lha:c7a87094-dc16-4596-a367-318a429...   \n",
       "4      urn:ddi:uk.lha:cba9bbbd-c1ac-4e54-93ed-3c74fa9...   \n",
       "...                                                  ...   \n",
       "42003  urn:ddi:uk.lha:c6960108-d630-4f37-be5a-d84bcc0...   \n",
       "42004  urn:ddi:uk.lha:98d7c7f5-171f-47d6-bb44-e59a1d7...   \n",
       "42005  urn:ddi:uk.lha:3506c2ad-073d-4117-8f6e-24fea22...   \n",
       "42006  urn:ddi:uk.lha:e420ab0e-329e-4ef1-8e1d-2964193...   \n",
       "42007  urn:ddi:uk.lha:0f7d3d67-6e8b-4673-845a-b3e813f...   \n",
       "\n",
       "                                         QuestionLiteral ResponseType  \\\n",
       "0      what pay or salary do you expect to be getting...      Numeric   \n",
       "1                                                 ref no         Text   \n",
       "2      what clubs do you belong to how often do you g...      Numeric   \n",
       "3      what are the main things you do in your spare ...         Text   \n",
       "4      what will you have to do to get that job what ...         Text   \n",
       "...                                                  ...          ...   \n",
       "42003                                 why do you want it         Text   \n",
       "42004                         have you ever had a squint     CodeList   \n",
       "42005                          have you been to see them     CodeList   \n",
       "42006                                     how many times      Numeric   \n",
       "42007                           what have you been about         Text   \n",
       "\n",
       "             Response  \n",
       "0                 NaN  \n",
       "1                 NaN  \n",
       "2                 NaN  \n",
       "3                 NaN  \n",
       "4                 NaN  \n",
       "...               ...  \n",
       "42003             NaN  \n",
       "42004  1, yes | 0, no  \n",
       "42005  1, yes | 0, no  \n",
       "42006             NaN  \n",
       "42007             NaN  \n",
       "\n",
       "[35132 rows x 9 columns]"
      ]
     },
     "execution_count": 104,
     "metadata": {},
     "output_type": "execute_result"
    }
   ],
   "source": [
    "df"
   ]
  },
  {
   "cell_type": "code",
   "execution_count": 105,
   "metadata": {
    "id": "6-k29Bqh1QUe"
   },
   "outputs": [],
   "source": [
    "df2 = df2.dropna(axis=0, subset=['Colectica Code.1'])"
   ]
  },
  {
   "cell_type": "code",
   "execution_count": 106,
   "metadata": {
    "id": "uF_hG3CP3gsg"
   },
   "outputs": [],
   "source": [
    "df2['Colectica Code.1'] = df2['Colectica Code.1'].apply(np.int64)"
   ]
  },
  {
   "cell_type": "code",
   "execution_count": 107,
   "metadata": {
    "id": "gbjqubgD1WGa"
   },
   "outputs": [],
   "source": [
    "df2.reset_index(drop=True,inplace=True)"
   ]
  },
  {
   "cell_type": "code",
   "execution_count": 108,
   "metadata": {
    "id": "7fbPXFbZ1Y4G"
   },
   "outputs": [],
   "source": [
    "df.reset_index(drop=True,inplace=True)"
   ]
  },
  {
   "cell_type": "code",
   "execution_count": 109,
   "metadata": {
    "colab": {
     "base_uri": "https://localhost:8080/",
     "height": 35
    },
    "id": "3hr1s8k71cq2",
    "outputId": "969440fa-051b-4548-df2c-73702ce198db"
   },
   "outputs": [
    {
     "data": {
      "text/plain": [
       "'what have you been about'"
      ]
     },
     "execution_count": 109,
     "metadata": {},
     "output_type": "execute_result"
    }
   ],
   "source": [
    "df['QuestionLiteral'].iloc[35131]"
   ]
  },
  {
   "cell_type": "code",
   "execution_count": 110,
   "metadata": {
    "id": "LwxkTsQ11dK_"
   },
   "outputs": [],
   "source": [
    "df['Level1']=\"\""
   ]
  },
  {
   "cell_type": "code",
   "execution_count": 111,
   "metadata": {
    "id": "Kw0u6CrP2lrq"
   },
   "outputs": [],
   "source": [
    "df['Level2']=\"\""
   ]
  },
  {
   "cell_type": "code",
   "execution_count": 112,
   "metadata": {
    "colab": {
     "base_uri": "https://localhost:8080/"
    },
    "id": "Y8tazztFOgu8",
    "outputId": "8810e7dc-f8a8-4494-aece-2a786b2b9f41"
   },
   "outputs": [
    {
     "data": {
      "text/plain": [
       "0         \n",
       "1         \n",
       "2         \n",
       "3         \n",
       "4         \n",
       "        ..\n",
       "35127     \n",
       "35128     \n",
       "35129     \n",
       "35130     \n",
       "35131     \n",
       "Name: Level2, Length: 35132, dtype: object"
      ]
     },
     "execution_count": 112,
     "metadata": {},
     "output_type": "execute_result"
    }
   ],
   "source": [
    "df.Level2"
   ]
  },
  {
   "cell_type": "code",
   "execution_count": 113,
   "metadata": {
    "colab": {
     "base_uri": "https://localhost:8080/"
    },
    "id": "sF6HlSdO2oPA",
    "outputId": "e96173fa-ba62-4e11-ab35-dcb520bc5ceb"
   },
   "outputs": [
    {
     "data": {
      "text/plain": [
       "10705"
      ]
     },
     "execution_count": 113,
     "metadata": {},
     "output_type": "execute_result"
    }
   ],
   "source": [
    "df['QuestionGroupName'][16]"
   ]
  },
  {
   "cell_type": "code",
   "execution_count": 114,
   "metadata": {
    "id": "UpKHjkoe2rga"
   },
   "outputs": [],
   "source": [
    "for i in range(0,len(dataset)):\n",
    "    df_new= pd.DataFrame()\n",
    "    #print(\"rrr\",i)\n",
    "    df_new= df2.loc[df2['Colectica Code.1'] == df['QuestionGroupName'][i]]\n",
    "    if (len(df)>0):\n",
    "      df['Level1'][i]=df_new['Level 1']\n",
    "      df['Level2'][i]=df_new['Level 2']"
   ]
  },
  {
   "cell_type": "code",
   "execution_count": 115,
   "metadata": {
    "colab": {
     "base_uri": "https://localhost:8080/",
     "height": 81
    },
    "id": "EDDS56xP2vX_",
    "outputId": "bb5f37cc-908c-4f43-8bc1-ecb3b382e061"
   },
   "outputs": [
    {
     "data": {
      "text/html": [
       "<div>\n",
       "<style scoped>\n",
       "    .dataframe tbody tr th:only-of-type {\n",
       "        vertical-align: middle;\n",
       "    }\n",
       "\n",
       "    .dataframe tbody tr th {\n",
       "        vertical-align: top;\n",
       "    }\n",
       "\n",
       "    .dataframe thead th {\n",
       "        text-align: right;\n",
       "    }\n",
       "</style>\n",
       "<table border=\"1\" class=\"dataframe\">\n",
       "  <thead>\n",
       "    <tr style=\"text-align: right;\">\n",
       "      <th></th>\n",
       "      <th>Level 1</th>\n",
       "      <th>Level 2</th>\n",
       "      <th>Colectica Code.1</th>\n",
       "    </tr>\n",
       "  </thead>\n",
       "  <tbody>\n",
       "    <tr>\n",
       "      <th>44</th>\n",
       "      <td>Health care</td>\n",
       "      <td>Health services utilisation</td>\n",
       "      <td>10501</td>\n",
       "    </tr>\n",
       "  </tbody>\n",
       "</table>\n",
       "</div>"
      ],
      "text/plain": [
       "        Level 1                       Level 2  Colectica Code.1\n",
       "44  Health care  Health services utilisation              10501"
      ]
     },
     "execution_count": 115,
     "metadata": {},
     "output_type": "execute_result"
    }
   ],
   "source": [
    "df_new"
   ]
  },
  {
   "cell_type": "code",
   "execution_count": 116,
   "metadata": {
    "colab": {
     "base_uri": "https://localhost:8080/",
     "height": 963
    },
    "id": "K860MYIH3CbE",
    "outputId": "56e5b777-1dba-46af-e5fe-13b2c5464d95"
   },
   "outputs": [
    {
     "data": {
      "text/html": [
       "<div>\n",
       "<style scoped>\n",
       "    .dataframe tbody tr th:only-of-type {\n",
       "        vertical-align: middle;\n",
       "    }\n",
       "\n",
       "    .dataframe tbody tr th {\n",
       "        vertical-align: top;\n",
       "    }\n",
       "\n",
       "    .dataframe thead th {\n",
       "        text-align: right;\n",
       "    }\n",
       "</style>\n",
       "<table border=\"1\" class=\"dataframe\">\n",
       "  <thead>\n",
       "    <tr style=\"text-align: right;\">\n",
       "      <th></th>\n",
       "      <th>InstrumentURN</th>\n",
       "      <th>Instrument</th>\n",
       "      <th>QuestionGroupURN</th>\n",
       "      <th>QuestionGroupName</th>\n",
       "      <th>QuestionGroupLabel</th>\n",
       "      <th>QuestionURN</th>\n",
       "      <th>QuestionLiteral</th>\n",
       "      <th>ResponseType</th>\n",
       "      <th>Response</th>\n",
       "      <th>Level1</th>\n",
       "      <th>Level2</th>\n",
       "    </tr>\n",
       "  </thead>\n",
       "  <tbody>\n",
       "    <tr>\n",
       "      <th>0</th>\n",
       "      <td>urn:ddi:uk.lha:7b964926-77df-4fc7-8a7f-3c64fbd...</td>\n",
       "      <td>1962 Personal Questionnaire</td>\n",
       "      <td>urn:ddi:uk.closer:1c132240-77f5-44cb-9c3c-4e37...</td>\n",
       "      <td>10903</td>\n",
       "      <td>Income</td>\n",
       "      <td>urn:ddi:uk.lha:d888e0ca-ebcf-47ad-ae37-1c951b3...</td>\n",
       "      <td>what pay or salary do you expect to be getting...</td>\n",
       "      <td>Numeric</td>\n",
       "      <td>NaN</td>\n",
       "      <td>91    Employment and income\n",
       "Name: Level 1, dty...</td>\n",
       "      <td>91    Income\n",
       "Name: Level 2, dtype: object</td>\n",
       "    </tr>\n",
       "    <tr>\n",
       "      <th>1</th>\n",
       "      <td>urn:ddi:uk.lha:7b964926-77df-4fc7-8a7f-3c64fbd...</td>\n",
       "      <td>1962 Personal Questionnaire</td>\n",
       "      <td>urn:ddi:uk.closer:e6c765b8-5963-4e27-95df-9661...</td>\n",
       "      <td>115</td>\n",
       "      <td>Administration</td>\n",
       "      <td>urn:ddi:uk.lha:8b655a25-58d6-4af9-bb53-1dc815b...</td>\n",
       "      <td>ref no</td>\n",
       "      <td>Text</td>\n",
       "      <td>NaN</td>\n",
       "      <td>118    Administration\n",
       "Name: Level 1, dtype: ob...</td>\n",
       "      <td>118    NaN\n",
       "Name: Level 2, dtype: object</td>\n",
       "    </tr>\n",
       "    <tr>\n",
       "      <th>2</th>\n",
       "      <td>urn:ddi:uk.lha:7b964926-77df-4fc7-8a7f-3c64fbd...</td>\n",
       "      <td>1962 Personal Questionnaire</td>\n",
       "      <td>urn:ddi:uk.closer:1e7db3f1-46cf-4244-95e8-a700...</td>\n",
       "      <td>10709</td>\n",
       "      <td>Leisure activities</td>\n",
       "      <td>urn:ddi:uk.lha:7faf3fd4-a8f7-4766-87e4-2a39a60...</td>\n",
       "      <td>what clubs do you belong to how often do you g...</td>\n",
       "      <td>Numeric</td>\n",
       "      <td>NaN</td>\n",
       "      <td>69    Family and social networks \n",
       "Name: Level ...</td>\n",
       "      <td>69    Leisure activities \n",
       "Name: Level 2, dtype...</td>\n",
       "    </tr>\n",
       "    <tr>\n",
       "      <th>3</th>\n",
       "      <td>urn:ddi:uk.lha:7b964926-77df-4fc7-8a7f-3c64fbd...</td>\n",
       "      <td>1962 Personal Questionnaire</td>\n",
       "      <td>urn:ddi:uk.closer:1e7db3f1-46cf-4244-95e8-a700...</td>\n",
       "      <td>10709</td>\n",
       "      <td>Leisure activities</td>\n",
       "      <td>urn:ddi:uk.lha:c7a87094-dc16-4596-a367-318a429...</td>\n",
       "      <td>what are the main things you do in your spare ...</td>\n",
       "      <td>Text</td>\n",
       "      <td>NaN</td>\n",
       "      <td>69    Family and social networks \n",
       "Name: Level ...</td>\n",
       "      <td>69    Leisure activities \n",
       "Name: Level 2, dtype...</td>\n",
       "    </tr>\n",
       "    <tr>\n",
       "      <th>4</th>\n",
       "      <td>urn:ddi:uk.lha:7b964926-77df-4fc7-8a7f-3c64fbd...</td>\n",
       "      <td>1962 Personal Questionnaire</td>\n",
       "      <td>urn:ddi:uk.closer:6dcf7f58-5225-4f93-a16f-a18d...</td>\n",
       "      <td>10901</td>\n",
       "      <td>Occupation | Employment</td>\n",
       "      <td>urn:ddi:uk.lha:cba9bbbd-c1ac-4e54-93ed-3c74fa9...</td>\n",
       "      <td>what will you have to do to get that job what ...</td>\n",
       "      <td>Text</td>\n",
       "      <td>NaN</td>\n",
       "      <td>89    Employment and income\n",
       "Name: Level 1, dty...</td>\n",
       "      <td>89    Occupation | Employment \n",
       "Name: Level 2, ...</td>\n",
       "    </tr>\n",
       "    <tr>\n",
       "      <th>...</th>\n",
       "      <td>...</td>\n",
       "      <td>...</td>\n",
       "      <td>...</td>\n",
       "      <td>...</td>\n",
       "      <td>...</td>\n",
       "      <td>...</td>\n",
       "      <td>...</td>\n",
       "      <td>...</td>\n",
       "      <td>...</td>\n",
       "      <td>...</td>\n",
       "      <td>...</td>\n",
       "    </tr>\n",
       "    <tr>\n",
       "      <th>35127</th>\n",
       "      <td>urn:ddi:uk.lha:ec6e7d6d-a776-4520-9e57-57bc8f2...</td>\n",
       "      <td>1964 University Questionnaire</td>\n",
       "      <td>urn:ddi:uk.closer:b5764a7d-951c-4e66-adfe-b00c...</td>\n",
       "      <td>10901</td>\n",
       "      <td>Occupation | Employment</td>\n",
       "      <td>urn:ddi:uk.lha:c6960108-d630-4f37-be5a-d84bcc0...</td>\n",
       "      <td>why do you want it</td>\n",
       "      <td>Text</td>\n",
       "      <td>NaN</td>\n",
       "      <td>89    Employment and income\n",
       "Name: Level 1, dty...</td>\n",
       "      <td>89    Occupation | Employment \n",
       "Name: Level 2, ...</td>\n",
       "    </tr>\n",
       "    <tr>\n",
       "      <th>35128</th>\n",
       "      <td>urn:ddi:uk.lha:ec6e7d6d-a776-4520-9e57-57bc8f2...</td>\n",
       "      <td>1964 University Questionnaire</td>\n",
       "      <td>urn:ddi:uk.closer:323cd70f-3a23-4bf7-9c64-080e...</td>\n",
       "      <td>10323</td>\n",
       "      <td>General health</td>\n",
       "      <td>urn:ddi:uk.lha:98d7c7f5-171f-47d6-bb44-e59a1d7...</td>\n",
       "      <td>have you ever had a squint</td>\n",
       "      <td>CodeList</td>\n",
       "      <td>1, yes | 0, no</td>\n",
       "      <td>36    Physical health \n",
       "Name: Level 1, dtype: o...</td>\n",
       "      <td>36    General health \n",
       "Name: Level 2, dtype: ob...</td>\n",
       "    </tr>\n",
       "    <tr>\n",
       "      <th>35129</th>\n",
       "      <td>urn:ddi:uk.lha:ec6e7d6d-a776-4520-9e57-57bc8f2...</td>\n",
       "      <td>1964 University Questionnaire</td>\n",
       "      <td>urn:ddi:uk.closer:323cd70f-3a23-4bf7-9c64-080e...</td>\n",
       "      <td>10323</td>\n",
       "      <td>General health</td>\n",
       "      <td>urn:ddi:uk.lha:3506c2ad-073d-4117-8f6e-24fea22...</td>\n",
       "      <td>have you been to see them</td>\n",
       "      <td>CodeList</td>\n",
       "      <td>1, yes | 0, no</td>\n",
       "      <td>36    Physical health \n",
       "Name: Level 1, dtype: o...</td>\n",
       "      <td>36    General health \n",
       "Name: Level 2, dtype: ob...</td>\n",
       "    </tr>\n",
       "    <tr>\n",
       "      <th>35130</th>\n",
       "      <td>urn:ddi:uk.lha:ec6e7d6d-a776-4520-9e57-57bc8f2...</td>\n",
       "      <td>1964 University Questionnaire</td>\n",
       "      <td>urn:ddi:uk.closer:517cd58d-6786-4421-93e3-e787...</td>\n",
       "      <td>10501</td>\n",
       "      <td>Health services utilisation</td>\n",
       "      <td>urn:ddi:uk.lha:e420ab0e-329e-4ef1-8e1d-2964193...</td>\n",
       "      <td>how many times</td>\n",
       "      <td>Numeric</td>\n",
       "      <td>NaN</td>\n",
       "      <td>44    Health care\n",
       "Name: Level 1, dtype: object</td>\n",
       "      <td>44    Health services utilisation \n",
       "Name: Level...</td>\n",
       "    </tr>\n",
       "    <tr>\n",
       "      <th>35131</th>\n",
       "      <td>urn:ddi:uk.lha:ec6e7d6d-a776-4520-9e57-57bc8f2...</td>\n",
       "      <td>1964 University Questionnaire</td>\n",
       "      <td>urn:ddi:uk.closer:517cd58d-6786-4421-93e3-e787...</td>\n",
       "      <td>10501</td>\n",
       "      <td>Health services utilisation</td>\n",
       "      <td>urn:ddi:uk.lha:0f7d3d67-6e8b-4673-845a-b3e813f...</td>\n",
       "      <td>what have you been about</td>\n",
       "      <td>Text</td>\n",
       "      <td>NaN</td>\n",
       "      <td>44    Health care\n",
       "Name: Level 1, dtype: object</td>\n",
       "      <td>44    Health services utilisation \n",
       "Name: Level...</td>\n",
       "    </tr>\n",
       "  </tbody>\n",
       "</table>\n",
       "<p>35132 rows × 11 columns</p>\n",
       "</div>"
      ],
      "text/plain": [
       "                                           InstrumentURN  \\\n",
       "0      urn:ddi:uk.lha:7b964926-77df-4fc7-8a7f-3c64fbd...   \n",
       "1      urn:ddi:uk.lha:7b964926-77df-4fc7-8a7f-3c64fbd...   \n",
       "2      urn:ddi:uk.lha:7b964926-77df-4fc7-8a7f-3c64fbd...   \n",
       "3      urn:ddi:uk.lha:7b964926-77df-4fc7-8a7f-3c64fbd...   \n",
       "4      urn:ddi:uk.lha:7b964926-77df-4fc7-8a7f-3c64fbd...   \n",
       "...                                                  ...   \n",
       "35127  urn:ddi:uk.lha:ec6e7d6d-a776-4520-9e57-57bc8f2...   \n",
       "35128  urn:ddi:uk.lha:ec6e7d6d-a776-4520-9e57-57bc8f2...   \n",
       "35129  urn:ddi:uk.lha:ec6e7d6d-a776-4520-9e57-57bc8f2...   \n",
       "35130  urn:ddi:uk.lha:ec6e7d6d-a776-4520-9e57-57bc8f2...   \n",
       "35131  urn:ddi:uk.lha:ec6e7d6d-a776-4520-9e57-57bc8f2...   \n",
       "\n",
       "                          Instrument  \\\n",
       "0        1962 Personal Questionnaire   \n",
       "1        1962 Personal Questionnaire   \n",
       "2        1962 Personal Questionnaire   \n",
       "3        1962 Personal Questionnaire   \n",
       "4        1962 Personal Questionnaire   \n",
       "...                              ...   \n",
       "35127  1964 University Questionnaire   \n",
       "35128  1964 University Questionnaire   \n",
       "35129  1964 University Questionnaire   \n",
       "35130  1964 University Questionnaire   \n",
       "35131  1964 University Questionnaire   \n",
       "\n",
       "                                        QuestionGroupURN  QuestionGroupName  \\\n",
       "0      urn:ddi:uk.closer:1c132240-77f5-44cb-9c3c-4e37...              10903   \n",
       "1      urn:ddi:uk.closer:e6c765b8-5963-4e27-95df-9661...                115   \n",
       "2      urn:ddi:uk.closer:1e7db3f1-46cf-4244-95e8-a700...              10709   \n",
       "3      urn:ddi:uk.closer:1e7db3f1-46cf-4244-95e8-a700...              10709   \n",
       "4      urn:ddi:uk.closer:6dcf7f58-5225-4f93-a16f-a18d...              10901   \n",
       "...                                                  ...                ...   \n",
       "35127  urn:ddi:uk.closer:b5764a7d-951c-4e66-adfe-b00c...              10901   \n",
       "35128  urn:ddi:uk.closer:323cd70f-3a23-4bf7-9c64-080e...              10323   \n",
       "35129  urn:ddi:uk.closer:323cd70f-3a23-4bf7-9c64-080e...              10323   \n",
       "35130  urn:ddi:uk.closer:517cd58d-6786-4421-93e3-e787...              10501   \n",
       "35131  urn:ddi:uk.closer:517cd58d-6786-4421-93e3-e787...              10501   \n",
       "\n",
       "                QuestionGroupLabel  \\\n",
       "0                           Income   \n",
       "1                   Administration   \n",
       "2               Leisure activities   \n",
       "3               Leisure activities   \n",
       "4          Occupation | Employment   \n",
       "...                            ...   \n",
       "35127      Occupation | Employment   \n",
       "35128               General health   \n",
       "35129               General health   \n",
       "35130  Health services utilisation   \n",
       "35131  Health services utilisation   \n",
       "\n",
       "                                             QuestionURN  \\\n",
       "0      urn:ddi:uk.lha:d888e0ca-ebcf-47ad-ae37-1c951b3...   \n",
       "1      urn:ddi:uk.lha:8b655a25-58d6-4af9-bb53-1dc815b...   \n",
       "2      urn:ddi:uk.lha:7faf3fd4-a8f7-4766-87e4-2a39a60...   \n",
       "3      urn:ddi:uk.lha:c7a87094-dc16-4596-a367-318a429...   \n",
       "4      urn:ddi:uk.lha:cba9bbbd-c1ac-4e54-93ed-3c74fa9...   \n",
       "...                                                  ...   \n",
       "35127  urn:ddi:uk.lha:c6960108-d630-4f37-be5a-d84bcc0...   \n",
       "35128  urn:ddi:uk.lha:98d7c7f5-171f-47d6-bb44-e59a1d7...   \n",
       "35129  urn:ddi:uk.lha:3506c2ad-073d-4117-8f6e-24fea22...   \n",
       "35130  urn:ddi:uk.lha:e420ab0e-329e-4ef1-8e1d-2964193...   \n",
       "35131  urn:ddi:uk.lha:0f7d3d67-6e8b-4673-845a-b3e813f...   \n",
       "\n",
       "                                         QuestionLiteral ResponseType  \\\n",
       "0      what pay or salary do you expect to be getting...      Numeric   \n",
       "1                                                 ref no         Text   \n",
       "2      what clubs do you belong to how often do you g...      Numeric   \n",
       "3      what are the main things you do in your spare ...         Text   \n",
       "4      what will you have to do to get that job what ...         Text   \n",
       "...                                                  ...          ...   \n",
       "35127                                 why do you want it         Text   \n",
       "35128                         have you ever had a squint     CodeList   \n",
       "35129                          have you been to see them     CodeList   \n",
       "35130                                     how many times      Numeric   \n",
       "35131                           what have you been about         Text   \n",
       "\n",
       "             Response                                             Level1  \\\n",
       "0                 NaN  91    Employment and income\n",
       "Name: Level 1, dty...   \n",
       "1                 NaN  118    Administration\n",
       "Name: Level 1, dtype: ob...   \n",
       "2                 NaN  69    Family and social networks \n",
       "Name: Level ...   \n",
       "3                 NaN  69    Family and social networks \n",
       "Name: Level ...   \n",
       "4                 NaN  89    Employment and income\n",
       "Name: Level 1, dty...   \n",
       "...               ...                                                ...   \n",
       "35127             NaN  89    Employment and income\n",
       "Name: Level 1, dty...   \n",
       "35128  1, yes | 0, no  36    Physical health \n",
       "Name: Level 1, dtype: o...   \n",
       "35129  1, yes | 0, no  36    Physical health \n",
       "Name: Level 1, dtype: o...   \n",
       "35130             NaN     44    Health care\n",
       "Name: Level 1, dtype: object   \n",
       "35131             NaN     44    Health care\n",
       "Name: Level 1, dtype: object   \n",
       "\n",
       "                                                  Level2  \n",
       "0              91    Income\n",
       "Name: Level 2, dtype: object  \n",
       "1                118    NaN\n",
       "Name: Level 2, dtype: object  \n",
       "2      69    Leisure activities \n",
       "Name: Level 2, dtype...  \n",
       "3      69    Leisure activities \n",
       "Name: Level 2, dtype...  \n",
       "4      89    Occupation | Employment \n",
       "Name: Level 2, ...  \n",
       "...                                                  ...  \n",
       "35127  89    Occupation | Employment \n",
       "Name: Level 2, ...  \n",
       "35128  36    General health \n",
       "Name: Level 2, dtype: ob...  \n",
       "35129  36    General health \n",
       "Name: Level 2, dtype: ob...  \n",
       "35130  44    Health services utilisation \n",
       "Name: Level...  \n",
       "35131  44    Health services utilisation \n",
       "Name: Level...  \n",
       "\n",
       "[35132 rows x 11 columns]"
      ]
     },
     "execution_count": 116,
     "metadata": {},
     "output_type": "execute_result"
    }
   ],
   "source": [
    "df"
   ]
  },
  {
   "cell_type": "code",
   "execution_count": 31,
   "metadata": {
    "id": "veq9MttM3L5p"
   },
   "outputs": [],
   "source": [
    "f1=df\n",
    "f2=f1"
   ]
  },
  {
   "cell_type": "code",
   "execution_count": null,
   "metadata": {
    "id": "Diz9wG-J4vRn"
   },
   "outputs": [],
   "source": []
  },
  {
   "cell_type": "code",
   "execution_count": 117,
   "metadata": {
    "colab": {
     "base_uri": "https://localhost:8080/",
     "height": 166
    },
    "id": "JMjZ8-4j411E",
    "outputId": "3e9a4299-7be0-441d-e12a-29a7b2e28733"
   },
   "outputs": [],
   "source": [
    "df['Level1'] = df['Level1'].map(lambda x: str(x)[2:])"
   ]
  },
  {
   "cell_type": "code",
   "execution_count": 118,
   "metadata": {
    "id": "Z4IF_LYs44d5"
   },
   "outputs": [],
   "source": [
    "df['Level2'] = df['Level2'].map(lambda x: str(x)[2:])"
   ]
  },
  {
   "cell_type": "code",
   "execution_count": 119,
   "metadata": {
    "colab": {
     "base_uri": "https://localhost:8080/"
    },
    "id": "EuWuj3lM4-l-",
    "outputId": "cf863ad6-1c31-456f-dff9-55c4096f6de7"
   },
   "outputs": [
    {
     "data": {
      "text/plain": [
       "0            Employment and income\\nName: Level 1, dtyp...\n",
       "1        8    Administration\\nName: Level 1, dtype: object\n",
       "2            Family and social networks \\nName: Level 1...\n",
       "3            Family and social networks \\nName: Level 1...\n",
       "4            Employment and income\\nName: Level 1, dtyp...\n",
       "                               ...                        \n",
       "35127        Employment and income\\nName: Level 1, dtyp...\n",
       "35128        Physical health \\nName: Level 1, dtype: ob...\n",
       "35129        Physical health \\nName: Level 1, dtype: ob...\n",
       "35130            Health care\\nName: Level 1, dtype: object\n",
       "35131            Health care\\nName: Level 1, dtype: object\n",
       "Name: Level1, Length: 35132, dtype: object"
      ]
     },
     "execution_count": 119,
     "metadata": {},
     "output_type": "execute_result"
    }
   ],
   "source": [
    "df['Level1']"
   ]
  },
  {
   "cell_type": "code",
   "execution_count": 120,
   "metadata": {
    "colab": {
     "base_uri": "https://localhost:8080/"
    },
    "id": "Nwyc9fOQ5KWX",
    "outputId": "fe7c4f04-62f8-49bb-acec-6a4a97c7123c"
   },
   "outputs": [
    {
     "data": {
      "text/plain": [
       "0                     Income\\nName: Level 2, dtype: object\n",
       "1                   8    NaN\\nName: Level 2, dtype: object\n",
       "2            Leisure activities \\nName: Level 2, dtype:...\n",
       "3            Leisure activities \\nName: Level 2, dtype:...\n",
       "4            Occupation | Employment \\nName: Level 2, d...\n",
       "                               ...                        \n",
       "35127        Occupation | Employment \\nName: Level 2, d...\n",
       "35128        General health \\nName: Level 2, dtype: object\n",
       "35129        General health \\nName: Level 2, dtype: object\n",
       "35130        Health services utilisation \\nName: Level ...\n",
       "35131        Health services utilisation \\nName: Level ...\n",
       "Name: Level2, Length: 35132, dtype: object"
      ]
     },
     "execution_count": 120,
     "metadata": {},
     "output_type": "execute_result"
    }
   ],
   "source": [
    "df['Level2']"
   ]
  },
  {
   "cell_type": "code",
   "execution_count": 121,
   "metadata": {
    "id": "PXvU1Ttb5Nrv"
   },
   "outputs": [],
   "source": [
    "for i in range(0,len(df)):\n",
    "  df['Level1'][i]=df['Level1'][i].split('\\n',1)[0]"
   ]
  },
  {
   "cell_type": "code",
   "execution_count": 122,
   "metadata": {
    "id": "7FtzHXG35RHU"
   },
   "outputs": [],
   "source": [
    "for i in range(0,len(df)):\n",
    "  df['Level2'][i]=df['Level2'][i].split('\\n',1)[0]"
   ]
  },
  {
   "cell_type": "code",
   "execution_count": 123,
   "metadata": {
    "colab": {
     "base_uri": "https://localhost:8080/",
     "height": 790
    },
    "id": "fxDXRpkZ5Ztw",
    "outputId": "fd87a98e-35e6-4b49-ca53-9708c6956ab5"
   },
   "outputs": [
    {
     "data": {
      "text/html": [
       "<div>\n",
       "<style scoped>\n",
       "    .dataframe tbody tr th:only-of-type {\n",
       "        vertical-align: middle;\n",
       "    }\n",
       "\n",
       "    .dataframe tbody tr th {\n",
       "        vertical-align: top;\n",
       "    }\n",
       "\n",
       "    .dataframe thead th {\n",
       "        text-align: right;\n",
       "    }\n",
       "</style>\n",
       "<table border=\"1\" class=\"dataframe\">\n",
       "  <thead>\n",
       "    <tr style=\"text-align: right;\">\n",
       "      <th></th>\n",
       "      <th>InstrumentURN</th>\n",
       "      <th>Instrument</th>\n",
       "      <th>QuestionGroupURN</th>\n",
       "      <th>QuestionGroupName</th>\n",
       "      <th>QuestionGroupLabel</th>\n",
       "      <th>QuestionURN</th>\n",
       "      <th>QuestionLiteral</th>\n",
       "      <th>ResponseType</th>\n",
       "      <th>Response</th>\n",
       "      <th>Level1</th>\n",
       "      <th>Level2</th>\n",
       "    </tr>\n",
       "  </thead>\n",
       "  <tbody>\n",
       "    <tr>\n",
       "      <th>0</th>\n",
       "      <td>urn:ddi:uk.lha:7b964926-77df-4fc7-8a7f-3c64fbd...</td>\n",
       "      <td>1962 Personal Questionnaire</td>\n",
       "      <td>urn:ddi:uk.closer:1c132240-77f5-44cb-9c3c-4e37...</td>\n",
       "      <td>10903</td>\n",
       "      <td>Income</td>\n",
       "      <td>urn:ddi:uk.lha:d888e0ca-ebcf-47ad-ae37-1c951b3...</td>\n",
       "      <td>what pay or salary do you expect to be getting...</td>\n",
       "      <td>Numeric</td>\n",
       "      <td>NaN</td>\n",
       "      <td>Employment and income</td>\n",
       "      <td>Income</td>\n",
       "    </tr>\n",
       "    <tr>\n",
       "      <th>1</th>\n",
       "      <td>urn:ddi:uk.lha:7b964926-77df-4fc7-8a7f-3c64fbd...</td>\n",
       "      <td>1962 Personal Questionnaire</td>\n",
       "      <td>urn:ddi:uk.closer:e6c765b8-5963-4e27-95df-9661...</td>\n",
       "      <td>115</td>\n",
       "      <td>Administration</td>\n",
       "      <td>urn:ddi:uk.lha:8b655a25-58d6-4af9-bb53-1dc815b...</td>\n",
       "      <td>ref no</td>\n",
       "      <td>Text</td>\n",
       "      <td>NaN</td>\n",
       "      <td>8    Administration</td>\n",
       "      <td>8    NaN</td>\n",
       "    </tr>\n",
       "    <tr>\n",
       "      <th>2</th>\n",
       "      <td>urn:ddi:uk.lha:7b964926-77df-4fc7-8a7f-3c64fbd...</td>\n",
       "      <td>1962 Personal Questionnaire</td>\n",
       "      <td>urn:ddi:uk.closer:1e7db3f1-46cf-4244-95e8-a700...</td>\n",
       "      <td>10709</td>\n",
       "      <td>Leisure activities</td>\n",
       "      <td>urn:ddi:uk.lha:7faf3fd4-a8f7-4766-87e4-2a39a60...</td>\n",
       "      <td>what clubs do you belong to how often do you g...</td>\n",
       "      <td>Numeric</td>\n",
       "      <td>NaN</td>\n",
       "      <td>Family and social networks</td>\n",
       "      <td>Leisure activities</td>\n",
       "    </tr>\n",
       "    <tr>\n",
       "      <th>3</th>\n",
       "      <td>urn:ddi:uk.lha:7b964926-77df-4fc7-8a7f-3c64fbd...</td>\n",
       "      <td>1962 Personal Questionnaire</td>\n",
       "      <td>urn:ddi:uk.closer:1e7db3f1-46cf-4244-95e8-a700...</td>\n",
       "      <td>10709</td>\n",
       "      <td>Leisure activities</td>\n",
       "      <td>urn:ddi:uk.lha:c7a87094-dc16-4596-a367-318a429...</td>\n",
       "      <td>what are the main things you do in your spare ...</td>\n",
       "      <td>Text</td>\n",
       "      <td>NaN</td>\n",
       "      <td>Family and social networks</td>\n",
       "      <td>Leisure activities</td>\n",
       "    </tr>\n",
       "    <tr>\n",
       "      <th>4</th>\n",
       "      <td>urn:ddi:uk.lha:7b964926-77df-4fc7-8a7f-3c64fbd...</td>\n",
       "      <td>1962 Personal Questionnaire</td>\n",
       "      <td>urn:ddi:uk.closer:6dcf7f58-5225-4f93-a16f-a18d...</td>\n",
       "      <td>10901</td>\n",
       "      <td>Occupation | Employment</td>\n",
       "      <td>urn:ddi:uk.lha:cba9bbbd-c1ac-4e54-93ed-3c74fa9...</td>\n",
       "      <td>what will you have to do to get that job what ...</td>\n",
       "      <td>Text</td>\n",
       "      <td>NaN</td>\n",
       "      <td>Employment and income</td>\n",
       "      <td>Occupation | Employment</td>\n",
       "    </tr>\n",
       "    <tr>\n",
       "      <th>...</th>\n",
       "      <td>...</td>\n",
       "      <td>...</td>\n",
       "      <td>...</td>\n",
       "      <td>...</td>\n",
       "      <td>...</td>\n",
       "      <td>...</td>\n",
       "      <td>...</td>\n",
       "      <td>...</td>\n",
       "      <td>...</td>\n",
       "      <td>...</td>\n",
       "      <td>...</td>\n",
       "    </tr>\n",
       "    <tr>\n",
       "      <th>35127</th>\n",
       "      <td>urn:ddi:uk.lha:ec6e7d6d-a776-4520-9e57-57bc8f2...</td>\n",
       "      <td>1964 University Questionnaire</td>\n",
       "      <td>urn:ddi:uk.closer:b5764a7d-951c-4e66-adfe-b00c...</td>\n",
       "      <td>10901</td>\n",
       "      <td>Occupation | Employment</td>\n",
       "      <td>urn:ddi:uk.lha:c6960108-d630-4f37-be5a-d84bcc0...</td>\n",
       "      <td>why do you want it</td>\n",
       "      <td>Text</td>\n",
       "      <td>NaN</td>\n",
       "      <td>Employment and income</td>\n",
       "      <td>Occupation | Employment</td>\n",
       "    </tr>\n",
       "    <tr>\n",
       "      <th>35128</th>\n",
       "      <td>urn:ddi:uk.lha:ec6e7d6d-a776-4520-9e57-57bc8f2...</td>\n",
       "      <td>1964 University Questionnaire</td>\n",
       "      <td>urn:ddi:uk.closer:323cd70f-3a23-4bf7-9c64-080e...</td>\n",
       "      <td>10323</td>\n",
       "      <td>General health</td>\n",
       "      <td>urn:ddi:uk.lha:98d7c7f5-171f-47d6-bb44-e59a1d7...</td>\n",
       "      <td>have you ever had a squint</td>\n",
       "      <td>CodeList</td>\n",
       "      <td>1, yes | 0, no</td>\n",
       "      <td>Physical health</td>\n",
       "      <td>General health</td>\n",
       "    </tr>\n",
       "    <tr>\n",
       "      <th>35129</th>\n",
       "      <td>urn:ddi:uk.lha:ec6e7d6d-a776-4520-9e57-57bc8f2...</td>\n",
       "      <td>1964 University Questionnaire</td>\n",
       "      <td>urn:ddi:uk.closer:323cd70f-3a23-4bf7-9c64-080e...</td>\n",
       "      <td>10323</td>\n",
       "      <td>General health</td>\n",
       "      <td>urn:ddi:uk.lha:3506c2ad-073d-4117-8f6e-24fea22...</td>\n",
       "      <td>have you been to see them</td>\n",
       "      <td>CodeList</td>\n",
       "      <td>1, yes | 0, no</td>\n",
       "      <td>Physical health</td>\n",
       "      <td>General health</td>\n",
       "    </tr>\n",
       "    <tr>\n",
       "      <th>35130</th>\n",
       "      <td>urn:ddi:uk.lha:ec6e7d6d-a776-4520-9e57-57bc8f2...</td>\n",
       "      <td>1964 University Questionnaire</td>\n",
       "      <td>urn:ddi:uk.closer:517cd58d-6786-4421-93e3-e787...</td>\n",
       "      <td>10501</td>\n",
       "      <td>Health services utilisation</td>\n",
       "      <td>urn:ddi:uk.lha:e420ab0e-329e-4ef1-8e1d-2964193...</td>\n",
       "      <td>how many times</td>\n",
       "      <td>Numeric</td>\n",
       "      <td>NaN</td>\n",
       "      <td>Health care</td>\n",
       "      <td>Health services utilisation</td>\n",
       "    </tr>\n",
       "    <tr>\n",
       "      <th>35131</th>\n",
       "      <td>urn:ddi:uk.lha:ec6e7d6d-a776-4520-9e57-57bc8f2...</td>\n",
       "      <td>1964 University Questionnaire</td>\n",
       "      <td>urn:ddi:uk.closer:517cd58d-6786-4421-93e3-e787...</td>\n",
       "      <td>10501</td>\n",
       "      <td>Health services utilisation</td>\n",
       "      <td>urn:ddi:uk.lha:0f7d3d67-6e8b-4673-845a-b3e813f...</td>\n",
       "      <td>what have you been about</td>\n",
       "      <td>Text</td>\n",
       "      <td>NaN</td>\n",
       "      <td>Health care</td>\n",
       "      <td>Health services utilisation</td>\n",
       "    </tr>\n",
       "  </tbody>\n",
       "</table>\n",
       "<p>35132 rows × 11 columns</p>\n",
       "</div>"
      ],
      "text/plain": [
       "                                           InstrumentURN  \\\n",
       "0      urn:ddi:uk.lha:7b964926-77df-4fc7-8a7f-3c64fbd...   \n",
       "1      urn:ddi:uk.lha:7b964926-77df-4fc7-8a7f-3c64fbd...   \n",
       "2      urn:ddi:uk.lha:7b964926-77df-4fc7-8a7f-3c64fbd...   \n",
       "3      urn:ddi:uk.lha:7b964926-77df-4fc7-8a7f-3c64fbd...   \n",
       "4      urn:ddi:uk.lha:7b964926-77df-4fc7-8a7f-3c64fbd...   \n",
       "...                                                  ...   \n",
       "35127  urn:ddi:uk.lha:ec6e7d6d-a776-4520-9e57-57bc8f2...   \n",
       "35128  urn:ddi:uk.lha:ec6e7d6d-a776-4520-9e57-57bc8f2...   \n",
       "35129  urn:ddi:uk.lha:ec6e7d6d-a776-4520-9e57-57bc8f2...   \n",
       "35130  urn:ddi:uk.lha:ec6e7d6d-a776-4520-9e57-57bc8f2...   \n",
       "35131  urn:ddi:uk.lha:ec6e7d6d-a776-4520-9e57-57bc8f2...   \n",
       "\n",
       "                          Instrument  \\\n",
       "0        1962 Personal Questionnaire   \n",
       "1        1962 Personal Questionnaire   \n",
       "2        1962 Personal Questionnaire   \n",
       "3        1962 Personal Questionnaire   \n",
       "4        1962 Personal Questionnaire   \n",
       "...                              ...   \n",
       "35127  1964 University Questionnaire   \n",
       "35128  1964 University Questionnaire   \n",
       "35129  1964 University Questionnaire   \n",
       "35130  1964 University Questionnaire   \n",
       "35131  1964 University Questionnaire   \n",
       "\n",
       "                                        QuestionGroupURN  QuestionGroupName  \\\n",
       "0      urn:ddi:uk.closer:1c132240-77f5-44cb-9c3c-4e37...              10903   \n",
       "1      urn:ddi:uk.closer:e6c765b8-5963-4e27-95df-9661...                115   \n",
       "2      urn:ddi:uk.closer:1e7db3f1-46cf-4244-95e8-a700...              10709   \n",
       "3      urn:ddi:uk.closer:1e7db3f1-46cf-4244-95e8-a700...              10709   \n",
       "4      urn:ddi:uk.closer:6dcf7f58-5225-4f93-a16f-a18d...              10901   \n",
       "...                                                  ...                ...   \n",
       "35127  urn:ddi:uk.closer:b5764a7d-951c-4e66-adfe-b00c...              10901   \n",
       "35128  urn:ddi:uk.closer:323cd70f-3a23-4bf7-9c64-080e...              10323   \n",
       "35129  urn:ddi:uk.closer:323cd70f-3a23-4bf7-9c64-080e...              10323   \n",
       "35130  urn:ddi:uk.closer:517cd58d-6786-4421-93e3-e787...              10501   \n",
       "35131  urn:ddi:uk.closer:517cd58d-6786-4421-93e3-e787...              10501   \n",
       "\n",
       "                QuestionGroupLabel  \\\n",
       "0                           Income   \n",
       "1                   Administration   \n",
       "2               Leisure activities   \n",
       "3               Leisure activities   \n",
       "4          Occupation | Employment   \n",
       "...                            ...   \n",
       "35127      Occupation | Employment   \n",
       "35128               General health   \n",
       "35129               General health   \n",
       "35130  Health services utilisation   \n",
       "35131  Health services utilisation   \n",
       "\n",
       "                                             QuestionURN  \\\n",
       "0      urn:ddi:uk.lha:d888e0ca-ebcf-47ad-ae37-1c951b3...   \n",
       "1      urn:ddi:uk.lha:8b655a25-58d6-4af9-bb53-1dc815b...   \n",
       "2      urn:ddi:uk.lha:7faf3fd4-a8f7-4766-87e4-2a39a60...   \n",
       "3      urn:ddi:uk.lha:c7a87094-dc16-4596-a367-318a429...   \n",
       "4      urn:ddi:uk.lha:cba9bbbd-c1ac-4e54-93ed-3c74fa9...   \n",
       "...                                                  ...   \n",
       "35127  urn:ddi:uk.lha:c6960108-d630-4f37-be5a-d84bcc0...   \n",
       "35128  urn:ddi:uk.lha:98d7c7f5-171f-47d6-bb44-e59a1d7...   \n",
       "35129  urn:ddi:uk.lha:3506c2ad-073d-4117-8f6e-24fea22...   \n",
       "35130  urn:ddi:uk.lha:e420ab0e-329e-4ef1-8e1d-2964193...   \n",
       "35131  urn:ddi:uk.lha:0f7d3d67-6e8b-4673-845a-b3e813f...   \n",
       "\n",
       "                                         QuestionLiteral ResponseType  \\\n",
       "0      what pay or salary do you expect to be getting...      Numeric   \n",
       "1                                                 ref no         Text   \n",
       "2      what clubs do you belong to how often do you g...      Numeric   \n",
       "3      what are the main things you do in your spare ...         Text   \n",
       "4      what will you have to do to get that job what ...         Text   \n",
       "...                                                  ...          ...   \n",
       "35127                                 why do you want it         Text   \n",
       "35128                         have you ever had a squint     CodeList   \n",
       "35129                          have you been to see them     CodeList   \n",
       "35130                                     how many times      Numeric   \n",
       "35131                           what have you been about         Text   \n",
       "\n",
       "             Response                           Level1  \\\n",
       "0                 NaN            Employment and income   \n",
       "1                 NaN              8    Administration   \n",
       "2                 NaN      Family and social networks    \n",
       "3                 NaN      Family and social networks    \n",
       "4                 NaN            Employment and income   \n",
       "...               ...                              ...   \n",
       "35127             NaN            Employment and income   \n",
       "35128  1, yes | 0, no                 Physical health    \n",
       "35129  1, yes | 0, no                 Physical health    \n",
       "35130             NaN                      Health care   \n",
       "35131             NaN                      Health care   \n",
       "\n",
       "                                 Level2  \n",
       "0                                Income  \n",
       "1                              8    NaN  \n",
       "2                   Leisure activities   \n",
       "3                   Leisure activities   \n",
       "4              Occupation | Employment   \n",
       "...                                 ...  \n",
       "35127          Occupation | Employment   \n",
       "35128                   General health   \n",
       "35129                   General health   \n",
       "35130      Health services utilisation   \n",
       "35131      Health services utilisation   \n",
       "\n",
       "[35132 rows x 11 columns]"
      ]
     },
     "execution_count": 123,
     "metadata": {},
     "output_type": "execute_result"
    }
   ],
   "source": [
    "df"
   ]
  },
  {
   "cell_type": "code",
   "execution_count": 124,
   "metadata": {
    "id": "ZeWmBwVE5dDK"
   },
   "outputs": [],
   "source": [
    "dataframe=df"
   ]
  },
  {
   "cell_type": "code",
   "execution_count": 125,
   "metadata": {
    "id": "-xh1Qy625rl8"
   },
   "outputs": [],
   "source": [
    "df['Level1'] = df['Level1'].str.replace('\\d+', '')\n",
    "df['Level2'] = df['Level2'].str.replace('\\d+', '')"
   ]
  },
  {
   "cell_type": "code",
   "execution_count": 126,
   "metadata": {
    "colab": {
     "base_uri": "https://localhost:8080/",
     "height": 747
    },
    "id": "lFkkmLi25s5Y",
    "outputId": "1980d42c-11d8-402a-ce6d-e4ef44c11bef"
   },
   "outputs": [
    {
     "data": {
      "text/html": [
       "<div>\n",
       "<style scoped>\n",
       "    .dataframe tbody tr th:only-of-type {\n",
       "        vertical-align: middle;\n",
       "    }\n",
       "\n",
       "    .dataframe tbody tr th {\n",
       "        vertical-align: top;\n",
       "    }\n",
       "\n",
       "    .dataframe thead th {\n",
       "        text-align: right;\n",
       "    }\n",
       "</style>\n",
       "<table border=\"1\" class=\"dataframe\">\n",
       "  <thead>\n",
       "    <tr style=\"text-align: right;\">\n",
       "      <th></th>\n",
       "      <th>InstrumentURN</th>\n",
       "      <th>Instrument</th>\n",
       "      <th>QuestionGroupURN</th>\n",
       "      <th>QuestionGroupName</th>\n",
       "      <th>QuestionGroupLabel</th>\n",
       "      <th>QuestionURN</th>\n",
       "      <th>QuestionLiteral</th>\n",
       "      <th>ResponseType</th>\n",
       "      <th>Response</th>\n",
       "      <th>Level1</th>\n",
       "      <th>Level2</th>\n",
       "    </tr>\n",
       "  </thead>\n",
       "  <tbody>\n",
       "    <tr>\n",
       "      <th>0</th>\n",
       "      <td>urn:ddi:uk.lha:7b964926-77df-4fc7-8a7f-3c64fbd...</td>\n",
       "      <td>1962 Personal Questionnaire</td>\n",
       "      <td>urn:ddi:uk.closer:1c132240-77f5-44cb-9c3c-4e37...</td>\n",
       "      <td>10903</td>\n",
       "      <td>Income</td>\n",
       "      <td>urn:ddi:uk.lha:d888e0ca-ebcf-47ad-ae37-1c951b3...</td>\n",
       "      <td>what pay or salary do you expect to be getting...</td>\n",
       "      <td>Numeric</td>\n",
       "      <td>NaN</td>\n",
       "      <td>Employment and income</td>\n",
       "      <td>Income</td>\n",
       "    </tr>\n",
       "    <tr>\n",
       "      <th>1</th>\n",
       "      <td>urn:ddi:uk.lha:7b964926-77df-4fc7-8a7f-3c64fbd...</td>\n",
       "      <td>1962 Personal Questionnaire</td>\n",
       "      <td>urn:ddi:uk.closer:e6c765b8-5963-4e27-95df-9661...</td>\n",
       "      <td>115</td>\n",
       "      <td>Administration</td>\n",
       "      <td>urn:ddi:uk.lha:8b655a25-58d6-4af9-bb53-1dc815b...</td>\n",
       "      <td>ref no</td>\n",
       "      <td>Text</td>\n",
       "      <td>NaN</td>\n",
       "      <td>Administration</td>\n",
       "      <td>NaN</td>\n",
       "    </tr>\n",
       "    <tr>\n",
       "      <th>2</th>\n",
       "      <td>urn:ddi:uk.lha:7b964926-77df-4fc7-8a7f-3c64fbd...</td>\n",
       "      <td>1962 Personal Questionnaire</td>\n",
       "      <td>urn:ddi:uk.closer:1e7db3f1-46cf-4244-95e8-a700...</td>\n",
       "      <td>10709</td>\n",
       "      <td>Leisure activities</td>\n",
       "      <td>urn:ddi:uk.lha:7faf3fd4-a8f7-4766-87e4-2a39a60...</td>\n",
       "      <td>what clubs do you belong to how often do you g...</td>\n",
       "      <td>Numeric</td>\n",
       "      <td>NaN</td>\n",
       "      <td>Family and social networks</td>\n",
       "      <td>Leisure activities</td>\n",
       "    </tr>\n",
       "    <tr>\n",
       "      <th>3</th>\n",
       "      <td>urn:ddi:uk.lha:7b964926-77df-4fc7-8a7f-3c64fbd...</td>\n",
       "      <td>1962 Personal Questionnaire</td>\n",
       "      <td>urn:ddi:uk.closer:1e7db3f1-46cf-4244-95e8-a700...</td>\n",
       "      <td>10709</td>\n",
       "      <td>Leisure activities</td>\n",
       "      <td>urn:ddi:uk.lha:c7a87094-dc16-4596-a367-318a429...</td>\n",
       "      <td>what are the main things you do in your spare ...</td>\n",
       "      <td>Text</td>\n",
       "      <td>NaN</td>\n",
       "      <td>Family and social networks</td>\n",
       "      <td>Leisure activities</td>\n",
       "    </tr>\n",
       "    <tr>\n",
       "      <th>4</th>\n",
       "      <td>urn:ddi:uk.lha:7b964926-77df-4fc7-8a7f-3c64fbd...</td>\n",
       "      <td>1962 Personal Questionnaire</td>\n",
       "      <td>urn:ddi:uk.closer:6dcf7f58-5225-4f93-a16f-a18d...</td>\n",
       "      <td>10901</td>\n",
       "      <td>Occupation | Employment</td>\n",
       "      <td>urn:ddi:uk.lha:cba9bbbd-c1ac-4e54-93ed-3c74fa9...</td>\n",
       "      <td>what will you have to do to get that job what ...</td>\n",
       "      <td>Text</td>\n",
       "      <td>NaN</td>\n",
       "      <td>Employment and income</td>\n",
       "      <td>Occupation | Employment</td>\n",
       "    </tr>\n",
       "    <tr>\n",
       "      <th>5</th>\n",
       "      <td>urn:ddi:uk.lha:7b964926-77df-4fc7-8a7f-3c64fbd...</td>\n",
       "      <td>1962 Personal Questionnaire</td>\n",
       "      <td>urn:ddi:uk.closer:183a5213-9b0d-4934-8516-670e...</td>\n",
       "      <td>10402</td>\n",
       "      <td>Personality | Temperament</td>\n",
       "      <td>urn:ddi:uk.lha:cab9cd2b-748a-4cd0-a7c5-5f383eb...</td>\n",
       "      <td>is there anything about your job or your life ...</td>\n",
       "      <td>Text</td>\n",
       "      <td>NaN</td>\n",
       "      <td>Mental health and mental processes</td>\n",
       "      <td>Personality | Temperament</td>\n",
       "    </tr>\n",
       "    <tr>\n",
       "      <th>6</th>\n",
       "      <td>urn:ddi:uk.lha:7b964926-77df-4fc7-8a7f-3c64fbd...</td>\n",
       "      <td>1962 Personal Questionnaire</td>\n",
       "      <td>urn:ddi:uk.closer:6dcf7f58-5225-4f93-a16f-a18d...</td>\n",
       "      <td>10901</td>\n",
       "      <td>Occupation | Employment</td>\n",
       "      <td>urn:ddi:uk.lha:fcad3db0-a68b-49ad-a3f7-61c984a...</td>\n",
       "      <td>what is your present job</td>\n",
       "      <td>Text</td>\n",
       "      <td>NaN</td>\n",
       "      <td>Employment and income</td>\n",
       "      <td>Occupation | Employment</td>\n",
       "    </tr>\n",
       "    <tr>\n",
       "      <th>7</th>\n",
       "      <td>urn:ddi:uk.lha:7b964926-77df-4fc7-8a7f-3c64fbd...</td>\n",
       "      <td>1962 Personal Questionnaire</td>\n",
       "      <td>urn:ddi:uk.closer:1e7db3f1-46cf-4244-95e8-a700...</td>\n",
       "      <td>10709</td>\n",
       "      <td>Leisure activities</td>\n",
       "      <td>urn:ddi:uk.lha:aeb8fae6-7783-40d4-9d55-6cc6ad9...</td>\n",
       "      <td>what clubs do you belong to how often do you g...</td>\n",
       "      <td>Numeric</td>\n",
       "      <td>NaN</td>\n",
       "      <td>Family and social networks</td>\n",
       "      <td>Leisure activities</td>\n",
       "    </tr>\n",
       "    <tr>\n",
       "      <th>8</th>\n",
       "      <td>urn:ddi:uk.lha:7b964926-77df-4fc7-8a7f-3c64fbd...</td>\n",
       "      <td>1962 Personal Questionnaire</td>\n",
       "      <td>urn:ddi:uk.closer:1e7db3f1-46cf-4244-95e8-a700...</td>\n",
       "      <td>10709</td>\n",
       "      <td>Leisure activities</td>\n",
       "      <td>urn:ddi:uk.lha:d1ca9cb7-1e3f-4d84-8f1c-6db653d...</td>\n",
       "      <td>what clubs do you belong to how often do you g...</td>\n",
       "      <td>Numeric</td>\n",
       "      <td>NaN</td>\n",
       "      <td>Family and social networks</td>\n",
       "      <td>Leisure activities</td>\n",
       "    </tr>\n",
       "    <tr>\n",
       "      <th>9</th>\n",
       "      <td>urn:ddi:uk.lha:7b964926-77df-4fc7-8a7f-3c64fbd...</td>\n",
       "      <td>1962 Personal Questionnaire</td>\n",
       "      <td>urn:ddi:uk.closer:1e7db3f1-46cf-4244-95e8-a700...</td>\n",
       "      <td>10709</td>\n",
       "      <td>Leisure activities</td>\n",
       "      <td>urn:ddi:uk.lha:f4c45a14-2734-4fd3-acce-6edd0b7...</td>\n",
       "      <td>what clubs do you belong to how often do you g...</td>\n",
       "      <td>Numeric</td>\n",
       "      <td>NaN</td>\n",
       "      <td>Family and social networks</td>\n",
       "      <td>Leisure activities</td>\n",
       "    </tr>\n",
       "  </tbody>\n",
       "</table>\n",
       "</div>"
      ],
      "text/plain": [
       "                                       InstrumentURN  \\\n",
       "0  urn:ddi:uk.lha:7b964926-77df-4fc7-8a7f-3c64fbd...   \n",
       "1  urn:ddi:uk.lha:7b964926-77df-4fc7-8a7f-3c64fbd...   \n",
       "2  urn:ddi:uk.lha:7b964926-77df-4fc7-8a7f-3c64fbd...   \n",
       "3  urn:ddi:uk.lha:7b964926-77df-4fc7-8a7f-3c64fbd...   \n",
       "4  urn:ddi:uk.lha:7b964926-77df-4fc7-8a7f-3c64fbd...   \n",
       "5  urn:ddi:uk.lha:7b964926-77df-4fc7-8a7f-3c64fbd...   \n",
       "6  urn:ddi:uk.lha:7b964926-77df-4fc7-8a7f-3c64fbd...   \n",
       "7  urn:ddi:uk.lha:7b964926-77df-4fc7-8a7f-3c64fbd...   \n",
       "8  urn:ddi:uk.lha:7b964926-77df-4fc7-8a7f-3c64fbd...   \n",
       "9  urn:ddi:uk.lha:7b964926-77df-4fc7-8a7f-3c64fbd...   \n",
       "\n",
       "                    Instrument  \\\n",
       "0  1962 Personal Questionnaire   \n",
       "1  1962 Personal Questionnaire   \n",
       "2  1962 Personal Questionnaire   \n",
       "3  1962 Personal Questionnaire   \n",
       "4  1962 Personal Questionnaire   \n",
       "5  1962 Personal Questionnaire   \n",
       "6  1962 Personal Questionnaire   \n",
       "7  1962 Personal Questionnaire   \n",
       "8  1962 Personal Questionnaire   \n",
       "9  1962 Personal Questionnaire   \n",
       "\n",
       "                                    QuestionGroupURN  QuestionGroupName  \\\n",
       "0  urn:ddi:uk.closer:1c132240-77f5-44cb-9c3c-4e37...              10903   \n",
       "1  urn:ddi:uk.closer:e6c765b8-5963-4e27-95df-9661...                115   \n",
       "2  urn:ddi:uk.closer:1e7db3f1-46cf-4244-95e8-a700...              10709   \n",
       "3  urn:ddi:uk.closer:1e7db3f1-46cf-4244-95e8-a700...              10709   \n",
       "4  urn:ddi:uk.closer:6dcf7f58-5225-4f93-a16f-a18d...              10901   \n",
       "5  urn:ddi:uk.closer:183a5213-9b0d-4934-8516-670e...              10402   \n",
       "6  urn:ddi:uk.closer:6dcf7f58-5225-4f93-a16f-a18d...              10901   \n",
       "7  urn:ddi:uk.closer:1e7db3f1-46cf-4244-95e8-a700...              10709   \n",
       "8  urn:ddi:uk.closer:1e7db3f1-46cf-4244-95e8-a700...              10709   \n",
       "9  urn:ddi:uk.closer:1e7db3f1-46cf-4244-95e8-a700...              10709   \n",
       "\n",
       "          QuestionGroupLabel  \\\n",
       "0                     Income   \n",
       "1             Administration   \n",
       "2         Leisure activities   \n",
       "3         Leisure activities   \n",
       "4    Occupation | Employment   \n",
       "5  Personality | Temperament   \n",
       "6    Occupation | Employment   \n",
       "7         Leisure activities   \n",
       "8         Leisure activities   \n",
       "9         Leisure activities   \n",
       "\n",
       "                                         QuestionURN  \\\n",
       "0  urn:ddi:uk.lha:d888e0ca-ebcf-47ad-ae37-1c951b3...   \n",
       "1  urn:ddi:uk.lha:8b655a25-58d6-4af9-bb53-1dc815b...   \n",
       "2  urn:ddi:uk.lha:7faf3fd4-a8f7-4766-87e4-2a39a60...   \n",
       "3  urn:ddi:uk.lha:c7a87094-dc16-4596-a367-318a429...   \n",
       "4  urn:ddi:uk.lha:cba9bbbd-c1ac-4e54-93ed-3c74fa9...   \n",
       "5  urn:ddi:uk.lha:cab9cd2b-748a-4cd0-a7c5-5f383eb...   \n",
       "6  urn:ddi:uk.lha:fcad3db0-a68b-49ad-a3f7-61c984a...   \n",
       "7  urn:ddi:uk.lha:aeb8fae6-7783-40d4-9d55-6cc6ad9...   \n",
       "8  urn:ddi:uk.lha:d1ca9cb7-1e3f-4d84-8f1c-6db653d...   \n",
       "9  urn:ddi:uk.lha:f4c45a14-2734-4fd3-acce-6edd0b7...   \n",
       "\n",
       "                                     QuestionLiteral ResponseType Response  \\\n",
       "0  what pay or salary do you expect to be getting...      Numeric      NaN   \n",
       "1                                             ref no         Text      NaN   \n",
       "2  what clubs do you belong to how often do you g...      Numeric      NaN   \n",
       "3  what are the main things you do in your spare ...         Text      NaN   \n",
       "4  what will you have to do to get that job what ...         Text      NaN   \n",
       "5  is there anything about your job or your life ...         Text      NaN   \n",
       "6                           what is your present job         Text      NaN   \n",
       "7  what clubs do you belong to how often do you g...      Numeric      NaN   \n",
       "8  what clubs do you belong to how often do you g...      Numeric      NaN   \n",
       "9  what clubs do you belong to how often do you g...      Numeric      NaN   \n",
       "\n",
       "                                   Level1                          Level2  \n",
       "0                   Employment and income                          Income  \n",
       "1                          Administration                             NaN  \n",
       "2             Family and social networks              Leisure activities   \n",
       "3             Family and social networks              Leisure activities   \n",
       "4                   Employment and income        Occupation | Employment   \n",
       "5      Mental health and mental processes      Personality | Temperament   \n",
       "6                   Employment and income        Occupation | Employment   \n",
       "7             Family and social networks              Leisure activities   \n",
       "8             Family and social networks              Leisure activities   \n",
       "9             Family and social networks              Leisure activities   "
      ]
     },
     "execution_count": 126,
     "metadata": {},
     "output_type": "execute_result"
    }
   ],
   "source": [
    "df.head(10)"
   ]
  },
  {
   "cell_type": "code",
   "execution_count": 127,
   "metadata": {
    "colab": {
     "base_uri": "https://localhost:8080/"
    },
    "id": "GbFIvhLv-CnR",
    "outputId": "4dd1f6cb-e841-4e9c-afe4-419baf6ad75d"
   },
   "outputs": [
    {
     "data": {
      "text/plain": [
       "False"
      ]
     },
     "execution_count": 127,
     "metadata": {},
     "output_type": "execute_result"
    }
   ],
   "source": [
    "df['Level2'].isnull().values.any()"
   ]
  },
  {
   "cell_type": "code",
   "execution_count": 128,
   "metadata": {
    "colab": {
     "base_uri": "https://localhost:8080/",
     "height": 35
    },
    "id": "S0F8i9In-j-3",
    "outputId": "bb435305-bf1c-44bd-c9a1-127ebf7b54db"
   },
   "outputs": [
    {
     "data": {
      "text/plain": [
       "'    NaN'"
      ]
     },
     "execution_count": 128,
     "metadata": {},
     "output_type": "execute_result"
    }
   ],
   "source": [
    "df['Level2'].iloc[1]"
   ]
  },
  {
   "cell_type": "code",
   "execution_count": null,
   "metadata": {
    "id": "f7x2ppbxCuZV"
   },
   "outputs": [],
   "source": [
    "df_test=df.iloc[:10,:]"
   ]
  },
  {
   "cell_type": "code",
   "execution_count": null,
   "metadata": {
    "colab": {
     "base_uri": "https://localhost:8080/"
    },
    "id": "gglzF_ZNPszX",
    "outputId": "34602326-929d-4594-869e-5a66d444f8ba"
   },
   "outputs": [
    {
     "data": {
      "text/plain": [
       "35132"
      ]
     },
     "execution_count": 51,
     "metadata": {},
     "output_type": "execute_result"
    }
   ],
   "source": [
    "len(df)"
   ]
  },
  {
   "cell_type": "code",
   "execution_count": 129,
   "metadata": {
    "colab": {
     "background_save": true
    },
    "id": "HLauOw9k_s-f"
   },
   "outputs": [],
   "source": [
    "for i in range(0,len(df)):\n",
    "  df['Level2'] = df['Level2'].replace('\\s*NaN','',regex=True)"
   ]
  },
  {
   "cell_type": "code",
   "execution_count": 130,
   "metadata": {
    "id": "Ejvz8QvlZN6V"
   },
   "outputs": [],
   "source": [
    "ff=df\n",
    "new=df"
   ]
  },
  {
   "cell_type": "code",
   "execution_count": 131,
   "metadata": {
    "id": "7quYIK42DHTI"
   },
   "outputs": [],
   "source": [
    "from numpy.random import RandomState"
   ]
  },
  {
   "cell_type": "code",
   "execution_count": null,
   "metadata": {
    "id": "_zfdDotKZb6Y"
   },
   "outputs": [],
   "source": [
    "rng = RandomState()"
   ]
  },
  {
   "cell_type": "code",
   "execution_count": 132,
   "metadata": {
    "id": "MIWPFEUdMLpG"
   },
   "outputs": [],
   "source": [
    "df_train = df"
   ]
  },
  {
   "cell_type": "code",
   "execution_count": 45,
   "metadata": {
    "colab": {
     "base_uri": "https://localhost:8080/",
     "height": 790
    },
    "id": "Q-_91BqCCeob",
    "outputId": "0a98c707-0fdd-403a-da89-f4650c30c8dd"
   },
   "outputs": [
    {
     "data": {
      "text/html": [
       "<div>\n",
       "<style scoped>\n",
       "    .dataframe tbody tr th:only-of-type {\n",
       "        vertical-align: middle;\n",
       "    }\n",
       "\n",
       "    .dataframe tbody tr th {\n",
       "        vertical-align: top;\n",
       "    }\n",
       "\n",
       "    .dataframe thead th {\n",
       "        text-align: right;\n",
       "    }\n",
       "</style>\n",
       "<table border=\"1\" class=\"dataframe\">\n",
       "  <thead>\n",
       "    <tr style=\"text-align: right;\">\n",
       "      <th></th>\n",
       "      <th>InstrumentURN</th>\n",
       "      <th>Instrument</th>\n",
       "      <th>QuestionGroupURN</th>\n",
       "      <th>QuestionGroupName</th>\n",
       "      <th>QuestionGroupLabel</th>\n",
       "      <th>QuestionURN</th>\n",
       "      <th>QuestionLiteral</th>\n",
       "      <th>ResponseType</th>\n",
       "      <th>Response</th>\n",
       "      <th>Level1</th>\n",
       "      <th>Level2</th>\n",
       "    </tr>\n",
       "  </thead>\n",
       "  <tbody>\n",
       "    <tr>\n",
       "      <th>0</th>\n",
       "      <td>urn:ddi:uk.lha:7b964926-77df-4fc7-8a7f-3c64fbd...</td>\n",
       "      <td>1962 Personal Questionnaire</td>\n",
       "      <td>urn:ddi:uk.closer:1c132240-77f5-44cb-9c3c-4e37...</td>\n",
       "      <td>10903</td>\n",
       "      <td>Income</td>\n",
       "      <td>urn:ddi:uk.lha:d888e0ca-ebcf-47ad-ae37-1c951b3...</td>\n",
       "      <td>what pay or salary do you expect to be getting...</td>\n",
       "      <td>Numeric</td>\n",
       "      <td>NaN</td>\n",
       "      <td>Employment and income</td>\n",
       "      <td>Income</td>\n",
       "    </tr>\n",
       "    <tr>\n",
       "      <th>1</th>\n",
       "      <td>urn:ddi:uk.lha:7b964926-77df-4fc7-8a7f-3c64fbd...</td>\n",
       "      <td>1962 Personal Questionnaire</td>\n",
       "      <td>urn:ddi:uk.closer:e6c765b8-5963-4e27-95df-9661...</td>\n",
       "      <td>115</td>\n",
       "      <td>Administration</td>\n",
       "      <td>urn:ddi:uk.lha:8b655a25-58d6-4af9-bb53-1dc815b...</td>\n",
       "      <td>ref no</td>\n",
       "      <td>Text</td>\n",
       "      <td>NaN</td>\n",
       "      <td>Administration</td>\n",
       "      <td></td>\n",
       "    </tr>\n",
       "    <tr>\n",
       "      <th>2</th>\n",
       "      <td>urn:ddi:uk.lha:7b964926-77df-4fc7-8a7f-3c64fbd...</td>\n",
       "      <td>1962 Personal Questionnaire</td>\n",
       "      <td>urn:ddi:uk.closer:1e7db3f1-46cf-4244-95e8-a700...</td>\n",
       "      <td>10709</td>\n",
       "      <td>Leisure activities</td>\n",
       "      <td>urn:ddi:uk.lha:7faf3fd4-a8f7-4766-87e4-2a39a60...</td>\n",
       "      <td>what clubs do you belong to how often do you g...</td>\n",
       "      <td>Numeric</td>\n",
       "      <td>NaN</td>\n",
       "      <td>Family and social networks</td>\n",
       "      <td>Leisure activities</td>\n",
       "    </tr>\n",
       "    <tr>\n",
       "      <th>3</th>\n",
       "      <td>urn:ddi:uk.lha:7b964926-77df-4fc7-8a7f-3c64fbd...</td>\n",
       "      <td>1962 Personal Questionnaire</td>\n",
       "      <td>urn:ddi:uk.closer:1e7db3f1-46cf-4244-95e8-a700...</td>\n",
       "      <td>10709</td>\n",
       "      <td>Leisure activities</td>\n",
       "      <td>urn:ddi:uk.lha:c7a87094-dc16-4596-a367-318a429...</td>\n",
       "      <td>what are the main things you do in your spare ...</td>\n",
       "      <td>Text</td>\n",
       "      <td>NaN</td>\n",
       "      <td>Family and social networks</td>\n",
       "      <td>Leisure activities</td>\n",
       "    </tr>\n",
       "    <tr>\n",
       "      <th>4</th>\n",
       "      <td>urn:ddi:uk.lha:7b964926-77df-4fc7-8a7f-3c64fbd...</td>\n",
       "      <td>1962 Personal Questionnaire</td>\n",
       "      <td>urn:ddi:uk.closer:6dcf7f58-5225-4f93-a16f-a18d...</td>\n",
       "      <td>10901</td>\n",
       "      <td>Occupation | Employment</td>\n",
       "      <td>urn:ddi:uk.lha:cba9bbbd-c1ac-4e54-93ed-3c74fa9...</td>\n",
       "      <td>what will you have to do to get that job what ...</td>\n",
       "      <td>Text</td>\n",
       "      <td>NaN</td>\n",
       "      <td>Employment and income</td>\n",
       "      <td>Occupation | Employment</td>\n",
       "    </tr>\n",
       "    <tr>\n",
       "      <th>...</th>\n",
       "      <td>...</td>\n",
       "      <td>...</td>\n",
       "      <td>...</td>\n",
       "      <td>...</td>\n",
       "      <td>...</td>\n",
       "      <td>...</td>\n",
       "      <td>...</td>\n",
       "      <td>...</td>\n",
       "      <td>...</td>\n",
       "      <td>...</td>\n",
       "      <td>...</td>\n",
       "    </tr>\n",
       "    <tr>\n",
       "      <th>35127</th>\n",
       "      <td>urn:ddi:uk.lha:ec6e7d6d-a776-4520-9e57-57bc8f2...</td>\n",
       "      <td>1964 University Questionnaire</td>\n",
       "      <td>urn:ddi:uk.closer:b5764a7d-951c-4e66-adfe-b00c...</td>\n",
       "      <td>10901</td>\n",
       "      <td>Occupation | Employment</td>\n",
       "      <td>urn:ddi:uk.lha:c6960108-d630-4f37-be5a-d84bcc0...</td>\n",
       "      <td>why do you want it</td>\n",
       "      <td>Text</td>\n",
       "      <td>NaN</td>\n",
       "      <td>Employment and income</td>\n",
       "      <td>Occupation | Employment</td>\n",
       "    </tr>\n",
       "    <tr>\n",
       "      <th>35128</th>\n",
       "      <td>urn:ddi:uk.lha:ec6e7d6d-a776-4520-9e57-57bc8f2...</td>\n",
       "      <td>1964 University Questionnaire</td>\n",
       "      <td>urn:ddi:uk.closer:323cd70f-3a23-4bf7-9c64-080e...</td>\n",
       "      <td>10323</td>\n",
       "      <td>General health</td>\n",
       "      <td>urn:ddi:uk.lha:98d7c7f5-171f-47d6-bb44-e59a1d7...</td>\n",
       "      <td>have you ever had a squint</td>\n",
       "      <td>CodeList</td>\n",
       "      <td>1, yes | 0, no</td>\n",
       "      <td>Physical health</td>\n",
       "      <td>General health</td>\n",
       "    </tr>\n",
       "    <tr>\n",
       "      <th>35129</th>\n",
       "      <td>urn:ddi:uk.lha:ec6e7d6d-a776-4520-9e57-57bc8f2...</td>\n",
       "      <td>1964 University Questionnaire</td>\n",
       "      <td>urn:ddi:uk.closer:323cd70f-3a23-4bf7-9c64-080e...</td>\n",
       "      <td>10323</td>\n",
       "      <td>General health</td>\n",
       "      <td>urn:ddi:uk.lha:3506c2ad-073d-4117-8f6e-24fea22...</td>\n",
       "      <td>have you been to see them</td>\n",
       "      <td>CodeList</td>\n",
       "      <td>1, yes | 0, no</td>\n",
       "      <td>Physical health</td>\n",
       "      <td>General health</td>\n",
       "    </tr>\n",
       "    <tr>\n",
       "      <th>35130</th>\n",
       "      <td>urn:ddi:uk.lha:ec6e7d6d-a776-4520-9e57-57bc8f2...</td>\n",
       "      <td>1964 University Questionnaire</td>\n",
       "      <td>urn:ddi:uk.closer:517cd58d-6786-4421-93e3-e787...</td>\n",
       "      <td>10501</td>\n",
       "      <td>Health services utilisation</td>\n",
       "      <td>urn:ddi:uk.lha:e420ab0e-329e-4ef1-8e1d-2964193...</td>\n",
       "      <td>how many times</td>\n",
       "      <td>Numeric</td>\n",
       "      <td>NaN</td>\n",
       "      <td>Health care</td>\n",
       "      <td>Health services utilisation</td>\n",
       "    </tr>\n",
       "    <tr>\n",
       "      <th>35131</th>\n",
       "      <td>urn:ddi:uk.lha:ec6e7d6d-a776-4520-9e57-57bc8f2...</td>\n",
       "      <td>1964 University Questionnaire</td>\n",
       "      <td>urn:ddi:uk.closer:517cd58d-6786-4421-93e3-e787...</td>\n",
       "      <td>10501</td>\n",
       "      <td>Health services utilisation</td>\n",
       "      <td>urn:ddi:uk.lha:0f7d3d67-6e8b-4673-845a-b3e813f...</td>\n",
       "      <td>what have you been about</td>\n",
       "      <td>Text</td>\n",
       "      <td>NaN</td>\n",
       "      <td>Health care</td>\n",
       "      <td>Health services utilisation</td>\n",
       "    </tr>\n",
       "  </tbody>\n",
       "</table>\n",
       "<p>35132 rows × 11 columns</p>\n",
       "</div>"
      ],
      "text/plain": [
       "                                           InstrumentURN  \\\n",
       "0      urn:ddi:uk.lha:7b964926-77df-4fc7-8a7f-3c64fbd...   \n",
       "1      urn:ddi:uk.lha:7b964926-77df-4fc7-8a7f-3c64fbd...   \n",
       "2      urn:ddi:uk.lha:7b964926-77df-4fc7-8a7f-3c64fbd...   \n",
       "3      urn:ddi:uk.lha:7b964926-77df-4fc7-8a7f-3c64fbd...   \n",
       "4      urn:ddi:uk.lha:7b964926-77df-4fc7-8a7f-3c64fbd...   \n",
       "...                                                  ...   \n",
       "35127  urn:ddi:uk.lha:ec6e7d6d-a776-4520-9e57-57bc8f2...   \n",
       "35128  urn:ddi:uk.lha:ec6e7d6d-a776-4520-9e57-57bc8f2...   \n",
       "35129  urn:ddi:uk.lha:ec6e7d6d-a776-4520-9e57-57bc8f2...   \n",
       "35130  urn:ddi:uk.lha:ec6e7d6d-a776-4520-9e57-57bc8f2...   \n",
       "35131  urn:ddi:uk.lha:ec6e7d6d-a776-4520-9e57-57bc8f2...   \n",
       "\n",
       "                          Instrument  \\\n",
       "0        1962 Personal Questionnaire   \n",
       "1        1962 Personal Questionnaire   \n",
       "2        1962 Personal Questionnaire   \n",
       "3        1962 Personal Questionnaire   \n",
       "4        1962 Personal Questionnaire   \n",
       "...                              ...   \n",
       "35127  1964 University Questionnaire   \n",
       "35128  1964 University Questionnaire   \n",
       "35129  1964 University Questionnaire   \n",
       "35130  1964 University Questionnaire   \n",
       "35131  1964 University Questionnaire   \n",
       "\n",
       "                                        QuestionGroupURN  QuestionGroupName  \\\n",
       "0      urn:ddi:uk.closer:1c132240-77f5-44cb-9c3c-4e37...              10903   \n",
       "1      urn:ddi:uk.closer:e6c765b8-5963-4e27-95df-9661...                115   \n",
       "2      urn:ddi:uk.closer:1e7db3f1-46cf-4244-95e8-a700...              10709   \n",
       "3      urn:ddi:uk.closer:1e7db3f1-46cf-4244-95e8-a700...              10709   \n",
       "4      urn:ddi:uk.closer:6dcf7f58-5225-4f93-a16f-a18d...              10901   \n",
       "...                                                  ...                ...   \n",
       "35127  urn:ddi:uk.closer:b5764a7d-951c-4e66-adfe-b00c...              10901   \n",
       "35128  urn:ddi:uk.closer:323cd70f-3a23-4bf7-9c64-080e...              10323   \n",
       "35129  urn:ddi:uk.closer:323cd70f-3a23-4bf7-9c64-080e...              10323   \n",
       "35130  urn:ddi:uk.closer:517cd58d-6786-4421-93e3-e787...              10501   \n",
       "35131  urn:ddi:uk.closer:517cd58d-6786-4421-93e3-e787...              10501   \n",
       "\n",
       "                QuestionGroupLabel  \\\n",
       "0                           Income   \n",
       "1                   Administration   \n",
       "2               Leisure activities   \n",
       "3               Leisure activities   \n",
       "4          Occupation | Employment   \n",
       "...                            ...   \n",
       "35127      Occupation | Employment   \n",
       "35128               General health   \n",
       "35129               General health   \n",
       "35130  Health services utilisation   \n",
       "35131  Health services utilisation   \n",
       "\n",
       "                                             QuestionURN  \\\n",
       "0      urn:ddi:uk.lha:d888e0ca-ebcf-47ad-ae37-1c951b3...   \n",
       "1      urn:ddi:uk.lha:8b655a25-58d6-4af9-bb53-1dc815b...   \n",
       "2      urn:ddi:uk.lha:7faf3fd4-a8f7-4766-87e4-2a39a60...   \n",
       "3      urn:ddi:uk.lha:c7a87094-dc16-4596-a367-318a429...   \n",
       "4      urn:ddi:uk.lha:cba9bbbd-c1ac-4e54-93ed-3c74fa9...   \n",
       "...                                                  ...   \n",
       "35127  urn:ddi:uk.lha:c6960108-d630-4f37-be5a-d84bcc0...   \n",
       "35128  urn:ddi:uk.lha:98d7c7f5-171f-47d6-bb44-e59a1d7...   \n",
       "35129  urn:ddi:uk.lha:3506c2ad-073d-4117-8f6e-24fea22...   \n",
       "35130  urn:ddi:uk.lha:e420ab0e-329e-4ef1-8e1d-2964193...   \n",
       "35131  urn:ddi:uk.lha:0f7d3d67-6e8b-4673-845a-b3e813f...   \n",
       "\n",
       "                                         QuestionLiteral ResponseType  \\\n",
       "0      what pay or salary do you expect to be getting...      Numeric   \n",
       "1                                                 ref no         Text   \n",
       "2      what clubs do you belong to how often do you g...      Numeric   \n",
       "3      what are the main things you do in your spare ...         Text   \n",
       "4      what will you have to do to get that job what ...         Text   \n",
       "...                                                  ...          ...   \n",
       "35127                                 why do you want it         Text   \n",
       "35128                         have you ever had a squint     CodeList   \n",
       "35129                          have you been to see them     CodeList   \n",
       "35130                                     how many times      Numeric   \n",
       "35131                           what have you been about         Text   \n",
       "\n",
       "             Response                           Level1  \\\n",
       "0                 NaN            Employment and income   \n",
       "1                 NaN                   Administration   \n",
       "2                 NaN      Family and social networks    \n",
       "3                 NaN      Family and social networks    \n",
       "4                 NaN            Employment and income   \n",
       "...               ...                              ...   \n",
       "35127             NaN            Employment and income   \n",
       "35128  1, yes | 0, no                 Physical health    \n",
       "35129  1, yes | 0, no                 Physical health    \n",
       "35130             NaN                      Health care   \n",
       "35131             NaN                      Health care   \n",
       "\n",
       "                                 Level2  \n",
       "0                                Income  \n",
       "1                                        \n",
       "2                   Leisure activities   \n",
       "3                   Leisure activities   \n",
       "4              Occupation | Employment   \n",
       "...                                 ...  \n",
       "35127          Occupation | Employment   \n",
       "35128                   General health   \n",
       "35129                   General health   \n",
       "35130      Health services utilisation   \n",
       "35131      Health services utilisation   \n",
       "\n",
       "[35132 rows x 11 columns]"
      ]
     },
     "execution_count": 45,
     "metadata": {},
     "output_type": "execute_result"
    }
   ],
   "source": [
    "df"
   ]
  },
  {
   "cell_type": "code",
   "execution_count": 134,
   "metadata": {
    "colab": {
     "base_uri": "https://localhost:8080/",
     "height": 747
    },
    "id": "70w3QRf0Mep-",
    "outputId": "b21c6191-15c6-4214-808d-0afd2d0e13f7"
   },
   "outputs": [
    {
     "data": {
      "text/html": [
       "<div>\n",
       "<style scoped>\n",
       "    .dataframe tbody tr th:only-of-type {\n",
       "        vertical-align: middle;\n",
       "    }\n",
       "\n",
       "    .dataframe tbody tr th {\n",
       "        vertical-align: top;\n",
       "    }\n",
       "\n",
       "    .dataframe thead th {\n",
       "        text-align: right;\n",
       "    }\n",
       "</style>\n",
       "<table border=\"1\" class=\"dataframe\">\n",
       "  <thead>\n",
       "    <tr style=\"text-align: right;\">\n",
       "      <th></th>\n",
       "      <th>InstrumentURN</th>\n",
       "      <th>Instrument</th>\n",
       "      <th>QuestionGroupURN</th>\n",
       "      <th>QuestionGroupName</th>\n",
       "      <th>QuestionGroupLabel</th>\n",
       "      <th>QuestionURN</th>\n",
       "      <th>QuestionLiteral</th>\n",
       "      <th>ResponseType</th>\n",
       "      <th>Response</th>\n",
       "      <th>Level1</th>\n",
       "      <th>Level2</th>\n",
       "    </tr>\n",
       "  </thead>\n",
       "  <tbody>\n",
       "    <tr>\n",
       "      <th>0</th>\n",
       "      <td>urn:ddi:uk.lha:7b964926-77df-4fc7-8a7f-3c64fbd...</td>\n",
       "      <td>1962 Personal Questionnaire</td>\n",
       "      <td>urn:ddi:uk.closer:1c132240-77f5-44cb-9c3c-4e37...</td>\n",
       "      <td>10903</td>\n",
       "      <td>Income</td>\n",
       "      <td>urn:ddi:uk.lha:d888e0ca-ebcf-47ad-ae37-1c951b3...</td>\n",
       "      <td>what pay or salary do you expect to be getting...</td>\n",
       "      <td>Numeric</td>\n",
       "      <td>NaN</td>\n",
       "      <td>Employment and income</td>\n",
       "      <td>Income</td>\n",
       "    </tr>\n",
       "    <tr>\n",
       "      <th>1</th>\n",
       "      <td>urn:ddi:uk.lha:7b964926-77df-4fc7-8a7f-3c64fbd...</td>\n",
       "      <td>1962 Personal Questionnaire</td>\n",
       "      <td>urn:ddi:uk.closer:e6c765b8-5963-4e27-95df-9661...</td>\n",
       "      <td>115</td>\n",
       "      <td>Administration</td>\n",
       "      <td>urn:ddi:uk.lha:8b655a25-58d6-4af9-bb53-1dc815b...</td>\n",
       "      <td>ref no</td>\n",
       "      <td>Text</td>\n",
       "      <td>NaN</td>\n",
       "      <td>Administration</td>\n",
       "      <td></td>\n",
       "    </tr>\n",
       "    <tr>\n",
       "      <th>2</th>\n",
       "      <td>urn:ddi:uk.lha:7b964926-77df-4fc7-8a7f-3c64fbd...</td>\n",
       "      <td>1962 Personal Questionnaire</td>\n",
       "      <td>urn:ddi:uk.closer:1e7db3f1-46cf-4244-95e8-a700...</td>\n",
       "      <td>10709</td>\n",
       "      <td>Leisure activities</td>\n",
       "      <td>urn:ddi:uk.lha:7faf3fd4-a8f7-4766-87e4-2a39a60...</td>\n",
       "      <td>what clubs do you belong to how often do you g...</td>\n",
       "      <td>Numeric</td>\n",
       "      <td>NaN</td>\n",
       "      <td>Family and social networks</td>\n",
       "      <td>Leisure activities</td>\n",
       "    </tr>\n",
       "    <tr>\n",
       "      <th>3</th>\n",
       "      <td>urn:ddi:uk.lha:7b964926-77df-4fc7-8a7f-3c64fbd...</td>\n",
       "      <td>1962 Personal Questionnaire</td>\n",
       "      <td>urn:ddi:uk.closer:1e7db3f1-46cf-4244-95e8-a700...</td>\n",
       "      <td>10709</td>\n",
       "      <td>Leisure activities</td>\n",
       "      <td>urn:ddi:uk.lha:c7a87094-dc16-4596-a367-318a429...</td>\n",
       "      <td>what are the main things you do in your spare ...</td>\n",
       "      <td>Text</td>\n",
       "      <td>NaN</td>\n",
       "      <td>Family and social networks</td>\n",
       "      <td>Leisure activities</td>\n",
       "    </tr>\n",
       "    <tr>\n",
       "      <th>4</th>\n",
       "      <td>urn:ddi:uk.lha:7b964926-77df-4fc7-8a7f-3c64fbd...</td>\n",
       "      <td>1962 Personal Questionnaire</td>\n",
       "      <td>urn:ddi:uk.closer:6dcf7f58-5225-4f93-a16f-a18d...</td>\n",
       "      <td>10901</td>\n",
       "      <td>Occupation | Employment</td>\n",
       "      <td>urn:ddi:uk.lha:cba9bbbd-c1ac-4e54-93ed-3c74fa9...</td>\n",
       "      <td>what will you have to do to get that job what ...</td>\n",
       "      <td>Text</td>\n",
       "      <td>NaN</td>\n",
       "      <td>Employment and income</td>\n",
       "      <td>Occupation | Employment</td>\n",
       "    </tr>\n",
       "    <tr>\n",
       "      <th>5</th>\n",
       "      <td>urn:ddi:uk.lha:7b964926-77df-4fc7-8a7f-3c64fbd...</td>\n",
       "      <td>1962 Personal Questionnaire</td>\n",
       "      <td>urn:ddi:uk.closer:183a5213-9b0d-4934-8516-670e...</td>\n",
       "      <td>10402</td>\n",
       "      <td>Personality | Temperament</td>\n",
       "      <td>urn:ddi:uk.lha:cab9cd2b-748a-4cd0-a7c5-5f383eb...</td>\n",
       "      <td>is there anything about your job or your life ...</td>\n",
       "      <td>Text</td>\n",
       "      <td>NaN</td>\n",
       "      <td>Mental health and mental processes</td>\n",
       "      <td>Personality | Temperament</td>\n",
       "    </tr>\n",
       "    <tr>\n",
       "      <th>6</th>\n",
       "      <td>urn:ddi:uk.lha:7b964926-77df-4fc7-8a7f-3c64fbd...</td>\n",
       "      <td>1962 Personal Questionnaire</td>\n",
       "      <td>urn:ddi:uk.closer:6dcf7f58-5225-4f93-a16f-a18d...</td>\n",
       "      <td>10901</td>\n",
       "      <td>Occupation | Employment</td>\n",
       "      <td>urn:ddi:uk.lha:fcad3db0-a68b-49ad-a3f7-61c984a...</td>\n",
       "      <td>what is your present job</td>\n",
       "      <td>Text</td>\n",
       "      <td>NaN</td>\n",
       "      <td>Employment and income</td>\n",
       "      <td>Occupation | Employment</td>\n",
       "    </tr>\n",
       "    <tr>\n",
       "      <th>7</th>\n",
       "      <td>urn:ddi:uk.lha:7b964926-77df-4fc7-8a7f-3c64fbd...</td>\n",
       "      <td>1962 Personal Questionnaire</td>\n",
       "      <td>urn:ddi:uk.closer:1e7db3f1-46cf-4244-95e8-a700...</td>\n",
       "      <td>10709</td>\n",
       "      <td>Leisure activities</td>\n",
       "      <td>urn:ddi:uk.lha:aeb8fae6-7783-40d4-9d55-6cc6ad9...</td>\n",
       "      <td>what clubs do you belong to how often do you g...</td>\n",
       "      <td>Numeric</td>\n",
       "      <td>NaN</td>\n",
       "      <td>Family and social networks</td>\n",
       "      <td>Leisure activities</td>\n",
       "    </tr>\n",
       "    <tr>\n",
       "      <th>8</th>\n",
       "      <td>urn:ddi:uk.lha:7b964926-77df-4fc7-8a7f-3c64fbd...</td>\n",
       "      <td>1962 Personal Questionnaire</td>\n",
       "      <td>urn:ddi:uk.closer:1e7db3f1-46cf-4244-95e8-a700...</td>\n",
       "      <td>10709</td>\n",
       "      <td>Leisure activities</td>\n",
       "      <td>urn:ddi:uk.lha:d1ca9cb7-1e3f-4d84-8f1c-6db653d...</td>\n",
       "      <td>what clubs do you belong to how often do you g...</td>\n",
       "      <td>Numeric</td>\n",
       "      <td>NaN</td>\n",
       "      <td>Family and social networks</td>\n",
       "      <td>Leisure activities</td>\n",
       "    </tr>\n",
       "    <tr>\n",
       "      <th>9</th>\n",
       "      <td>urn:ddi:uk.lha:7b964926-77df-4fc7-8a7f-3c64fbd...</td>\n",
       "      <td>1962 Personal Questionnaire</td>\n",
       "      <td>urn:ddi:uk.closer:1e7db3f1-46cf-4244-95e8-a700...</td>\n",
       "      <td>10709</td>\n",
       "      <td>Leisure activities</td>\n",
       "      <td>urn:ddi:uk.lha:f4c45a14-2734-4fd3-acce-6edd0b7...</td>\n",
       "      <td>what clubs do you belong to how often do you g...</td>\n",
       "      <td>Numeric</td>\n",
       "      <td>NaN</td>\n",
       "      <td>Family and social networks</td>\n",
       "      <td>Leisure activities</td>\n",
       "    </tr>\n",
       "  </tbody>\n",
       "</table>\n",
       "</div>"
      ],
      "text/plain": [
       "                                       InstrumentURN  \\\n",
       "0  urn:ddi:uk.lha:7b964926-77df-4fc7-8a7f-3c64fbd...   \n",
       "1  urn:ddi:uk.lha:7b964926-77df-4fc7-8a7f-3c64fbd...   \n",
       "2  urn:ddi:uk.lha:7b964926-77df-4fc7-8a7f-3c64fbd...   \n",
       "3  urn:ddi:uk.lha:7b964926-77df-4fc7-8a7f-3c64fbd...   \n",
       "4  urn:ddi:uk.lha:7b964926-77df-4fc7-8a7f-3c64fbd...   \n",
       "5  urn:ddi:uk.lha:7b964926-77df-4fc7-8a7f-3c64fbd...   \n",
       "6  urn:ddi:uk.lha:7b964926-77df-4fc7-8a7f-3c64fbd...   \n",
       "7  urn:ddi:uk.lha:7b964926-77df-4fc7-8a7f-3c64fbd...   \n",
       "8  urn:ddi:uk.lha:7b964926-77df-4fc7-8a7f-3c64fbd...   \n",
       "9  urn:ddi:uk.lha:7b964926-77df-4fc7-8a7f-3c64fbd...   \n",
       "\n",
       "                    Instrument  \\\n",
       "0  1962 Personal Questionnaire   \n",
       "1  1962 Personal Questionnaire   \n",
       "2  1962 Personal Questionnaire   \n",
       "3  1962 Personal Questionnaire   \n",
       "4  1962 Personal Questionnaire   \n",
       "5  1962 Personal Questionnaire   \n",
       "6  1962 Personal Questionnaire   \n",
       "7  1962 Personal Questionnaire   \n",
       "8  1962 Personal Questionnaire   \n",
       "9  1962 Personal Questionnaire   \n",
       "\n",
       "                                    QuestionGroupURN  QuestionGroupName  \\\n",
       "0  urn:ddi:uk.closer:1c132240-77f5-44cb-9c3c-4e37...              10903   \n",
       "1  urn:ddi:uk.closer:e6c765b8-5963-4e27-95df-9661...                115   \n",
       "2  urn:ddi:uk.closer:1e7db3f1-46cf-4244-95e8-a700...              10709   \n",
       "3  urn:ddi:uk.closer:1e7db3f1-46cf-4244-95e8-a700...              10709   \n",
       "4  urn:ddi:uk.closer:6dcf7f58-5225-4f93-a16f-a18d...              10901   \n",
       "5  urn:ddi:uk.closer:183a5213-9b0d-4934-8516-670e...              10402   \n",
       "6  urn:ddi:uk.closer:6dcf7f58-5225-4f93-a16f-a18d...              10901   \n",
       "7  urn:ddi:uk.closer:1e7db3f1-46cf-4244-95e8-a700...              10709   \n",
       "8  urn:ddi:uk.closer:1e7db3f1-46cf-4244-95e8-a700...              10709   \n",
       "9  urn:ddi:uk.closer:1e7db3f1-46cf-4244-95e8-a700...              10709   \n",
       "\n",
       "          QuestionGroupLabel  \\\n",
       "0                     Income   \n",
       "1             Administration   \n",
       "2         Leisure activities   \n",
       "3         Leisure activities   \n",
       "4    Occupation | Employment   \n",
       "5  Personality | Temperament   \n",
       "6    Occupation | Employment   \n",
       "7         Leisure activities   \n",
       "8         Leisure activities   \n",
       "9         Leisure activities   \n",
       "\n",
       "                                         QuestionURN  \\\n",
       "0  urn:ddi:uk.lha:d888e0ca-ebcf-47ad-ae37-1c951b3...   \n",
       "1  urn:ddi:uk.lha:8b655a25-58d6-4af9-bb53-1dc815b...   \n",
       "2  urn:ddi:uk.lha:7faf3fd4-a8f7-4766-87e4-2a39a60...   \n",
       "3  urn:ddi:uk.lha:c7a87094-dc16-4596-a367-318a429...   \n",
       "4  urn:ddi:uk.lha:cba9bbbd-c1ac-4e54-93ed-3c74fa9...   \n",
       "5  urn:ddi:uk.lha:cab9cd2b-748a-4cd0-a7c5-5f383eb...   \n",
       "6  urn:ddi:uk.lha:fcad3db0-a68b-49ad-a3f7-61c984a...   \n",
       "7  urn:ddi:uk.lha:aeb8fae6-7783-40d4-9d55-6cc6ad9...   \n",
       "8  urn:ddi:uk.lha:d1ca9cb7-1e3f-4d84-8f1c-6db653d...   \n",
       "9  urn:ddi:uk.lha:f4c45a14-2734-4fd3-acce-6edd0b7...   \n",
       "\n",
       "                                     QuestionLiteral ResponseType Response  \\\n",
       "0  what pay or salary do you expect to be getting...      Numeric      NaN   \n",
       "1                                             ref no         Text      NaN   \n",
       "2  what clubs do you belong to how often do you g...      Numeric      NaN   \n",
       "3  what are the main things you do in your spare ...         Text      NaN   \n",
       "4  what will you have to do to get that job what ...         Text      NaN   \n",
       "5  is there anything about your job or your life ...         Text      NaN   \n",
       "6                           what is your present job         Text      NaN   \n",
       "7  what clubs do you belong to how often do you g...      Numeric      NaN   \n",
       "8  what clubs do you belong to how often do you g...      Numeric      NaN   \n",
       "9  what clubs do you belong to how often do you g...      Numeric      NaN   \n",
       "\n",
       "                                   Level1                          Level2  \n",
       "0                   Employment and income                          Income  \n",
       "1                          Administration                                  \n",
       "2             Family and social networks              Leisure activities   \n",
       "3             Family and social networks              Leisure activities   \n",
       "4                   Employment and income        Occupation | Employment   \n",
       "5      Mental health and mental processes      Personality | Temperament   \n",
       "6                   Employment and income        Occupation | Employment   \n",
       "7             Family and social networks              Leisure activities   \n",
       "8             Family and social networks              Leisure activities   \n",
       "9             Family and social networks              Leisure activities   "
      ]
     },
     "execution_count": 134,
     "metadata": {},
     "output_type": "execute_result"
    }
   ],
   "source": [
    "df_train.head(10)"
   ]
  },
  {
   "cell_type": "markdown",
   "metadata": {
    "id": "fqJh3TsF9amA"
   },
   "source": [
    "df_test=df_train.iloc[:10,:]\n"
   ]
  },
  {
   "cell_type": "markdown",
   "metadata": {
    "id": "5btT38Pr9z11"
   },
   "source": [
    "for i in range(0,len(df_test)):\n",
    "  df_test['Level1']=df_test['Level1'].str.rstrip()"
   ]
  },
  {
   "cell_type": "markdown",
   "metadata": {
    "colab": {
     "base_uri": "https://localhost:8080/",
     "height": 790
    },
    "id": "OKtcq6wYSDP_",
    "outputId": "253e6de8-6a47-4f82-ceff-7b879d38a091"
   },
   "source": [
    "df_train"
   ]
  },
  {
   "cell_type": "markdown",
   "metadata": {
    "id": "r5wO9bfaZ5fB"
   },
   "source": [
    "df_train=df_train.reset_index()"
   ]
  },
  {
   "cell_type": "markdown",
   "metadata": {
    "colab": {
     "base_uri": "https://localhost:8080/",
     "height": 166
    },
    "id": "9bDSU-lzM0H6",
    "outputId": "3b141b3a-91a9-47f0-9417-e5f633eedcb6"
   },
   "source": [
    "df_train"
   ]
  },
  {
   "cell_type": "code",
   "execution_count": null,
   "metadata": {
    "id": "uMtLGzfgMsFY"
   },
   "outputs": [],
   "source": [
    "df_train = df_train.sample(frac=1).reset_index(drop=True)"
   ]
  },
  {
   "cell_type": "code",
   "execution_count": 135,
   "metadata": {
    "id": "2Pxy3mur_SOj"
   },
   "outputs": [],
   "source": [
    "for i in range(0,len(df_train)):\n",
    "  df_train['Level1']=df_train['Level1'].str.rstrip()\n",
    "  df_train['Level2']=df_train['Level2'].str.rstrip()"
   ]
  },
  {
   "cell_type": "code",
   "execution_count": 136,
   "metadata": {
    "id": "2AgPQbdy_ida"
   },
   "outputs": [],
   "source": [
    "for i in range(0,len(df_train)):\n",
    "  df_train['Level1']=df_train['Level1'].str.lstrip()\n",
    "  df_train['Level2']=df_train['Level2'].str.lstrip()"
   ]
  },
  {
   "cell_type": "code",
   "execution_count": 137,
   "metadata": {
    "id": "fTET9B0dMykI"
   },
   "outputs": [],
   "source": [
    "class LabelDictionary():\n",
    "    def __init__(self):\n",
    "        self.y2i = {}\n",
    "        self.i2y ={}"
   ]
  },
  {
   "cell_type": "code",
   "execution_count": 138,
   "metadata": {
    "id": "e7_PGWBoNPHe"
   },
   "outputs": [],
   "source": [
    "def create_class_dict(y_labels):\n",
    "    dict = LabelDictionary()\n",
    "    # this function takes labels in L2 and\n",
    "    # transform into range (0,max_classes) for train\n",
    "    unique_labels = set(np.unique(y_labels))\n",
    "    for i,label in enumerate(unique_labels):\n",
    "        dict.y2i[label]=i\n",
    "        dict.i2y[i]=label\n",
    "    return dict"
   ]
  },
  {
   "cell_type": "code",
   "execution_count": 139,
   "metadata": {
    "id": "XDfBpIaKacTO"
   },
   "outputs": [],
   "source": [
    "import re\n",
    "from sklearn.model_selection import train_test_split, cross_val_score\n",
    "from sklearn.feature_extraction.text import CountVectorizer\n",
    "from tensorflow.keras.preprocessing.text import Tokenizer\n",
    "from tensorflow.keras.preprocessing.sequence import pad_sequences\n",
    "import numpy as np\n",
    "import os\n",
    "import pandas as pd"
   ]
  },
  {
   "cell_type": "code",
   "execution_count": 140,
   "metadata": {
    "colab": {
     "base_uri": "https://localhost:8080/",
     "height": 166
    },
    "id": "hiE8uW8FUmzo",
    "outputId": "e3a898d8-7384-4db5-bbdf-743b763370fc"
   },
   "outputs": [
    {
     "data": {
      "text/plain": [
       "0        what pay or salary do you expect to be getting...\n",
       "1                                                   ref no\n",
       "2        what clubs do you belong to how often do you g...\n",
       "3        what are the main things you do in your spare ...\n",
       "4        what will you have to do to get that job what ...\n",
       "                               ...                        \n",
       "35127                                   why do you want it\n",
       "35128                           have you ever had a squint\n",
       "35129                            have you been to see them\n",
       "35130                                       how many times\n",
       "35131                             what have you been about\n",
       "Name: QuestionLiteral, Length: 35132, dtype: object"
      ]
     },
     "execution_count": 140,
     "metadata": {},
     "output_type": "execute_result"
    }
   ],
   "source": [
    "df_train.QuestionLiteral"
   ]
  },
  {
   "cell_type": "code",
   "execution_count": 141,
   "metadata": {},
   "outputs": [],
   "source": [
    "df_train_new=df_train"
   ]
  },
  {
   "cell_type": "code",
   "execution_count": 142,
   "metadata": {},
   "outputs": [],
   "source": [
    "class Dataset():\n",
    "    def __init__(self):\n",
    "        self.x_train=None\n",
    "        self.y_train=None\n",
    "        self.x_val=None\n",
    "        self.y_val=None\n",
    "        self.label_dict=None\n",
    "        self.number_of_classes=None\n",
    "        self.childs=None"
   ]
  },
  {
   "cell_type": "code",
   "execution_count": 143,
   "metadata": {},
   "outputs": [
    {
     "data": {
      "text/html": [
       "<div>\n",
       "<style scoped>\n",
       "    .dataframe tbody tr th:only-of-type {\n",
       "        vertical-align: middle;\n",
       "    }\n",
       "\n",
       "    .dataframe tbody tr th {\n",
       "        vertical-align: top;\n",
       "    }\n",
       "\n",
       "    .dataframe thead th {\n",
       "        text-align: right;\n",
       "    }\n",
       "</style>\n",
       "<table border=\"1\" class=\"dataframe\">\n",
       "  <thead>\n",
       "    <tr style=\"text-align: right;\">\n",
       "      <th></th>\n",
       "      <th>InstrumentURN</th>\n",
       "      <th>Instrument</th>\n",
       "      <th>QuestionGroupURN</th>\n",
       "      <th>QuestionGroupName</th>\n",
       "      <th>QuestionGroupLabel</th>\n",
       "      <th>QuestionURN</th>\n",
       "      <th>QuestionLiteral</th>\n",
       "      <th>ResponseType</th>\n",
       "      <th>Response</th>\n",
       "      <th>Level1</th>\n",
       "      <th>Level2</th>\n",
       "    </tr>\n",
       "  </thead>\n",
       "  <tbody>\n",
       "    <tr>\n",
       "      <th>0</th>\n",
       "      <td>urn:ddi:uk.lha:7b964926-77df-4fc7-8a7f-3c64fbd...</td>\n",
       "      <td>1962 Personal Questionnaire</td>\n",
       "      <td>urn:ddi:uk.closer:1c132240-77f5-44cb-9c3c-4e37...</td>\n",
       "      <td>10903</td>\n",
       "      <td>Income</td>\n",
       "      <td>urn:ddi:uk.lha:d888e0ca-ebcf-47ad-ae37-1c951b3...</td>\n",
       "      <td>what pay or salary do you expect to be getting...</td>\n",
       "      <td>Numeric</td>\n",
       "      <td>NaN</td>\n",
       "      <td>Employment and income</td>\n",
       "      <td>Income</td>\n",
       "    </tr>\n",
       "    <tr>\n",
       "      <th>1</th>\n",
       "      <td>urn:ddi:uk.lha:7b964926-77df-4fc7-8a7f-3c64fbd...</td>\n",
       "      <td>1962 Personal Questionnaire</td>\n",
       "      <td>urn:ddi:uk.closer:e6c765b8-5963-4e27-95df-9661...</td>\n",
       "      <td>115</td>\n",
       "      <td>Administration</td>\n",
       "      <td>urn:ddi:uk.lha:8b655a25-58d6-4af9-bb53-1dc815b...</td>\n",
       "      <td>ref no</td>\n",
       "      <td>Text</td>\n",
       "      <td>NaN</td>\n",
       "      <td>Administration</td>\n",
       "      <td></td>\n",
       "    </tr>\n",
       "    <tr>\n",
       "      <th>2</th>\n",
       "      <td>urn:ddi:uk.lha:7b964926-77df-4fc7-8a7f-3c64fbd...</td>\n",
       "      <td>1962 Personal Questionnaire</td>\n",
       "      <td>urn:ddi:uk.closer:1e7db3f1-46cf-4244-95e8-a700...</td>\n",
       "      <td>10709</td>\n",
       "      <td>Leisure activities</td>\n",
       "      <td>urn:ddi:uk.lha:7faf3fd4-a8f7-4766-87e4-2a39a60...</td>\n",
       "      <td>what clubs do you belong to how often do you g...</td>\n",
       "      <td>Numeric</td>\n",
       "      <td>NaN</td>\n",
       "      <td>Family and social networks</td>\n",
       "      <td>Leisure activities</td>\n",
       "    </tr>\n",
       "    <tr>\n",
       "      <th>3</th>\n",
       "      <td>urn:ddi:uk.lha:7b964926-77df-4fc7-8a7f-3c64fbd...</td>\n",
       "      <td>1962 Personal Questionnaire</td>\n",
       "      <td>urn:ddi:uk.closer:1e7db3f1-46cf-4244-95e8-a700...</td>\n",
       "      <td>10709</td>\n",
       "      <td>Leisure activities</td>\n",
       "      <td>urn:ddi:uk.lha:c7a87094-dc16-4596-a367-318a429...</td>\n",
       "      <td>what are the main things you do in your spare ...</td>\n",
       "      <td>Text</td>\n",
       "      <td>NaN</td>\n",
       "      <td>Family and social networks</td>\n",
       "      <td>Leisure activities</td>\n",
       "    </tr>\n",
       "    <tr>\n",
       "      <th>4</th>\n",
       "      <td>urn:ddi:uk.lha:7b964926-77df-4fc7-8a7f-3c64fbd...</td>\n",
       "      <td>1962 Personal Questionnaire</td>\n",
       "      <td>urn:ddi:uk.closer:6dcf7f58-5225-4f93-a16f-a18d...</td>\n",
       "      <td>10901</td>\n",
       "      <td>Occupation | Employment</td>\n",
       "      <td>urn:ddi:uk.lha:cba9bbbd-c1ac-4e54-93ed-3c74fa9...</td>\n",
       "      <td>what will you have to do to get that job what ...</td>\n",
       "      <td>Text</td>\n",
       "      <td>NaN</td>\n",
       "      <td>Employment and income</td>\n",
       "      <td>Occupation | Employment</td>\n",
       "    </tr>\n",
       "    <tr>\n",
       "      <th>...</th>\n",
       "      <td>...</td>\n",
       "      <td>...</td>\n",
       "      <td>...</td>\n",
       "      <td>...</td>\n",
       "      <td>...</td>\n",
       "      <td>...</td>\n",
       "      <td>...</td>\n",
       "      <td>...</td>\n",
       "      <td>...</td>\n",
       "      <td>...</td>\n",
       "      <td>...</td>\n",
       "    </tr>\n",
       "    <tr>\n",
       "      <th>35127</th>\n",
       "      <td>urn:ddi:uk.lha:ec6e7d6d-a776-4520-9e57-57bc8f2...</td>\n",
       "      <td>1964 University Questionnaire</td>\n",
       "      <td>urn:ddi:uk.closer:b5764a7d-951c-4e66-adfe-b00c...</td>\n",
       "      <td>10901</td>\n",
       "      <td>Occupation | Employment</td>\n",
       "      <td>urn:ddi:uk.lha:c6960108-d630-4f37-be5a-d84bcc0...</td>\n",
       "      <td>why do you want it</td>\n",
       "      <td>Text</td>\n",
       "      <td>NaN</td>\n",
       "      <td>Employment and income</td>\n",
       "      <td>Occupation | Employment</td>\n",
       "    </tr>\n",
       "    <tr>\n",
       "      <th>35128</th>\n",
       "      <td>urn:ddi:uk.lha:ec6e7d6d-a776-4520-9e57-57bc8f2...</td>\n",
       "      <td>1964 University Questionnaire</td>\n",
       "      <td>urn:ddi:uk.closer:323cd70f-3a23-4bf7-9c64-080e...</td>\n",
       "      <td>10323</td>\n",
       "      <td>General health</td>\n",
       "      <td>urn:ddi:uk.lha:98d7c7f5-171f-47d6-bb44-e59a1d7...</td>\n",
       "      <td>have you ever had a squint</td>\n",
       "      <td>CodeList</td>\n",
       "      <td>1, yes | 0, no</td>\n",
       "      <td>Physical health</td>\n",
       "      <td>General health</td>\n",
       "    </tr>\n",
       "    <tr>\n",
       "      <th>35129</th>\n",
       "      <td>urn:ddi:uk.lha:ec6e7d6d-a776-4520-9e57-57bc8f2...</td>\n",
       "      <td>1964 University Questionnaire</td>\n",
       "      <td>urn:ddi:uk.closer:323cd70f-3a23-4bf7-9c64-080e...</td>\n",
       "      <td>10323</td>\n",
       "      <td>General health</td>\n",
       "      <td>urn:ddi:uk.lha:3506c2ad-073d-4117-8f6e-24fea22...</td>\n",
       "      <td>have you been to see them</td>\n",
       "      <td>CodeList</td>\n",
       "      <td>1, yes | 0, no</td>\n",
       "      <td>Physical health</td>\n",
       "      <td>General health</td>\n",
       "    </tr>\n",
       "    <tr>\n",
       "      <th>35130</th>\n",
       "      <td>urn:ddi:uk.lha:ec6e7d6d-a776-4520-9e57-57bc8f2...</td>\n",
       "      <td>1964 University Questionnaire</td>\n",
       "      <td>urn:ddi:uk.closer:517cd58d-6786-4421-93e3-e787...</td>\n",
       "      <td>10501</td>\n",
       "      <td>Health services utilisation</td>\n",
       "      <td>urn:ddi:uk.lha:e420ab0e-329e-4ef1-8e1d-2964193...</td>\n",
       "      <td>how many times</td>\n",
       "      <td>Numeric</td>\n",
       "      <td>NaN</td>\n",
       "      <td>Health care</td>\n",
       "      <td>Health services utilisation</td>\n",
       "    </tr>\n",
       "    <tr>\n",
       "      <th>35131</th>\n",
       "      <td>urn:ddi:uk.lha:ec6e7d6d-a776-4520-9e57-57bc8f2...</td>\n",
       "      <td>1964 University Questionnaire</td>\n",
       "      <td>urn:ddi:uk.closer:517cd58d-6786-4421-93e3-e787...</td>\n",
       "      <td>10501</td>\n",
       "      <td>Health services utilisation</td>\n",
       "      <td>urn:ddi:uk.lha:0f7d3d67-6e8b-4673-845a-b3e813f...</td>\n",
       "      <td>what have you been about</td>\n",
       "      <td>Text</td>\n",
       "      <td>NaN</td>\n",
       "      <td>Health care</td>\n",
       "      <td>Health services utilisation</td>\n",
       "    </tr>\n",
       "  </tbody>\n",
       "</table>\n",
       "<p>35132 rows × 11 columns</p>\n",
       "</div>"
      ],
      "text/plain": [
       "                                           InstrumentURN  \\\n",
       "0      urn:ddi:uk.lha:7b964926-77df-4fc7-8a7f-3c64fbd...   \n",
       "1      urn:ddi:uk.lha:7b964926-77df-4fc7-8a7f-3c64fbd...   \n",
       "2      urn:ddi:uk.lha:7b964926-77df-4fc7-8a7f-3c64fbd...   \n",
       "3      urn:ddi:uk.lha:7b964926-77df-4fc7-8a7f-3c64fbd...   \n",
       "4      urn:ddi:uk.lha:7b964926-77df-4fc7-8a7f-3c64fbd...   \n",
       "...                                                  ...   \n",
       "35127  urn:ddi:uk.lha:ec6e7d6d-a776-4520-9e57-57bc8f2...   \n",
       "35128  urn:ddi:uk.lha:ec6e7d6d-a776-4520-9e57-57bc8f2...   \n",
       "35129  urn:ddi:uk.lha:ec6e7d6d-a776-4520-9e57-57bc8f2...   \n",
       "35130  urn:ddi:uk.lha:ec6e7d6d-a776-4520-9e57-57bc8f2...   \n",
       "35131  urn:ddi:uk.lha:ec6e7d6d-a776-4520-9e57-57bc8f2...   \n",
       "\n",
       "                          Instrument  \\\n",
       "0        1962 Personal Questionnaire   \n",
       "1        1962 Personal Questionnaire   \n",
       "2        1962 Personal Questionnaire   \n",
       "3        1962 Personal Questionnaire   \n",
       "4        1962 Personal Questionnaire   \n",
       "...                              ...   \n",
       "35127  1964 University Questionnaire   \n",
       "35128  1964 University Questionnaire   \n",
       "35129  1964 University Questionnaire   \n",
       "35130  1964 University Questionnaire   \n",
       "35131  1964 University Questionnaire   \n",
       "\n",
       "                                        QuestionGroupURN  QuestionGroupName  \\\n",
       "0      urn:ddi:uk.closer:1c132240-77f5-44cb-9c3c-4e37...              10903   \n",
       "1      urn:ddi:uk.closer:e6c765b8-5963-4e27-95df-9661...                115   \n",
       "2      urn:ddi:uk.closer:1e7db3f1-46cf-4244-95e8-a700...              10709   \n",
       "3      urn:ddi:uk.closer:1e7db3f1-46cf-4244-95e8-a700...              10709   \n",
       "4      urn:ddi:uk.closer:6dcf7f58-5225-4f93-a16f-a18d...              10901   \n",
       "...                                                  ...                ...   \n",
       "35127  urn:ddi:uk.closer:b5764a7d-951c-4e66-adfe-b00c...              10901   \n",
       "35128  urn:ddi:uk.closer:323cd70f-3a23-4bf7-9c64-080e...              10323   \n",
       "35129  urn:ddi:uk.closer:323cd70f-3a23-4bf7-9c64-080e...              10323   \n",
       "35130  urn:ddi:uk.closer:517cd58d-6786-4421-93e3-e787...              10501   \n",
       "35131  urn:ddi:uk.closer:517cd58d-6786-4421-93e3-e787...              10501   \n",
       "\n",
       "                QuestionGroupLabel  \\\n",
       "0                           Income   \n",
       "1                   Administration   \n",
       "2               Leisure activities   \n",
       "3               Leisure activities   \n",
       "4          Occupation | Employment   \n",
       "...                            ...   \n",
       "35127      Occupation | Employment   \n",
       "35128               General health   \n",
       "35129               General health   \n",
       "35130  Health services utilisation   \n",
       "35131  Health services utilisation   \n",
       "\n",
       "                                             QuestionURN  \\\n",
       "0      urn:ddi:uk.lha:d888e0ca-ebcf-47ad-ae37-1c951b3...   \n",
       "1      urn:ddi:uk.lha:8b655a25-58d6-4af9-bb53-1dc815b...   \n",
       "2      urn:ddi:uk.lha:7faf3fd4-a8f7-4766-87e4-2a39a60...   \n",
       "3      urn:ddi:uk.lha:c7a87094-dc16-4596-a367-318a429...   \n",
       "4      urn:ddi:uk.lha:cba9bbbd-c1ac-4e54-93ed-3c74fa9...   \n",
       "...                                                  ...   \n",
       "35127  urn:ddi:uk.lha:c6960108-d630-4f37-be5a-d84bcc0...   \n",
       "35128  urn:ddi:uk.lha:98d7c7f5-171f-47d6-bb44-e59a1d7...   \n",
       "35129  urn:ddi:uk.lha:3506c2ad-073d-4117-8f6e-24fea22...   \n",
       "35130  urn:ddi:uk.lha:e420ab0e-329e-4ef1-8e1d-2964193...   \n",
       "35131  urn:ddi:uk.lha:0f7d3d67-6e8b-4673-845a-b3e813f...   \n",
       "\n",
       "                                         QuestionLiteral ResponseType  \\\n",
       "0      what pay or salary do you expect to be getting...      Numeric   \n",
       "1                                                 ref no         Text   \n",
       "2      what clubs do you belong to how often do you g...      Numeric   \n",
       "3      what are the main things you do in your spare ...         Text   \n",
       "4      what will you have to do to get that job what ...         Text   \n",
       "...                                                  ...          ...   \n",
       "35127                                 why do you want it         Text   \n",
       "35128                         have you ever had a squint     CodeList   \n",
       "35129                          have you been to see them     CodeList   \n",
       "35130                                     how many times      Numeric   \n",
       "35131                           what have you been about         Text   \n",
       "\n",
       "             Response                      Level1                       Level2  \n",
       "0                 NaN       Employment and income                       Income  \n",
       "1                 NaN              Administration                               \n",
       "2                 NaN  Family and social networks           Leisure activities  \n",
       "3                 NaN  Family and social networks           Leisure activities  \n",
       "4                 NaN       Employment and income      Occupation | Employment  \n",
       "...               ...                         ...                          ...  \n",
       "35127             NaN       Employment and income      Occupation | Employment  \n",
       "35128  1, yes | 0, no             Physical health               General health  \n",
       "35129  1, yes | 0, no             Physical health               General health  \n",
       "35130             NaN                 Health care  Health services utilisation  \n",
       "35131             NaN                 Health care  Health services utilisation  \n",
       "\n",
       "[35132 rows x 11 columns]"
      ]
     },
     "execution_count": 143,
     "metadata": {},
     "output_type": "execute_result"
    }
   ],
   "source": [
    "df_train"
   ]
  },
  {
   "cell_type": "code",
   "execution_count": 145,
   "metadata": {},
   "outputs": [
    {
     "data": {
      "text/plain": [
       "array(['Employment and income', 'Administration',\n",
       "       'Family and social networks',\n",
       "       'Mental health\\xa0and mental processes', 'Life events',\n",
       "       'Education', 'Demographics', 'Health behaviour',\n",
       "       'Housing and local environment', 'Physical\\xa0health',\n",
       "       'Child development', 'Health care',\n",
       "       'Expectation, attitudes and beliefs', 'Covid-', 'Pregnancy',\n",
       "       'Omics'], dtype=object)"
      ]
     },
     "execution_count": 145,
     "metadata": {},
     "output_type": "execute_result"
    }
   ],
   "source": [
    "df_train['Level1'].unique()"
   ]
  },
  {
   "cell_type": "code",
   "execution_count": 146,
   "metadata": {},
   "outputs": [],
   "source": [
    "MEMORY_MB_MAX = 1600000 # maximum memory you can use\n",
    "MAX_SEQUENCE_LENGTH = 50# Maximum sequance lenght 500 words\n",
    "MAX_NB_WORDS = 5500 # Maximum number of unique words\n",
    "EMBEDDING_DIM = 100 #embedding dimension you can change it to {25, 100, 150, and 300} but need to change glove version\n",
    "batch_size_L1 = 64 # batch size in Level 1\n",
    "batch_size_L2 = 64"
   ]
  },
  {
   "cell_type": "code",
   "execution_count": 147,
   "metadata": {},
   "outputs": [],
   "source": [
    "x_train = df_train.QuestionLiteral.values"
   ]
  },
  {
   "cell_type": "code",
   "execution_count": 148,
   "metadata": {},
   "outputs": [
    {
     "name": "stdout",
     "output_type": "stream",
     "text": [
      "Found 9109 unique tokens.\n"
     ]
    }
   ],
   "source": [
    "tokenizer = Tokenizer(num_words=MAX_NB_WORDS)\n",
    "tokenizer.fit_on_texts(x_train)\n",
    "train_sequences = tokenizer.texts_to_sequences(x_train)\n",
    "#test_sequences = tokenizer.texts_to_sequences(x_test)\n",
    "word_index = tokenizer.word_index\n",
    "print('Found %s unique tokens.' % len(word_index))"
   ]
  },
  {
   "cell_type": "code",
   "execution_count": 59,
   "metadata": {},
   "outputs": [],
   "source": [
    "df_train2=df_train"
   ]
  },
  {
   "cell_type": "code",
   "execution_count": 149,
   "metadata": {},
   "outputs": [],
   "source": [
    "#x_pad_test = pad_sequences(test_sequences, maxlen=MAX_SEQUENCE_LENGTH)\n",
    "x_train_seq = pad_sequences(train_sequences, maxlen=MAX_SEQUENCE_LENGTH)\n",
    "#x_test_seq = pad_sequences(test_sequences,maxlen=MAX_SEQUENCE_LENGTH)\n",
    "df_train2['QuestionLiteral'] = x_train_seq.tolist()\n",
    "#df_test2['text'] = x_test_seq.tolist()"
   ]
  },
  {
   "cell_type": "code",
   "execution_count": 150,
   "metadata": {},
   "outputs": [],
   "source": [
    "def data_pipline(df_train, level=1, stop_level=2):\n",
    "    d = Dataset()\n",
    "    d.number_of_classes = len(df_train['Level%d' % level].unique())\n",
    "    d.dict = create_class_dict(df_train['Level%d' % level].unique())\n",
    "    d.x_train, d.x_val, d.y_train, d.y_val = \\\n",
    "        train_test_split(df_train.QuestionLiteral,\n",
    "                         df_train['Level%d' % level].apply(lambda x: d.dict.y2i[x]),\n",
    "                         test_size=0.1, random_state=0)\n",
    "\n",
    "    children_data = [None] * len(d.dict.y2i)\n",
    "    next_level = 1 + level\n",
    "    if stop_level + 1 == next_level:\n",
    "        d_childs = None\n",
    "    else:\n",
    "        for i in range(len(d.dict.i2y.keys())):\n",
    "            children_data[i] = data_pipline(df_train[df_train['Level%d' % level] == d.dict.i2y[i]],\n",
    "                                            level=next_level)\n",
    "        d.childs = children_data\n",
    "    return d"
   ]
  },
  {
   "cell_type": "code",
   "execution_count": 151,
   "metadata": {},
   "outputs": [],
   "source": [
    "d_train = data_pipline(df_train2, level=1, stop_level=2)"
   ]
  },
  {
   "cell_type": "code",
   "execution_count": 152,
   "metadata": {},
   "outputs": [],
   "source": [
    "embeddings_index = {}"
   ]
  },
  {
   "cell_type": "code",
   "execution_count": 153,
   "metadata": {},
   "outputs": [
    {
     "name": "stdout",
     "output_type": "stream",
     "text": [
      "Total 400000 word vectors.\n"
     ]
    }
   ],
   "source": [
    "f = open(os.path.join(os.getcwd(),'glove.6B.100d.txt'), encoding='utf8')\n",
    "for line in f:\n",
    "    values = line.split()\n",
    "    word = values[0]\n",
    "    try:\n",
    "      coefs = np.asarray(values[1:], dtype='float32')\n",
    "    except:\n",
    "      print(\"Warnning\"+str(values)+\" in\" + str(line))\n",
    "    embeddings_index[word] = coefs\n",
    "f.close()\n",
    "print('Total %s word vectors.' % len(embeddings_index))"
   ]
  },
  {
   "cell_type": "code",
   "execution_count": 154,
   "metadata": {},
   "outputs": [
    {
     "name": "stdout",
     "output_type": "stream",
     "text": [
      "Create model of RNN in level1\n"
     ]
    }
   ],
   "source": [
    "counter = 1 #keep track of number of models created\n",
    "print('Create model of RNN in level1')\n",
    "embedding_matrix = np.random.random((len(word_index) + 1, EMBEDDING_DIM))\n",
    "for word, i in word_index.items():\n",
    "  embedding_vector = embeddings_index.get(word)\n",
    "  if embedding_vector is not None:\n",
    "    embedding_matrix[i] = embedding_vector"
   ]
  },
  {
   "cell_type": "code",
   "execution_count": 155,
   "metadata": {},
   "outputs": [],
   "source": [
    "from tensorflow.keras.layers import Conv1D, MaxPooling1D, Embedding, Concatenate, Dropout, LSTM, GRU, Bidirectional,SimpleRNN\n",
    "from tensorflow.keras.layers import Dense, Input, Flatten"
   ]
  },
  {
   "cell_type": "code",
   "execution_count": 156,
   "metadata": {},
   "outputs": [],
   "source": [
    "from tensorflow.keras import Sequential\n",
    "def buildModel_RNN(word_index, embedding_matrix, nClasses, MAX_SEQUENCE_LENGTH, EMBEDDING_DIM):\n",
    "    model = Sequential()\n",
    "    model.add(Embedding(len(word_index) + 1,\n",
    "                                EMBEDDING_DIM,\n",
    "                                weights=[embedding_matrix],\n",
    "                                input_length=MAX_SEQUENCE_LENGTH,\n",
    "                                trainable=True))\n",
    "    model.add(GRU(100,dropout=0.2, recurrent_dropout=0.2))\n",
    "    model.add(Dense(nClasses, activation='softmax'))\n",
    "    model.compile(loss='sparse_categorical_crossentropy',\n",
    "                  optimizer='rmsprop',\n",
    "                  metrics=['acc'])\n",
    "    return model"
   ]
  },
  {
   "cell_type": "code",
   "execution_count": 157,
   "metadata": {},
   "outputs": [],
   "source": [
    "model = buildModel_RNN(word_index, embedding_matrix,d_train.number_of_classes,MAX_SEQUENCE_LENGTH,\n",
    "                                      EMBEDDING_DIM)"
   ]
  },
  {
   "cell_type": "code",
   "execution_count": 158,
   "metadata": {},
   "outputs": [
    {
     "name": "stdout",
     "output_type": "stream",
     "text": [
      "Create Sub model of level 1:  0\n",
      "Create Sub model of level 1:  1\n",
      "Create Sub model of level 1:  2\n",
      "Create Sub model of level 1:  3\n",
      "Create Sub model of level 1:  4\n",
      "Create Sub model of level 1:  5\n",
      "Create Sub model of level 1:  6\n",
      "Create Sub model of level 1:  7\n",
      "Create Sub model of level 1:  8\n",
      "Create Sub model of level 1:  9\n",
      "Create Sub model of level 1:  10\n",
      "Create Sub model of level 1:  11\n",
      "Create Sub model of level 1:  12\n",
      "Create Sub model of level 1:  13\n",
      "Create Sub model of level 1:  14\n",
      "Create Sub model of level 1:  15\n"
     ]
    }
   ],
   "source": [
    "HDLTex1=[]\n",
    "for i in range(0, d_train.number_of_classes):\n",
    "  print('Create Sub model of level 1: ', i)\n",
    "  HDLTex1.append(Sequential())\n",
    "  HDLTex1[i] = buildModel_RNN(word_index, embedding_matrix,d_train.childs[i].number_of_classes,\n",
    "                                              MAX_SEQUENCE_LENGTH, EMBEDDING_DIM)\n",
    "  counter +=1"
   ]
  },
  {
   "cell_type": "code",
   "execution_count": 161,
   "metadata": {},
   "outputs": [],
   "source": [
    "test_dtrainX=np.asarray(d_train.x_train)\n",
    "test_dtrainY=np.asarray(d_train.y_train)"
   ]
  },
  {
   "cell_type": "code",
   "execution_count": 171,
   "metadata": {},
   "outputs": [
    {
     "data": {
      "text/plain": [
       "array([12,  9, 11, ...,  8, 10,  4], dtype=int64)"
      ]
     },
     "execution_count": 171,
     "metadata": {},
     "output_type": "execute_result"
    }
   ],
   "source": [
    "test_dtrainY"
   ]
  },
  {
   "cell_type": "code",
   "execution_count": 172,
   "metadata": {},
   "outputs": [],
   "source": [
    "test_dvalX=np.asarray(d_train.x_val)\n",
    "test_dvalY=np.asarray(d_train.y_val)"
   ]
  },
  {
   "cell_type": "code",
   "execution_count": 174,
   "metadata": {},
   "outputs": [
    {
     "data": {
      "text/plain": [
       "array([ 4, 13,  4, ...,  1,  5,  8], dtype=int64)"
      ]
     },
     "execution_count": 174,
     "metadata": {},
     "output_type": "execute_result"
    }
   ],
   "source": [
    "test_dvalY"
   ]
  },
  {
   "cell_type": "code",
   "execution_count": 163,
   "metadata": {},
   "outputs": [],
   "source": [
    "test=[]\n",
    "for i in range(0,len(test_dtrainX)):\n",
    "    test.append(test_dtrainX[i])\n",
    "test2=[]\n",
    "for i in range(0,len(test_dvalX)):\n",
    "    test2.append(test_dvalX[i])"
   ]
  },
  {
   "cell_type": "code",
   "execution_count": 178,
   "metadata": {},
   "outputs": [
    {
     "data": {
      "text/plain": [
       "array([   0,    0,    0,    0,    0,    0,    0,    0,    0,    0,    0,\n",
       "          0,    0,    0,    0,    0,    0,    0,    0,    0,    0,    0,\n",
       "          0,    0,    0,    0,    0,    0,    0,    0,    0,    0,    0,\n",
       "          0,    0,    0,    0,    0,   44,    3,    2,   27,  197,  123,\n",
       "       3608,   16, 1402,  124,  506,  545])"
      ]
     },
     "execution_count": 178,
     "metadata": {},
     "output_type": "execute_result"
    }
   ],
   "source": [
    "test[0]"
   ]
  },
  {
   "cell_type": "code",
   "execution_count": 176,
   "metadata": {},
   "outputs": [],
   "source": [
    "test=np.asarray(test)"
   ]
  },
  {
   "cell_type": "code",
   "execution_count": 177,
   "metadata": {},
   "outputs": [],
   "source": [
    "test2=np.asarray(test2)"
   ]
  },
  {
   "cell_type": "code",
   "execution_count": 180,
   "metadata": {},
   "outputs": [],
   "source": [
    "child =[]\n",
    "child_dtrainX=[]\n",
    "child_dtrainY=[]\n",
    "for i in range(0,d_train.number_of_classes):\n",
    "    child_dtrainX.append(np.asarray(d_train.childs[i].x_train))\n",
    "    child_dtrainY.append(np.asarray(d_train.childs[i].y_train))\n",
    "    \n",
    "for j in range(0,len(child_dtrainX)):\n",
    "    child.append(child_dtrainX[j])"
   ]
  },
  {
   "cell_type": "code",
   "execution_count": 181,
   "metadata": {},
   "outputs": [],
   "source": [
    "child2 =[]\n",
    "child_valX=[]\n",
    "child_valY=[]\n",
    "for i in range(0,d_train.number_of_classes):\n",
    "    child_valX.append(np.asarray(d_train.childs[i].x_val))\n",
    "    \n",
    "    child_valY.append(np.asarray(d_train.childs[i].y_val))\n",
    "    \n",
    "for j in range(0,len(child_valX)):\n",
    "    child2.append(child_valX[j]) "
   ]
  },
  {
   "cell_type": "code",
   "execution_count": 182,
   "metadata": {},
   "outputs": [],
   "source": [
    "for i in range(0, len(child)):\n",
    "    child[i]=np.stack(child[i], axis=0 )"
   ]
  },
  {
   "cell_type": "code",
   "execution_count": 183,
   "metadata": {},
   "outputs": [],
   "source": [
    "for i in range(0, len(child2)):\n",
    "    child2[i]=np.stack(child2[i], axis=0 )"
   ]
  },
  {
   "cell_type": "code",
   "execution_count": 184,
   "metadata": {},
   "outputs": [
    {
     "data": {
      "text/plain": [
       "array([[   0,    0,    0, ...,   38,  865,   93],\n",
       "       [   0,    0,    0, ...,  139, 1233,  489],\n",
       "       [   0,    0,    0, ...,  267,  393,    2],\n",
       "       ...,\n",
       "       [   0,    0,    0, ..., 1538,  240,  119],\n",
       "       [   0,    0,    0, ...,  139, 1233,  489],\n",
       "       [   0,    0,    0, ...,    0,   13,  241]])"
      ]
     },
     "execution_count": 184,
     "metadata": {},
     "output_type": "execute_result"
    }
   ],
   "source": [
    "child[]"
   ]
  },
  {
   "cell_type": "code",
   "execution_count": 188,
   "metadata": {},
   "outputs": [
    {
     "data": {
      "text/plain": [
       "array([3, 1, 2, ..., 2, 1, 4], dtype=int64)"
      ]
     },
     "execution_count": 188,
     "metadata": {},
     "output_type": "execute_result"
    }
   ],
   "source": [
    "child_dtrainY[1]"
   ]
  },
  {
   "cell_type": "code",
   "execution_count": 189,
   "metadata": {},
   "outputs": [
    {
     "name": "stdout",
     "output_type": "stream",
     "text": [
      "starting to train on epoch 0\n",
      "495/495 - 23s - loss: 0.5559 - acc: 0.8303 - val_loss: 0.6986 - val_acc: 0.7971\n",
      "Here\n",
      "58/58 - 6s - loss: 1.8961 - acc: 0.3477 - val_loss: 1.5531 - val_acc: 0.4806\n",
      "18/18 - 4s - loss: 1.5695 - acc: 0.3635 - val_loss: 1.4160 - val_acc: 0.4683\n",
      "1/1 - 3s - loss: 0.0000e+00 - acc: 0.0000e+00 - val_loss: 0.0000e+00 - val_acc: 0.0000e+00\n",
      "1/1 - 3s - loss: 0.0000e+00 - acc: 0.0000e+00 - val_loss: 0.0000e+00 - val_acc: 0.0000e+00\n",
      "WARNING:tensorflow:5 out of the last 12 calls to <function Model.make_test_function.<locals>.test_function at 0x000002184D147CA0> triggered tf.function retracing. Tracing is expensive and the excessive number of tracings could be due to (1) creating @tf.function repeatedly in a loop, (2) passing tensors with different shapes, (3) passing Python objects instead of tensors. For (1), please define your @tf.function outside of the loop. For (2), @tf.function has experimental_relax_shapes=True option that relaxes argument shapes that can avoid unnecessary retracing. For (3), please refer to https://www.tensorflow.org/guide/function#controlling_retracing and https://www.tensorflow.org/api_docs/python/tf/function for  more details.\n",
      "97/97 - 8s - loss: 2.4611 - acc: 0.2664 - val_loss: 2.1810 - val_acc: 0.3479\n",
      "15/15 - 3s - loss: 1.4275 - acc: 0.5022 - val_loss: 1.3309 - val_acc: 0.4804\n",
      "38/38 - 5s - loss: 1.0827 - acc: 0.5955 - val_loss: 0.7442 - val_acc: 0.7057\n",
      "14/14 - 3s - loss: 0.0000e+00 - acc: 0.0000e+00 - val_loss: 0.0000e+00 - val_acc: 0.0000e+00\n",
      "WARNING:tensorflow:5 out of the last 21 calls to <function Model.make_test_function.<locals>.test_function at 0x00000218743EF0D0> triggered tf.function retracing. Tracing is expensive and the excessive number of tracings could be due to (1) creating @tf.function repeatedly in a loop, (2) passing tensors with different shapes, (3) passing Python objects instead of tensors. For (1), please define your @tf.function outside of the loop. For (2), @tf.function has experimental_relax_shapes=True option that relaxes argument shapes that can avoid unnecessary retracing. For (3), please refer to https://www.tensorflow.org/guide/function#controlling_retracing and https://www.tensorflow.org/api_docs/python/tf/function for  more details.\n",
      "50/50 - 5s - loss: 1.2526 - acc: 0.5818 - val_loss: 1.2409 - val_acc: 0.5730\n",
      "9/9 - 4s - loss: 0.6333 - acc: 0.7285 - val_loss: 0.5244 - val_acc: 0.7333\n",
      "WARNING:tensorflow:5 out of the last 15 calls to <function Model.make_test_function.<locals>.test_function at 0x000002187D35AAF0> triggered tf.function retracing. Tracing is expensive and the excessive number of tracings could be due to (1) creating @tf.function repeatedly in a loop, (2) passing tensors with different shapes, (3) passing Python objects instead of tensors. For (1), please define your @tf.function outside of the loop. For (2), @tf.function has experimental_relax_shapes=True option that relaxes argument shapes that can avoid unnecessary retracing. For (3), please refer to https://www.tensorflow.org/guide/function#controlling_retracing and https://www.tensorflow.org/api_docs/python/tf/function for  more details.\n",
      "42/42 - 5s - loss: 1.0854 - acc: 0.5977 - val_loss: 0.8885 - val_acc: 0.6689\n",
      "67/67 - 6s - loss: 1.1868 - acc: 0.5787 - val_loss: 1.2563 - val_acc: 0.4331\n",
      "44/44 - 5s - loss: 1.6457 - acc: 0.5261 - val_loss: 1.5306 - val_acc: 0.5793\n",
      "25/25 - 5s - loss: 1.3033 - acc: 0.5003 - val_loss: 1.1452 - val_acc: 0.5843\n",
      "15/15 - 5s - loss: 0.0000e+00 - acc: 0.0000e+00 - val_loss: 0.0000e+00 - val_acc: 0.0000e+00\n",
      "9/9 - 3s - loss: 0.5540 - acc: 0.7965 - val_loss: 0.3880 - val_acc: 0.8730\n",
      "starting to train on epoch 1\n",
      "495/495 - 27s - loss: 0.5168 - acc: 0.8427 - val_loss: 0.6605 - val_acc: 0.8090\n",
      "Here\n",
      "58/58 - 3s - loss: 1.4574 - acc: 0.5046 - val_loss: 1.2901 - val_acc: 0.5680\n",
      "18/18 - 1s - loss: 1.3011 - acc: 0.5248 - val_loss: 1.2813 - val_acc: 0.5397\n",
      "1/1 - 0s - loss: 0.0000e+00 - acc: 0.0000e+00 - val_loss: 0.0000e+00 - val_acc: 0.0000e+00\n",
      "1/1 - 0s - loss: 0.0000e+00 - acc: 0.0000e+00 - val_loss: 0.0000e+00 - val_acc: 0.0000e+00\n",
      "97/97 - 6s - loss: 1.9657 - acc: 0.4232 - val_loss: 1.8175 - val_acc: 0.4643\n",
      "15/15 - 1s - loss: 1.0460 - acc: 0.6368 - val_loss: 0.9749 - val_acc: 0.6765\n",
      "38/38 - 2s - loss: 0.6685 - acc: 0.7778 - val_loss: 0.5295 - val_acc: 0.8189\n",
      "14/14 - 1s - loss: 0.0000e+00 - acc: 0.0000e+00 - val_loss: 0.0000e+00 - val_acc: 0.0000e+00\n",
      "50/50 - 3s - loss: 0.9899 - acc: 0.6688 - val_loss: 0.9910 - val_acc: 0.6770\n",
      "9/9 - 1s - loss: 0.4849 - acc: 0.7996 - val_loss: 0.4880 - val_acc: 0.7833\n",
      "42/42 - 2s - loss: 0.7744 - acc: 0.7285 - val_loss: 0.7869 - val_acc: 0.7065\n",
      "67/67 - 4s - loss: 1.0374 - acc: 0.6214 - val_loss: 1.1295 - val_acc: 0.6157\n",
      "44/44 - 2s - loss: 1.3496 - acc: 0.6154 - val_loss: 1.2701 - val_acc: 0.6181\n",
      "25/25 - 1s - loss: 0.9246 - acc: 0.6878 - val_loss: 0.8648 - val_acc: 0.7022\n",
      "15/15 - 1s - loss: 0.0000e+00 - acc: 0.0000e+00 - val_loss: 0.0000e+00 - val_acc: 0.0000e+00\n",
      "9/9 - 1s - loss: 0.4027 - acc: 0.8814 - val_loss: 0.3962 - val_acc: 0.8730\n",
      "starting to train on epoch 2\n",
      "495/495 - 28s - loss: 0.4874 - acc: 0.8513 - val_loss: 0.6360 - val_acc: 0.8173\n",
      "Here\n",
      "58/58 - 3s - loss: 1.2479 - acc: 0.5867 - val_loss: 1.2351 - val_acc: 0.5801\n",
      "18/18 - 1s - loss: 1.1462 - acc: 0.5878 - val_loss: 1.1651 - val_acc: 0.6111\n",
      "1/1 - 0s - loss: 0.0000e+00 - acc: 0.0000e+00 - val_loss: 0.0000e+00 - val_acc: 0.0000e+00\n",
      "1/1 - 0s - loss: 0.0000e+00 - acc: 0.0000e+00 - val_loss: 0.0000e+00 - val_acc: 0.0000e+00\n",
      "97/97 - 5s - loss: 1.6214 - acc: 0.5190 - val_loss: 1.5623 - val_acc: 0.5211\n",
      "15/15 - 1s - loss: 0.8257 - acc: 0.7265 - val_loss: 0.7859 - val_acc: 0.7941\n",
      "38/38 - 2s - loss: 0.5006 - acc: 0.8165 - val_loss: 0.5113 - val_acc: 0.8151\n",
      "14/14 - 1s - loss: 0.0000e+00 - acc: 0.0000e+00 - val_loss: 0.0000e+00 - val_acc: 0.0000e+00\n",
      "50/50 - 3s - loss: 0.8387 - acc: 0.7185 - val_loss: 0.8629 - val_acc: 0.7303\n",
      "9/9 - 1s - loss: 0.4363 - acc: 0.8277 - val_loss: 0.6056 - val_acc: 0.7667\n",
      "42/42 - 2s - loss: 0.6078 - acc: 0.7924 - val_loss: 0.5981 - val_acc: 0.8020\n",
      "67/67 - 4s - loss: 0.8948 - acc: 0.6844 - val_loss: 0.8754 - val_acc: 0.7176\n",
      "44/44 - 2s - loss: 1.1498 - acc: 0.6554 - val_loss: 1.1580 - val_acc: 0.6375\n",
      "25/25 - 1s - loss: 0.7211 - acc: 0.7536 - val_loss: 0.7022 - val_acc: 0.7640\n",
      "15/15 - 1s - loss: 0.0000e+00 - acc: 0.0000e+00 - val_loss: 0.0000e+00 - val_acc: 0.0000e+00\n",
      "9/9 - 1s - loss: 0.3489 - acc: 0.8938 - val_loss: 0.3889 - val_acc: 0.8889\n",
      "starting to train on epoch 3\n",
      "495/495 - 27s - loss: 0.4589 - acc: 0.8590 - val_loss: 0.6252 - val_acc: 0.8230\n",
      "Here\n",
      "58/58 - 3s - loss: 1.0932 - acc: 0.6347 - val_loss: 1.0789 - val_acc: 0.6117\n",
      "18/18 - 1s - loss: 1.0078 - acc: 0.6303 - val_loss: 1.1402 - val_acc: 0.6190\n",
      "1/1 - 0s - loss: 0.0000e+00 - acc: 0.0000e+00 - val_loss: 0.0000e+00 - val_acc: 0.0000e+00\n",
      "1/1 - 0s - loss: 0.0000e+00 - acc: 0.0000e+00 - val_loss: 0.0000e+00 - val_acc: 0.0000e+00\n",
      "97/97 - 5s - loss: 1.3825 - acc: 0.5847 - val_loss: 1.3500 - val_acc: 0.5968\n",
      "15/15 - 1s - loss: 0.6745 - acc: 0.7899 - val_loss: 0.7143 - val_acc: 0.7549\n",
      "38/38 - 2s - loss: 0.4005 - acc: 0.8589 - val_loss: 0.3697 - val_acc: 0.8642\n",
      "14/14 - 1s - loss: 0.0000e+00 - acc: 0.0000e+00 - val_loss: 0.0000e+00 - val_acc: 0.0000e+00\n",
      "50/50 - 3s - loss: 0.7374 - acc: 0.7595 - val_loss: 0.7978 - val_acc: 0.7444\n",
      "9/9 - 1s - loss: 0.4231 - acc: 0.8221 - val_loss: 0.4102 - val_acc: 0.8167\n",
      "42/42 - 2s - loss: 0.5029 - acc: 0.8338 - val_loss: 0.5232 - val_acc: 0.8362\n",
      "67/67 - 4s - loss: 0.7765 - acc: 0.7302 - val_loss: 1.0186 - val_acc: 0.6221\n",
      "44/44 - 3s - loss: 1.0010 - acc: 0.6939 - val_loss: 1.1337 - val_acc: 0.6472\n",
      "25/25 - 2s - loss: 0.5767 - acc: 0.7944 - val_loss: 0.7246 - val_acc: 0.7584\n",
      "15/15 - 1s - loss: 0.0000e+00 - acc: 0.0000e+00 - val_loss: 0.0000e+00 - val_acc: 0.0000e+00\n",
      "9/9 - 1s - loss: 0.3090 - acc: 0.8991 - val_loss: 0.3161 - val_acc: 0.8889\n",
      "starting to train on epoch 4\n",
      "495/495 - 28s - loss: 0.4355 - acc: 0.8654 - val_loss: 0.6272 - val_acc: 0.8207\n",
      "Here\n",
      "58/58 - 3s - loss: 0.9970 - acc: 0.6601 - val_loss: 0.9816 - val_acc: 0.6529\n",
      "18/18 - 1s - loss: 0.8887 - acc: 0.6844 - val_loss: 1.0286 - val_acc: 0.6270\n",
      "1/1 - 0s - loss: 0.0000e+00 - acc: 0.0000e+00 - val_loss: 0.0000e+00 - val_acc: 0.0000e+00\n",
      "1/1 - 0s - loss: 0.0000e+00 - acc: 0.0000e+00 - val_loss: 0.0000e+00 - val_acc: 0.0000e+00\n",
      "97/97 - 5s - loss: 1.2323 - acc: 0.6275 - val_loss: 1.2588 - val_acc: 0.6157\n",
      "15/15 - 1s - loss: 0.5713 - acc: 0.8140 - val_loss: 0.6921 - val_acc: 0.7647\n",
      "38/38 - 2s - loss: 0.3206 - acc: 0.8975 - val_loss: 0.4037 - val_acc: 0.8679\n",
      "14/14 - 1s - loss: 0.0000e+00 - acc: 0.0000e+00 - val_loss: 0.0000e+00 - val_acc: 0.0000e+00\n",
      "50/50 - 3s - loss: 0.6589 - acc: 0.7760 - val_loss: 0.7607 - val_acc: 0.7669\n",
      "9/9 - 1s - loss: 0.3639 - acc: 0.8670 - val_loss: 0.3918 - val_acc: 0.8333\n",
      "42/42 - 2s - loss: 0.4324 - acc: 0.8574 - val_loss: 0.4324 - val_acc: 0.8601\n",
      "67/67 - 4s - loss: 0.6939 - acc: 0.7654 - val_loss: 0.8420 - val_acc: 0.7176\n",
      "44/44 - 2s - loss: 0.8928 - acc: 0.7234 - val_loss: 1.0995 - val_acc: 0.6602\n",
      "25/25 - 1s - loss: 0.5302 - acc: 0.8150 - val_loss: 0.6642 - val_acc: 0.8034\n",
      "15/15 - 1s - loss: 0.0000e+00 - acc: 0.0000e+00 - val_loss: 0.0000e+00 - val_acc: 0.0000e+00\n",
      "9/9 - 1s - loss: 0.2765 - acc: 0.9080 - val_loss: 0.2929 - val_acc: 0.9048\n",
      "starting to train on epoch 5\n",
      "495/495 - 27s - loss: 0.4169 - acc: 0.8720 - val_loss: 0.6101 - val_acc: 0.8281\n",
      "Here\n",
      "58/58 - 3s - loss: 0.9032 - acc: 0.6906 - val_loss: 0.9305 - val_acc: 0.6723\n",
      "18/18 - 1s - loss: 0.8143 - acc: 0.7110 - val_loss: 1.0066 - val_acc: 0.6190\n",
      "1/1 - 0s - loss: 0.0000e+00 - acc: 0.0000e+00 - val_loss: 0.0000e+00 - val_acc: 0.0000e+00\n",
      "1/1 - 0s - loss: 0.0000e+00 - acc: 0.0000e+00 - val_loss: 0.0000e+00 - val_acc: 0.0000e+00\n",
      "97/97 - 5s - loss: 1.0908 - acc: 0.6714 - val_loss: 1.3430 - val_acc: 0.5881\n",
      "15/15 - 1s - loss: 0.5104 - acc: 0.8381 - val_loss: 0.6735 - val_acc: 0.7941\n",
      "38/38 - 2s - loss: 0.2769 - acc: 0.9118 - val_loss: 0.3197 - val_acc: 0.8755\n",
      "14/14 - 1s - loss: 0.0000e+00 - acc: 0.0000e+00 - val_loss: 0.0000e+00 - val_acc: 0.0000e+00\n",
      "50/50 - 3s - loss: 0.5808 - acc: 0.8086 - val_loss: 0.7146 - val_acc: 0.7837\n",
      "9/9 - 1s - loss: 0.3521 - acc: 0.8596 - val_loss: 0.4278 - val_acc: 0.8833\n",
      "42/42 - 2s - loss: 0.3549 - acc: 0.8802 - val_loss: 0.5931 - val_acc: 0.8225\n",
      "67/67 - 4s - loss: 0.6206 - acc: 0.7848 - val_loss: 0.6810 - val_acc: 0.7919\n",
      "44/44 - 2s - loss: 0.8092 - acc: 0.7465 - val_loss: 0.9345 - val_acc: 0.7120\n",
      "25/25 - 2s - loss: 0.4650 - acc: 0.8382 - val_loss: 0.7657 - val_acc: 0.7360\n",
      "15/15 - 1s - loss: 0.0000e+00 - acc: 0.0000e+00 - val_loss: 0.0000e+00 - val_acc: 0.0000e+00\n",
      "9/9 - 1s - loss: 0.2398 - acc: 0.9221 - val_loss: 0.3142 - val_acc: 0.9048\n",
      "starting to train on epoch 6\n",
      "495/495 - 28s - loss: 0.3954 - acc: 0.8783 - val_loss: 0.6160 - val_acc: 0.8307\n",
      "Here\n",
      "58/58 - 3s - loss: 0.8181 - acc: 0.7219 - val_loss: 0.8683 - val_acc: 0.6942\n",
      "18/18 - 1s - loss: 0.7430 - acc: 0.7429 - val_loss: 0.9614 - val_acc: 0.6587\n",
      "1/1 - 0s - loss: 0.0000e+00 - acc: 0.0000e+00 - val_loss: 0.0000e+00 - val_acc: 0.0000e+00\n",
      "1/1 - 0s - loss: 0.0000e+00 - acc: 0.0000e+00 - val_loss: 0.0000e+00 - val_acc: 0.0000e+00\n",
      "97/97 - 5s - loss: 0.9975 - acc: 0.6983 - val_loss: 1.1514 - val_acc: 0.6215\n",
      "15/15 - 1s - loss: 0.4314 - acc: 0.8457 - val_loss: 0.4600 - val_acc: 0.8824\n",
      "38/38 - 2s - loss: 0.2397 - acc: 0.9244 - val_loss: 0.3564 - val_acc: 0.8830\n",
      "14/14 - 1s - loss: 0.0000e+00 - acc: 0.0000e+00 - val_loss: 0.0000e+00 - val_acc: 0.0000e+00\n",
      "50/50 - 3s - loss: 0.5296 - acc: 0.8283 - val_loss: 0.6486 - val_acc: 0.8062\n",
      "9/9 - 1s - loss: 0.3036 - acc: 0.8895 - val_loss: 0.3384 - val_acc: 0.8833\n",
      "42/42 - 2s - loss: 0.3134 - acc: 0.9015 - val_loss: 0.4152 - val_acc: 0.8737\n",
      "67/67 - 4s - loss: 0.5487 - acc: 0.8119 - val_loss: 0.7087 - val_acc: 0.7962\n",
      "44/44 - 2s - loss: 0.7208 - acc: 0.7749 - val_loss: 0.8869 - val_acc: 0.6861\n",
      "25/25 - 1s - loss: 0.4144 - acc: 0.8583 - val_loss: 0.5436 - val_acc: 0.8258\n",
      "15/15 - 1s - loss: 0.0000e+00 - acc: 0.0000e+00 - val_loss: 0.0000e+00 - val_acc: 0.0000e+00\n",
      "9/9 - 1s - loss: 0.1928 - acc: 0.9327 - val_loss: 0.4793 - val_acc: 0.9048\n",
      "starting to train on epoch 7\n",
      "495/495 - 27s - loss: 0.3794 - acc: 0.8839 - val_loss: 0.6163 - val_acc: 0.8301\n",
      "Here\n",
      "58/58 - 3s - loss: 0.7526 - acc: 0.7414 - val_loss: 0.8088 - val_acc: 0.7063\n",
      "18/18 - 1s - loss: 0.6708 - acc: 0.7589 - val_loss: 0.8821 - val_acc: 0.7063\n",
      "1/1 - 0s - loss: 0.0000e+00 - acc: 0.0000e+00 - val_loss: 0.0000e+00 - val_acc: 0.0000e+00\n",
      "1/1 - 0s - loss: 0.0000e+00 - acc: 0.0000e+00 - val_loss: 0.0000e+00 - val_acc: 0.0000e+00\n",
      "97/97 - 5s - loss: 0.9031 - acc: 0.7188 - val_loss: 1.1333 - val_acc: 0.6419\n",
      "15/15 - 1s - loss: 0.3781 - acc: 0.8709 - val_loss: 0.5963 - val_acc: 0.7941\n",
      "38/38 - 2s - loss: 0.2056 - acc: 0.9357 - val_loss: 0.2833 - val_acc: 0.8868\n",
      "14/14 - 1s - loss: 0.0000e+00 - acc: 0.0000e+00 - val_loss: 0.0000e+00 - val_acc: 0.0000e+00\n",
      "50/50 - 3s - loss: 0.4991 - acc: 0.8361 - val_loss: 0.6281 - val_acc: 0.8006\n",
      "9/9 - 1s - loss: 0.2675 - acc: 0.8914 - val_loss: 0.2964 - val_acc: 0.9000\n",
      "42/42 - 2s - loss: 0.2905 - acc: 0.9125 - val_loss: 0.4833 - val_acc: 0.8532\n",
      "67/67 - 4s - loss: 0.5076 - acc: 0.8289 - val_loss: 0.7294 - val_acc: 0.7877\n",
      "44/44 - 3s - loss: 0.6505 - acc: 0.7940 - val_loss: 0.8622 - val_acc: 0.7087\n",
      "25/25 - 1s - loss: 0.3880 - acc: 0.8677 - val_loss: 0.4970 - val_acc: 0.8427\n",
      "15/15 - 1s - loss: 0.0000e+00 - acc: 0.0000e+00 - val_loss: 0.0000e+00 - val_acc: 0.0000e+00\n",
      "9/9 - 1s - loss: 0.1904 - acc: 0.9363 - val_loss: 0.3081 - val_acc: 0.9048\n",
      "starting to train on epoch 8\n",
      "495/495 - 29s - loss: 0.3632 - acc: 0.8857 - val_loss: 0.6202 - val_acc: 0.8352\n",
      "Here\n",
      "58/58 - 4s - loss: 0.6851 - acc: 0.7632 - val_loss: 0.7637 - val_acc: 0.7257\n",
      "18/18 - 1s - loss: 0.6127 - acc: 0.7837 - val_loss: 0.8493 - val_acc: 0.7222\n",
      "1/1 - 0s - loss: 0.0000e+00 - acc: 0.0000e+00 - val_loss: 0.0000e+00 - val_acc: 0.0000e+00\n",
      "1/1 - 0s - loss: 0.0000e+00 - acc: 0.0000e+00 - val_loss: 0.0000e+00 - val_acc: 0.0000e+00\n",
      "97/97 - 5s - loss: 0.8415 - acc: 0.7391 - val_loss: 1.0650 - val_acc: 0.6681\n",
      "15/15 - 1s - loss: 0.3477 - acc: 0.8709 - val_loss: 0.5654 - val_acc: 0.8529\n",
      "38/38 - 2s - loss: 0.1836 - acc: 0.9408 - val_loss: 0.3183 - val_acc: 0.8717\n",
      "14/14 - 1s - loss: 0.0000e+00 - acc: 0.0000e+00 - val_loss: 0.0000e+00 - val_acc: 0.0000e+00\n",
      "50/50 - 3s - loss: 0.4499 - acc: 0.8502 - val_loss: 0.6353 - val_acc: 0.8230\n",
      "9/9 - 1s - loss: 0.2760 - acc: 0.9007 - val_loss: 0.2982 - val_acc: 0.9000\n",
      "42/42 - 2s - loss: 0.2530 - acc: 0.9160 - val_loss: 0.5305 - val_acc: 0.8430\n",
      "67/67 - 4s - loss: 0.4632 - acc: 0.8419 - val_loss: 0.6995 - val_acc: 0.7877\n",
      "44/44 - 3s - loss: 0.5949 - acc: 0.8163 - val_loss: 0.8660 - val_acc: 0.6990\n",
      "25/25 - 1s - loss: 0.3608 - acc: 0.8708 - val_loss: 0.5927 - val_acc: 0.7978\n",
      "15/15 - 1s - loss: 0.0000e+00 - acc: 0.0000e+00 - val_loss: 0.0000e+00 - val_acc: 0.0000e+00\n",
      "9/9 - 1s - loss: 0.1628 - acc: 0.9487 - val_loss: 0.3794 - val_acc: 0.9048\n",
      "starting to train on epoch 9\n",
      "495/495 - 28s - loss: 0.3517 - acc: 0.8900 - val_loss: 0.6297 - val_acc: 0.8335\n",
      "Here\n",
      "58/58 - 4s - loss: 0.6302 - acc: 0.7783 - val_loss: 0.7415 - val_acc: 0.7354\n",
      "18/18 - 1s - loss: 0.5491 - acc: 0.8183 - val_loss: 0.8788 - val_acc: 0.7063\n",
      "1/1 - 0s - loss: 0.0000e+00 - acc: 0.0000e+00 - val_loss: 0.0000e+00 - val_acc: 0.0000e+00\n",
      "1/1 - 0s - loss: 0.0000e+00 - acc: 0.0000e+00 - val_loss: 0.0000e+00 - val_acc: 0.0000e+00\n",
      "97/97 - 6s - loss: 0.7867 - acc: 0.7611 - val_loss: 1.0309 - val_acc: 0.6652\n",
      "15/15 - 1s - loss: 0.3362 - acc: 0.8731 - val_loss: 0.4237 - val_acc: 0.8824\n",
      "38/38 - 2s - loss: 0.1730 - acc: 0.9420 - val_loss: 0.2256 - val_acc: 0.9283\n",
      "14/14 - 1s - loss: 0.0000e+00 - acc: 0.0000e+00 - val_loss: 0.0000e+00 - val_acc: 0.0000e+00\n",
      "50/50 - 3s - loss: 0.4137 - acc: 0.8658 - val_loss: 0.6093 - val_acc: 0.8174\n",
      "9/9 - 1s - loss: 0.2553 - acc: 0.8970 - val_loss: 0.3025 - val_acc: 0.9000\n",
      "42/42 - 3s - loss: 0.2373 - acc: 0.9228 - val_loss: 0.4438 - val_acc: 0.8669\n",
      "67/67 - 4s - loss: 0.4287 - acc: 0.8475 - val_loss: 0.6509 - val_acc: 0.8068\n",
      "44/44 - 3s - loss: 0.5681 - acc: 0.8221 - val_loss: 0.8002 - val_acc: 0.7282\n",
      "25/25 - 2s - loss: 0.3369 - acc: 0.8777 - val_loss: 0.5319 - val_acc: 0.8258\n",
      "15/15 - 1s - loss: 0.0000e+00 - acc: 0.0000e+00 - val_loss: 0.0000e+00 - val_acc: 0.0000e+00\n",
      "9/9 - 1s - loss: 0.1383 - acc: 0.9558 - val_loss: 0.2539 - val_acc: 0.9048\n"
     ]
    }
   ],
   "source": [
    "epochs=10\n",
    "for epoch in range(epochs):\n",
    "    print(\"starting to train on epoch %d\"%epoch)\n",
    "    model.fit(test,test_dtrainY,validation_data=(test2,test_dvalY),\n",
    "              epochs=1,\n",
    "              verbose=2,\n",
    "              batch_size=batch_size_L1)\n",
    "    print(\"Here\")\n",
    "    for i in range(0, d_train.number_of_classes):\n",
    "        HDLTex1[i].fit(child[i], child_dtrainY[i],\n",
    "                          validation_data=(child2[i], child_valY[i]),\n",
    "                          epochs=1,\n",
    "                          verbose=2,\n",
    "                          batch_size=batch_size_L2)"
   ]
  },
  {
   "cell_type": "code",
   "execution_count": null,
   "metadata": {},
   "outputs": [],
   "source": []
  }
 ],
 "metadata": {
  "colab": {
   "collapsed_sections": [],
   "name": "Copy of Classification.ipynb",
   "provenance": []
  },
  "kernelspec": {
   "display_name": "Python 3",
   "language": "python",
   "name": "python3"
  },
  "language_info": {
   "codemirror_mode": {
    "name": "ipython",
    "version": 3
   },
   "file_extension": ".py",
   "mimetype": "text/x-python",
   "name": "python",
   "nbconvert_exporter": "python",
   "pygments_lexer": "ipython3",
   "version": "3.8.5"
  }
 },
 "nbformat": 4,
 "nbformat_minor": 1
}
